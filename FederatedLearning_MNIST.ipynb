{
  "nbformat": 4,
  "nbformat_minor": 0,
  "metadata": {
    "colab": {
      "name": "Copy of FederatedLearning_MNIST.ipynb",
      "provenance": [],
      "collapsed_sections": []
    },
    "kernelspec": {
      "name": "python3",
      "display_name": "Python 3"
    },
    "widgets": {
      "application/vnd.jupyter.widget-state+json": {
        "12ac56aa028c4f5c9365236ad4e42798": {
          "model_module": "@jupyter-widgets/controls",
          "model_name": "HBoxModel",
          "state": {
            "_view_name": "HBoxView",
            "_dom_classes": [],
            "_model_name": "HBoxModel",
            "_view_module": "@jupyter-widgets/controls",
            "_model_module_version": "1.5.0",
            "_view_count": null,
            "_view_module_version": "1.5.0",
            "box_style": "",
            "layout": "IPY_MODEL_cef074b0be4440b9997f15726fac8043",
            "_model_module": "@jupyter-widgets/controls",
            "children": [
              "IPY_MODEL_ba471fcb93eb49cbbc1be61698e02be8",
              "IPY_MODEL_d54d124366cd4d03849f47c833932feb"
            ]
          }
        },
        "cef074b0be4440b9997f15726fac8043": {
          "model_module": "@jupyter-widgets/base",
          "model_name": "LayoutModel",
          "state": {
            "_view_name": "LayoutView",
            "grid_template_rows": null,
            "right": null,
            "justify_content": null,
            "_view_module": "@jupyter-widgets/base",
            "overflow": null,
            "_model_module_version": "1.2.0",
            "_view_count": null,
            "flex_flow": null,
            "width": null,
            "min_width": null,
            "border": null,
            "align_items": null,
            "bottom": null,
            "_model_module": "@jupyter-widgets/base",
            "top": null,
            "grid_column": null,
            "overflow_y": null,
            "overflow_x": null,
            "grid_auto_flow": null,
            "grid_area": null,
            "grid_template_columns": null,
            "flex": null,
            "_model_name": "LayoutModel",
            "justify_items": null,
            "grid_row": null,
            "max_height": null,
            "align_content": null,
            "visibility": null,
            "align_self": null,
            "height": null,
            "min_height": null,
            "padding": null,
            "grid_auto_rows": null,
            "grid_gap": null,
            "max_width": null,
            "order": null,
            "_view_module_version": "1.2.0",
            "grid_template_areas": null,
            "object_position": null,
            "object_fit": null,
            "grid_auto_columns": null,
            "margin": null,
            "display": null,
            "left": null
          }
        },
        "ba471fcb93eb49cbbc1be61698e02be8": {
          "model_module": "@jupyter-widgets/controls",
          "model_name": "FloatProgressModel",
          "state": {
            "_view_name": "ProgressView",
            "style": "IPY_MODEL_1d0296dcc357408da864a08eff750449",
            "_dom_classes": [],
            "description": "",
            "_model_name": "FloatProgressModel",
            "bar_style": "success",
            "max": 1,
            "_view_module": "@jupyter-widgets/controls",
            "_model_module_version": "1.5.0",
            "value": 1,
            "_view_count": null,
            "_view_module_version": "1.5.0",
            "orientation": "horizontal",
            "min": 0,
            "description_tooltip": null,
            "_model_module": "@jupyter-widgets/controls",
            "layout": "IPY_MODEL_a33f87b417784ceaab9f0b46a8ea014d"
          }
        },
        "d54d124366cd4d03849f47c833932feb": {
          "model_module": "@jupyter-widgets/controls",
          "model_name": "HTMLModel",
          "state": {
            "_view_name": "HTMLView",
            "style": "IPY_MODEL_1b55e00551a04802a31ba1d239118895",
            "_dom_classes": [],
            "description": "",
            "_model_name": "HTMLModel",
            "placeholder": "​",
            "_view_module": "@jupyter-widgets/controls",
            "_model_module_version": "1.5.0",
            "value": " 9920512/? [00:08&lt;00:00, 1116036.95it/s]",
            "_view_count": null,
            "_view_module_version": "1.5.0",
            "description_tooltip": null,
            "_model_module": "@jupyter-widgets/controls",
            "layout": "IPY_MODEL_09ccbb200a1f406b8887475b8813a12b"
          }
        },
        "1d0296dcc357408da864a08eff750449": {
          "model_module": "@jupyter-widgets/controls",
          "model_name": "ProgressStyleModel",
          "state": {
            "_view_name": "StyleView",
            "_model_name": "ProgressStyleModel",
            "description_width": "initial",
            "_view_module": "@jupyter-widgets/base",
            "_model_module_version": "1.5.0",
            "_view_count": null,
            "_view_module_version": "1.2.0",
            "bar_color": null,
            "_model_module": "@jupyter-widgets/controls"
          }
        },
        "a33f87b417784ceaab9f0b46a8ea014d": {
          "model_module": "@jupyter-widgets/base",
          "model_name": "LayoutModel",
          "state": {
            "_view_name": "LayoutView",
            "grid_template_rows": null,
            "right": null,
            "justify_content": null,
            "_view_module": "@jupyter-widgets/base",
            "overflow": null,
            "_model_module_version": "1.2.0",
            "_view_count": null,
            "flex_flow": null,
            "width": null,
            "min_width": null,
            "border": null,
            "align_items": null,
            "bottom": null,
            "_model_module": "@jupyter-widgets/base",
            "top": null,
            "grid_column": null,
            "overflow_y": null,
            "overflow_x": null,
            "grid_auto_flow": null,
            "grid_area": null,
            "grid_template_columns": null,
            "flex": null,
            "_model_name": "LayoutModel",
            "justify_items": null,
            "grid_row": null,
            "max_height": null,
            "align_content": null,
            "visibility": null,
            "align_self": null,
            "height": null,
            "min_height": null,
            "padding": null,
            "grid_auto_rows": null,
            "grid_gap": null,
            "max_width": null,
            "order": null,
            "_view_module_version": "1.2.0",
            "grid_template_areas": null,
            "object_position": null,
            "object_fit": null,
            "grid_auto_columns": null,
            "margin": null,
            "display": null,
            "left": null
          }
        },
        "1b55e00551a04802a31ba1d239118895": {
          "model_module": "@jupyter-widgets/controls",
          "model_name": "DescriptionStyleModel",
          "state": {
            "_view_name": "StyleView",
            "_model_name": "DescriptionStyleModel",
            "description_width": "",
            "_view_module": "@jupyter-widgets/base",
            "_model_module_version": "1.5.0",
            "_view_count": null,
            "_view_module_version": "1.2.0",
            "_model_module": "@jupyter-widgets/controls"
          }
        },
        "09ccbb200a1f406b8887475b8813a12b": {
          "model_module": "@jupyter-widgets/base",
          "model_name": "LayoutModel",
          "state": {
            "_view_name": "LayoutView",
            "grid_template_rows": null,
            "right": null,
            "justify_content": null,
            "_view_module": "@jupyter-widgets/base",
            "overflow": null,
            "_model_module_version": "1.2.0",
            "_view_count": null,
            "flex_flow": null,
            "width": null,
            "min_width": null,
            "border": null,
            "align_items": null,
            "bottom": null,
            "_model_module": "@jupyter-widgets/base",
            "top": null,
            "grid_column": null,
            "overflow_y": null,
            "overflow_x": null,
            "grid_auto_flow": null,
            "grid_area": null,
            "grid_template_columns": null,
            "flex": null,
            "_model_name": "LayoutModel",
            "justify_items": null,
            "grid_row": null,
            "max_height": null,
            "align_content": null,
            "visibility": null,
            "align_self": null,
            "height": null,
            "min_height": null,
            "padding": null,
            "grid_auto_rows": null,
            "grid_gap": null,
            "max_width": null,
            "order": null,
            "_view_module_version": "1.2.0",
            "grid_template_areas": null,
            "object_position": null,
            "object_fit": null,
            "grid_auto_columns": null,
            "margin": null,
            "display": null,
            "left": null
          }
        },
        "cbabff21b9024468afb1fa071d7f3ad1": {
          "model_module": "@jupyter-widgets/controls",
          "model_name": "HBoxModel",
          "state": {
            "_view_name": "HBoxView",
            "_dom_classes": [],
            "_model_name": "HBoxModel",
            "_view_module": "@jupyter-widgets/controls",
            "_model_module_version": "1.5.0",
            "_view_count": null,
            "_view_module_version": "1.5.0",
            "box_style": "",
            "layout": "IPY_MODEL_8b9707dfb179439da2aeeba807522679",
            "_model_module": "@jupyter-widgets/controls",
            "children": [
              "IPY_MODEL_c7a3fd0afe104864b7dd07ee912467df",
              "IPY_MODEL_a5deeb05df684dbb980ae72e52608abd"
            ]
          }
        },
        "8b9707dfb179439da2aeeba807522679": {
          "model_module": "@jupyter-widgets/base",
          "model_name": "LayoutModel",
          "state": {
            "_view_name": "LayoutView",
            "grid_template_rows": null,
            "right": null,
            "justify_content": null,
            "_view_module": "@jupyter-widgets/base",
            "overflow": null,
            "_model_module_version": "1.2.0",
            "_view_count": null,
            "flex_flow": null,
            "width": null,
            "min_width": null,
            "border": null,
            "align_items": null,
            "bottom": null,
            "_model_module": "@jupyter-widgets/base",
            "top": null,
            "grid_column": null,
            "overflow_y": null,
            "overflow_x": null,
            "grid_auto_flow": null,
            "grid_area": null,
            "grid_template_columns": null,
            "flex": null,
            "_model_name": "LayoutModel",
            "justify_items": null,
            "grid_row": null,
            "max_height": null,
            "align_content": null,
            "visibility": null,
            "align_self": null,
            "height": null,
            "min_height": null,
            "padding": null,
            "grid_auto_rows": null,
            "grid_gap": null,
            "max_width": null,
            "order": null,
            "_view_module_version": "1.2.0",
            "grid_template_areas": null,
            "object_position": null,
            "object_fit": null,
            "grid_auto_columns": null,
            "margin": null,
            "display": null,
            "left": null
          }
        },
        "c7a3fd0afe104864b7dd07ee912467df": {
          "model_module": "@jupyter-widgets/controls",
          "model_name": "FloatProgressModel",
          "state": {
            "_view_name": "ProgressView",
            "style": "IPY_MODEL_07613c525f5d40d09de250002251793b",
            "_dom_classes": [],
            "description": "",
            "_model_name": "FloatProgressModel",
            "bar_style": "success",
            "max": 1,
            "_view_module": "@jupyter-widgets/controls",
            "_model_module_version": "1.5.0",
            "value": 1,
            "_view_count": null,
            "_view_module_version": "1.5.0",
            "orientation": "horizontal",
            "min": 0,
            "description_tooltip": null,
            "_model_module": "@jupyter-widgets/controls",
            "layout": "IPY_MODEL_c2e7bc21395040b6bc547ef2dd70086c"
          }
        },
        "a5deeb05df684dbb980ae72e52608abd": {
          "model_module": "@jupyter-widgets/controls",
          "model_name": "HTMLModel",
          "state": {
            "_view_name": "HTMLView",
            "style": "IPY_MODEL_0d75ccbfe744427f9272658eb3c31fa5",
            "_dom_classes": [],
            "description": "",
            "_model_name": "HTMLModel",
            "placeholder": "​",
            "_view_module": "@jupyter-widgets/controls",
            "_model_module_version": "1.5.0",
            "value": " 32768/? [00:00&lt;00:00, 73579.87it/s]",
            "_view_count": null,
            "_view_module_version": "1.5.0",
            "description_tooltip": null,
            "_model_module": "@jupyter-widgets/controls",
            "layout": "IPY_MODEL_2c5875d013d04e5691840334fa94ef8a"
          }
        },
        "07613c525f5d40d09de250002251793b": {
          "model_module": "@jupyter-widgets/controls",
          "model_name": "ProgressStyleModel",
          "state": {
            "_view_name": "StyleView",
            "_model_name": "ProgressStyleModel",
            "description_width": "initial",
            "_view_module": "@jupyter-widgets/base",
            "_model_module_version": "1.5.0",
            "_view_count": null,
            "_view_module_version": "1.2.0",
            "bar_color": null,
            "_model_module": "@jupyter-widgets/controls"
          }
        },
        "c2e7bc21395040b6bc547ef2dd70086c": {
          "model_module": "@jupyter-widgets/base",
          "model_name": "LayoutModel",
          "state": {
            "_view_name": "LayoutView",
            "grid_template_rows": null,
            "right": null,
            "justify_content": null,
            "_view_module": "@jupyter-widgets/base",
            "overflow": null,
            "_model_module_version": "1.2.0",
            "_view_count": null,
            "flex_flow": null,
            "width": null,
            "min_width": null,
            "border": null,
            "align_items": null,
            "bottom": null,
            "_model_module": "@jupyter-widgets/base",
            "top": null,
            "grid_column": null,
            "overflow_y": null,
            "overflow_x": null,
            "grid_auto_flow": null,
            "grid_area": null,
            "grid_template_columns": null,
            "flex": null,
            "_model_name": "LayoutModel",
            "justify_items": null,
            "grid_row": null,
            "max_height": null,
            "align_content": null,
            "visibility": null,
            "align_self": null,
            "height": null,
            "min_height": null,
            "padding": null,
            "grid_auto_rows": null,
            "grid_gap": null,
            "max_width": null,
            "order": null,
            "_view_module_version": "1.2.0",
            "grid_template_areas": null,
            "object_position": null,
            "object_fit": null,
            "grid_auto_columns": null,
            "margin": null,
            "display": null,
            "left": null
          }
        },
        "0d75ccbfe744427f9272658eb3c31fa5": {
          "model_module": "@jupyter-widgets/controls",
          "model_name": "DescriptionStyleModel",
          "state": {
            "_view_name": "StyleView",
            "_model_name": "DescriptionStyleModel",
            "description_width": "",
            "_view_module": "@jupyter-widgets/base",
            "_model_module_version": "1.5.0",
            "_view_count": null,
            "_view_module_version": "1.2.0",
            "_model_module": "@jupyter-widgets/controls"
          }
        },
        "2c5875d013d04e5691840334fa94ef8a": {
          "model_module": "@jupyter-widgets/base",
          "model_name": "LayoutModel",
          "state": {
            "_view_name": "LayoutView",
            "grid_template_rows": null,
            "right": null,
            "justify_content": null,
            "_view_module": "@jupyter-widgets/base",
            "overflow": null,
            "_model_module_version": "1.2.0",
            "_view_count": null,
            "flex_flow": null,
            "width": null,
            "min_width": null,
            "border": null,
            "align_items": null,
            "bottom": null,
            "_model_module": "@jupyter-widgets/base",
            "top": null,
            "grid_column": null,
            "overflow_y": null,
            "overflow_x": null,
            "grid_auto_flow": null,
            "grid_area": null,
            "grid_template_columns": null,
            "flex": null,
            "_model_name": "LayoutModel",
            "justify_items": null,
            "grid_row": null,
            "max_height": null,
            "align_content": null,
            "visibility": null,
            "align_self": null,
            "height": null,
            "min_height": null,
            "padding": null,
            "grid_auto_rows": null,
            "grid_gap": null,
            "max_width": null,
            "order": null,
            "_view_module_version": "1.2.0",
            "grid_template_areas": null,
            "object_position": null,
            "object_fit": null,
            "grid_auto_columns": null,
            "margin": null,
            "display": null,
            "left": null
          }
        },
        "cb958e0c877a40fb9a08eb067951756b": {
          "model_module": "@jupyter-widgets/controls",
          "model_name": "HBoxModel",
          "state": {
            "_view_name": "HBoxView",
            "_dom_classes": [],
            "_model_name": "HBoxModel",
            "_view_module": "@jupyter-widgets/controls",
            "_model_module_version": "1.5.0",
            "_view_count": null,
            "_view_module_version": "1.5.0",
            "box_style": "",
            "layout": "IPY_MODEL_352e9d0daba64914b67f9ff9d5fabde0",
            "_model_module": "@jupyter-widgets/controls",
            "children": [
              "IPY_MODEL_c3e5da4cd34948a6a89a0a1c77e45078",
              "IPY_MODEL_ca0917f1758c4e97809c1b657539290d"
            ]
          }
        },
        "352e9d0daba64914b67f9ff9d5fabde0": {
          "model_module": "@jupyter-widgets/base",
          "model_name": "LayoutModel",
          "state": {
            "_view_name": "LayoutView",
            "grid_template_rows": null,
            "right": null,
            "justify_content": null,
            "_view_module": "@jupyter-widgets/base",
            "overflow": null,
            "_model_module_version": "1.2.0",
            "_view_count": null,
            "flex_flow": null,
            "width": null,
            "min_width": null,
            "border": null,
            "align_items": null,
            "bottom": null,
            "_model_module": "@jupyter-widgets/base",
            "top": null,
            "grid_column": null,
            "overflow_y": null,
            "overflow_x": null,
            "grid_auto_flow": null,
            "grid_area": null,
            "grid_template_columns": null,
            "flex": null,
            "_model_name": "LayoutModel",
            "justify_items": null,
            "grid_row": null,
            "max_height": null,
            "align_content": null,
            "visibility": null,
            "align_self": null,
            "height": null,
            "min_height": null,
            "padding": null,
            "grid_auto_rows": null,
            "grid_gap": null,
            "max_width": null,
            "order": null,
            "_view_module_version": "1.2.0",
            "grid_template_areas": null,
            "object_position": null,
            "object_fit": null,
            "grid_auto_columns": null,
            "margin": null,
            "display": null,
            "left": null
          }
        },
        "c3e5da4cd34948a6a89a0a1c77e45078": {
          "model_module": "@jupyter-widgets/controls",
          "model_name": "FloatProgressModel",
          "state": {
            "_view_name": "ProgressView",
            "style": "IPY_MODEL_1d2b4d4590c04f07b8de593677aae601",
            "_dom_classes": [],
            "description": "",
            "_model_name": "FloatProgressModel",
            "bar_style": "success",
            "max": 1,
            "_view_module": "@jupyter-widgets/controls",
            "_model_module_version": "1.5.0",
            "value": 1,
            "_view_count": null,
            "_view_module_version": "1.5.0",
            "orientation": "horizontal",
            "min": 0,
            "description_tooltip": null,
            "_model_module": "@jupyter-widgets/controls",
            "layout": "IPY_MODEL_81658137146d448ab0850d99cd434917"
          }
        },
        "ca0917f1758c4e97809c1b657539290d": {
          "model_module": "@jupyter-widgets/controls",
          "model_name": "HTMLModel",
          "state": {
            "_view_name": "HTMLView",
            "style": "IPY_MODEL_18a16c7bd18145fc85fc6e09bbc66918",
            "_dom_classes": [],
            "description": "",
            "_model_name": "HTMLModel",
            "placeholder": "​",
            "_view_module": "@jupyter-widgets/controls",
            "_model_module_version": "1.5.0",
            "value": " 1654784/? [00:00&lt;00:00, 4973459.86it/s]",
            "_view_count": null,
            "_view_module_version": "1.5.0",
            "description_tooltip": null,
            "_model_module": "@jupyter-widgets/controls",
            "layout": "IPY_MODEL_563d710c3d354741a9986eb83a997cec"
          }
        },
        "1d2b4d4590c04f07b8de593677aae601": {
          "model_module": "@jupyter-widgets/controls",
          "model_name": "ProgressStyleModel",
          "state": {
            "_view_name": "StyleView",
            "_model_name": "ProgressStyleModel",
            "description_width": "initial",
            "_view_module": "@jupyter-widgets/base",
            "_model_module_version": "1.5.0",
            "_view_count": null,
            "_view_module_version": "1.2.0",
            "bar_color": null,
            "_model_module": "@jupyter-widgets/controls"
          }
        },
        "81658137146d448ab0850d99cd434917": {
          "model_module": "@jupyter-widgets/base",
          "model_name": "LayoutModel",
          "state": {
            "_view_name": "LayoutView",
            "grid_template_rows": null,
            "right": null,
            "justify_content": null,
            "_view_module": "@jupyter-widgets/base",
            "overflow": null,
            "_model_module_version": "1.2.0",
            "_view_count": null,
            "flex_flow": null,
            "width": null,
            "min_width": null,
            "border": null,
            "align_items": null,
            "bottom": null,
            "_model_module": "@jupyter-widgets/base",
            "top": null,
            "grid_column": null,
            "overflow_y": null,
            "overflow_x": null,
            "grid_auto_flow": null,
            "grid_area": null,
            "grid_template_columns": null,
            "flex": null,
            "_model_name": "LayoutModel",
            "justify_items": null,
            "grid_row": null,
            "max_height": null,
            "align_content": null,
            "visibility": null,
            "align_self": null,
            "height": null,
            "min_height": null,
            "padding": null,
            "grid_auto_rows": null,
            "grid_gap": null,
            "max_width": null,
            "order": null,
            "_view_module_version": "1.2.0",
            "grid_template_areas": null,
            "object_position": null,
            "object_fit": null,
            "grid_auto_columns": null,
            "margin": null,
            "display": null,
            "left": null
          }
        },
        "18a16c7bd18145fc85fc6e09bbc66918": {
          "model_module": "@jupyter-widgets/controls",
          "model_name": "DescriptionStyleModel",
          "state": {
            "_view_name": "StyleView",
            "_model_name": "DescriptionStyleModel",
            "description_width": "",
            "_view_module": "@jupyter-widgets/base",
            "_model_module_version": "1.5.0",
            "_view_count": null,
            "_view_module_version": "1.2.0",
            "_model_module": "@jupyter-widgets/controls"
          }
        },
        "563d710c3d354741a9986eb83a997cec": {
          "model_module": "@jupyter-widgets/base",
          "model_name": "LayoutModel",
          "state": {
            "_view_name": "LayoutView",
            "grid_template_rows": null,
            "right": null,
            "justify_content": null,
            "_view_module": "@jupyter-widgets/base",
            "overflow": null,
            "_model_module_version": "1.2.0",
            "_view_count": null,
            "flex_flow": null,
            "width": null,
            "min_width": null,
            "border": null,
            "align_items": null,
            "bottom": null,
            "_model_module": "@jupyter-widgets/base",
            "top": null,
            "grid_column": null,
            "overflow_y": null,
            "overflow_x": null,
            "grid_auto_flow": null,
            "grid_area": null,
            "grid_template_columns": null,
            "flex": null,
            "_model_name": "LayoutModel",
            "justify_items": null,
            "grid_row": null,
            "max_height": null,
            "align_content": null,
            "visibility": null,
            "align_self": null,
            "height": null,
            "min_height": null,
            "padding": null,
            "grid_auto_rows": null,
            "grid_gap": null,
            "max_width": null,
            "order": null,
            "_view_module_version": "1.2.0",
            "grid_template_areas": null,
            "object_position": null,
            "object_fit": null,
            "grid_auto_columns": null,
            "margin": null,
            "display": null,
            "left": null
          }
        },
        "18c208c6306242d9acc6b37e4a395b7a": {
          "model_module": "@jupyter-widgets/controls",
          "model_name": "HBoxModel",
          "state": {
            "_view_name": "HBoxView",
            "_dom_classes": [],
            "_model_name": "HBoxModel",
            "_view_module": "@jupyter-widgets/controls",
            "_model_module_version": "1.5.0",
            "_view_count": null,
            "_view_module_version": "1.5.0",
            "box_style": "",
            "layout": "IPY_MODEL_fb90de23a88b4a2ab925da3fe9b9a5d9",
            "_model_module": "@jupyter-widgets/controls",
            "children": [
              "IPY_MODEL_f0d85977cf114393be149adc3fd481cc",
              "IPY_MODEL_a12b969837ad46f894d69c2e77b1aa4e"
            ]
          }
        },
        "fb90de23a88b4a2ab925da3fe9b9a5d9": {
          "model_module": "@jupyter-widgets/base",
          "model_name": "LayoutModel",
          "state": {
            "_view_name": "LayoutView",
            "grid_template_rows": null,
            "right": null,
            "justify_content": null,
            "_view_module": "@jupyter-widgets/base",
            "overflow": null,
            "_model_module_version": "1.2.0",
            "_view_count": null,
            "flex_flow": null,
            "width": null,
            "min_width": null,
            "border": null,
            "align_items": null,
            "bottom": null,
            "_model_module": "@jupyter-widgets/base",
            "top": null,
            "grid_column": null,
            "overflow_y": null,
            "overflow_x": null,
            "grid_auto_flow": null,
            "grid_area": null,
            "grid_template_columns": null,
            "flex": null,
            "_model_name": "LayoutModel",
            "justify_items": null,
            "grid_row": null,
            "max_height": null,
            "align_content": null,
            "visibility": null,
            "align_self": null,
            "height": null,
            "min_height": null,
            "padding": null,
            "grid_auto_rows": null,
            "grid_gap": null,
            "max_width": null,
            "order": null,
            "_view_module_version": "1.2.0",
            "grid_template_areas": null,
            "object_position": null,
            "object_fit": null,
            "grid_auto_columns": null,
            "margin": null,
            "display": null,
            "left": null
          }
        },
        "f0d85977cf114393be149adc3fd481cc": {
          "model_module": "@jupyter-widgets/controls",
          "model_name": "FloatProgressModel",
          "state": {
            "_view_name": "ProgressView",
            "style": "IPY_MODEL_a020967809f24d34aa54113c84cdbeaa",
            "_dom_classes": [],
            "description": "",
            "_model_name": "FloatProgressModel",
            "bar_style": "success",
            "max": 1,
            "_view_module": "@jupyter-widgets/controls",
            "_model_module_version": "1.5.0",
            "value": 1,
            "_view_count": null,
            "_view_module_version": "1.5.0",
            "orientation": "horizontal",
            "min": 0,
            "description_tooltip": null,
            "_model_module": "@jupyter-widgets/controls",
            "layout": "IPY_MODEL_da8b0ad72dc944779f25495f11a073a2"
          }
        },
        "a12b969837ad46f894d69c2e77b1aa4e": {
          "model_module": "@jupyter-widgets/controls",
          "model_name": "HTMLModel",
          "state": {
            "_view_name": "HTMLView",
            "style": "IPY_MODEL_c09b4d1b1d3c44aca034a02d7b860de5",
            "_dom_classes": [],
            "description": "",
            "_model_name": "HTMLModel",
            "placeholder": "​",
            "_view_module": "@jupyter-widgets/controls",
            "_model_module_version": "1.5.0",
            "value": " 8192/? [00:07&lt;00:00, 1066.41it/s]",
            "_view_count": null,
            "_view_module_version": "1.5.0",
            "description_tooltip": null,
            "_model_module": "@jupyter-widgets/controls",
            "layout": "IPY_MODEL_84fa49905a334f16a378c0cddc1b8652"
          }
        },
        "a020967809f24d34aa54113c84cdbeaa": {
          "model_module": "@jupyter-widgets/controls",
          "model_name": "ProgressStyleModel",
          "state": {
            "_view_name": "StyleView",
            "_model_name": "ProgressStyleModel",
            "description_width": "initial",
            "_view_module": "@jupyter-widgets/base",
            "_model_module_version": "1.5.0",
            "_view_count": null,
            "_view_module_version": "1.2.0",
            "bar_color": null,
            "_model_module": "@jupyter-widgets/controls"
          }
        },
        "da8b0ad72dc944779f25495f11a073a2": {
          "model_module": "@jupyter-widgets/base",
          "model_name": "LayoutModel",
          "state": {
            "_view_name": "LayoutView",
            "grid_template_rows": null,
            "right": null,
            "justify_content": null,
            "_view_module": "@jupyter-widgets/base",
            "overflow": null,
            "_model_module_version": "1.2.0",
            "_view_count": null,
            "flex_flow": null,
            "width": null,
            "min_width": null,
            "border": null,
            "align_items": null,
            "bottom": null,
            "_model_module": "@jupyter-widgets/base",
            "top": null,
            "grid_column": null,
            "overflow_y": null,
            "overflow_x": null,
            "grid_auto_flow": null,
            "grid_area": null,
            "grid_template_columns": null,
            "flex": null,
            "_model_name": "LayoutModel",
            "justify_items": null,
            "grid_row": null,
            "max_height": null,
            "align_content": null,
            "visibility": null,
            "align_self": null,
            "height": null,
            "min_height": null,
            "padding": null,
            "grid_auto_rows": null,
            "grid_gap": null,
            "max_width": null,
            "order": null,
            "_view_module_version": "1.2.0",
            "grid_template_areas": null,
            "object_position": null,
            "object_fit": null,
            "grid_auto_columns": null,
            "margin": null,
            "display": null,
            "left": null
          }
        },
        "c09b4d1b1d3c44aca034a02d7b860de5": {
          "model_module": "@jupyter-widgets/controls",
          "model_name": "DescriptionStyleModel",
          "state": {
            "_view_name": "StyleView",
            "_model_name": "DescriptionStyleModel",
            "description_width": "",
            "_view_module": "@jupyter-widgets/base",
            "_model_module_version": "1.5.0",
            "_view_count": null,
            "_view_module_version": "1.2.0",
            "_model_module": "@jupyter-widgets/controls"
          }
        },
        "84fa49905a334f16a378c0cddc1b8652": {
          "model_module": "@jupyter-widgets/base",
          "model_name": "LayoutModel",
          "state": {
            "_view_name": "LayoutView",
            "grid_template_rows": null,
            "right": null,
            "justify_content": null,
            "_view_module": "@jupyter-widgets/base",
            "overflow": null,
            "_model_module_version": "1.2.0",
            "_view_count": null,
            "flex_flow": null,
            "width": null,
            "min_width": null,
            "border": null,
            "align_items": null,
            "bottom": null,
            "_model_module": "@jupyter-widgets/base",
            "top": null,
            "grid_column": null,
            "overflow_y": null,
            "overflow_x": null,
            "grid_auto_flow": null,
            "grid_area": null,
            "grid_template_columns": null,
            "flex": null,
            "_model_name": "LayoutModel",
            "justify_items": null,
            "grid_row": null,
            "max_height": null,
            "align_content": null,
            "visibility": null,
            "align_self": null,
            "height": null,
            "min_height": null,
            "padding": null,
            "grid_auto_rows": null,
            "grid_gap": null,
            "max_width": null,
            "order": null,
            "_view_module_version": "1.2.0",
            "grid_template_areas": null,
            "object_position": null,
            "object_fit": null,
            "grid_auto_columns": null,
            "margin": null,
            "display": null,
            "left": null
          }
        },
        "63b7a142eb004f4ea892902b07580aa4": {
          "model_module": "@jupyter-widgets/controls",
          "model_name": "HBoxModel",
          "state": {
            "_view_name": "HBoxView",
            "_dom_classes": [],
            "_model_name": "HBoxModel",
            "_view_module": "@jupyter-widgets/controls",
            "_model_module_version": "1.5.0",
            "_view_count": null,
            "_view_module_version": "1.5.0",
            "box_style": "",
            "layout": "IPY_MODEL_95abdef4e14d495bad9e11623a57d2bd",
            "_model_module": "@jupyter-widgets/controls",
            "children": [
              "IPY_MODEL_85ee06ab5bb04f159a86bb6b5e48f0f7",
              "IPY_MODEL_cf86138b74a04d2c8ef1382d157a1418"
            ]
          }
        },
        "95abdef4e14d495bad9e11623a57d2bd": {
          "model_module": "@jupyter-widgets/base",
          "model_name": "LayoutModel",
          "state": {
            "_view_name": "LayoutView",
            "grid_template_rows": null,
            "right": null,
            "justify_content": null,
            "_view_module": "@jupyter-widgets/base",
            "overflow": null,
            "_model_module_version": "1.2.0",
            "_view_count": null,
            "flex_flow": null,
            "width": null,
            "min_width": null,
            "border": null,
            "align_items": null,
            "bottom": null,
            "_model_module": "@jupyter-widgets/base",
            "top": null,
            "grid_column": null,
            "overflow_y": null,
            "overflow_x": null,
            "grid_auto_flow": null,
            "grid_area": null,
            "grid_template_columns": null,
            "flex": null,
            "_model_name": "LayoutModel",
            "justify_items": null,
            "grid_row": null,
            "max_height": null,
            "align_content": null,
            "visibility": null,
            "align_self": null,
            "height": null,
            "min_height": null,
            "padding": null,
            "grid_auto_rows": null,
            "grid_gap": null,
            "max_width": null,
            "order": null,
            "_view_module_version": "1.2.0",
            "grid_template_areas": null,
            "object_position": null,
            "object_fit": null,
            "grid_auto_columns": null,
            "margin": null,
            "display": null,
            "left": null
          }
        },
        "85ee06ab5bb04f159a86bb6b5e48f0f7": {
          "model_module": "@jupyter-widgets/controls",
          "model_name": "FloatProgressModel",
          "state": {
            "_view_name": "ProgressView",
            "style": "IPY_MODEL_2d2364c161ed42dba998a330acb2fe58",
            "_dom_classes": [],
            "description": "Tabulating datasets: 100%",
            "_model_name": "FloatProgressModel",
            "bar_style": "success",
            "max": 2,
            "_view_module": "@jupyter-widgets/controls",
            "_model_module_version": "1.5.0",
            "value": 2,
            "_view_count": null,
            "_view_module_version": "1.5.0",
            "orientation": "horizontal",
            "min": 0,
            "description_tooltip": null,
            "_model_module": "@jupyter-widgets/controls",
            "layout": "IPY_MODEL_93c466a5e11e460ab32cfc603de79fb6"
          }
        },
        "cf86138b74a04d2c8ef1382d157a1418": {
          "model_module": "@jupyter-widgets/controls",
          "model_name": "HTMLModel",
          "state": {
            "_view_name": "HTMLView",
            "style": "IPY_MODEL_2087b02d137945409479f20138b433c3",
            "_dom_classes": [],
            "description": "",
            "_model_name": "HTMLModel",
            "placeholder": "​",
            "_view_module": "@jupyter-widgets/controls",
            "_model_module_version": "1.5.0",
            "value": " 2/2 [09:17&lt;00:00, 278.94s/it]",
            "_view_count": null,
            "_view_module_version": "1.5.0",
            "description_tooltip": null,
            "_model_module": "@jupyter-widgets/controls",
            "layout": "IPY_MODEL_9e555ef8b6eb4955a96b7c5b50eac596"
          }
        },
        "2d2364c161ed42dba998a330acb2fe58": {
          "model_module": "@jupyter-widgets/controls",
          "model_name": "ProgressStyleModel",
          "state": {
            "_view_name": "StyleView",
            "_model_name": "ProgressStyleModel",
            "description_width": "initial",
            "_view_module": "@jupyter-widgets/base",
            "_model_module_version": "1.5.0",
            "_view_count": null,
            "_view_module_version": "1.2.0",
            "bar_color": null,
            "_model_module": "@jupyter-widgets/controls"
          }
        },
        "93c466a5e11e460ab32cfc603de79fb6": {
          "model_module": "@jupyter-widgets/base",
          "model_name": "LayoutModel",
          "state": {
            "_view_name": "LayoutView",
            "grid_template_rows": null,
            "right": null,
            "justify_content": null,
            "_view_module": "@jupyter-widgets/base",
            "overflow": null,
            "_model_module_version": "1.2.0",
            "_view_count": null,
            "flex_flow": null,
            "width": null,
            "min_width": null,
            "border": null,
            "align_items": null,
            "bottom": null,
            "_model_module": "@jupyter-widgets/base",
            "top": null,
            "grid_column": null,
            "overflow_y": null,
            "overflow_x": null,
            "grid_auto_flow": null,
            "grid_area": null,
            "grid_template_columns": null,
            "flex": null,
            "_model_name": "LayoutModel",
            "justify_items": null,
            "grid_row": null,
            "max_height": null,
            "align_content": null,
            "visibility": null,
            "align_self": null,
            "height": null,
            "min_height": null,
            "padding": null,
            "grid_auto_rows": null,
            "grid_gap": null,
            "max_width": null,
            "order": null,
            "_view_module_version": "1.2.0",
            "grid_template_areas": null,
            "object_position": null,
            "object_fit": null,
            "grid_auto_columns": null,
            "margin": null,
            "display": null,
            "left": null
          }
        },
        "2087b02d137945409479f20138b433c3": {
          "model_module": "@jupyter-widgets/controls",
          "model_name": "DescriptionStyleModel",
          "state": {
            "_view_name": "StyleView",
            "_model_name": "DescriptionStyleModel",
            "description_width": "",
            "_view_module": "@jupyter-widgets/base",
            "_model_module_version": "1.5.0",
            "_view_count": null,
            "_view_module_version": "1.2.0",
            "_model_module": "@jupyter-widgets/controls"
          }
        },
        "9e555ef8b6eb4955a96b7c5b50eac596": {
          "model_module": "@jupyter-widgets/base",
          "model_name": "LayoutModel",
          "state": {
            "_view_name": "LayoutView",
            "grid_template_rows": null,
            "right": null,
            "justify_content": null,
            "_view_module": "@jupyter-widgets/base",
            "overflow": null,
            "_model_module_version": "1.2.0",
            "_view_count": null,
            "flex_flow": null,
            "width": null,
            "min_width": null,
            "border": null,
            "align_items": null,
            "bottom": null,
            "_model_module": "@jupyter-widgets/base",
            "top": null,
            "grid_column": null,
            "overflow_y": null,
            "overflow_x": null,
            "grid_auto_flow": null,
            "grid_area": null,
            "grid_template_columns": null,
            "flex": null,
            "_model_name": "LayoutModel",
            "justify_items": null,
            "grid_row": null,
            "max_height": null,
            "align_content": null,
            "visibility": null,
            "align_self": null,
            "height": null,
            "min_height": null,
            "padding": null,
            "grid_auto_rows": null,
            "grid_gap": null,
            "max_width": null,
            "order": null,
            "_view_module_version": "1.2.0",
            "grid_template_areas": null,
            "object_position": null,
            "object_fit": null,
            "grid_auto_columns": null,
            "margin": null,
            "display": null,
            "left": null
          }
        },
        "f266c64379044f9abde5f5d5f205c556": {
          "model_module": "@jupyter-widgets/controls",
          "model_name": "HBoxModel",
          "state": {
            "_view_name": "HBoxView",
            "_dom_classes": [],
            "_model_name": "HBoxModel",
            "_view_module": "@jupyter-widgets/controls",
            "_model_module_version": "1.5.0",
            "_view_count": null,
            "_view_module_version": "1.5.0",
            "box_style": "",
            "layout": "IPY_MODEL_c7fe31b885e542f5acc1cd52217e2576",
            "_model_module": "@jupyter-widgets/controls",
            "children": [
              "IPY_MODEL_8da528433be548249296ca9f8bc64002",
              "IPY_MODEL_ee5cdc1657294691af789cd28954cdcc"
            ]
          }
        },
        "c7fe31b885e542f5acc1cd52217e2576": {
          "model_module": "@jupyter-widgets/base",
          "model_name": "LayoutModel",
          "state": {
            "_view_name": "LayoutView",
            "grid_template_rows": null,
            "right": null,
            "justify_content": null,
            "_view_module": "@jupyter-widgets/base",
            "overflow": null,
            "_model_module_version": "1.2.0",
            "_view_count": null,
            "flex_flow": null,
            "width": null,
            "min_width": null,
            "border": null,
            "align_items": null,
            "bottom": null,
            "_model_module": "@jupyter-widgets/base",
            "top": null,
            "grid_column": null,
            "overflow_y": null,
            "overflow_x": null,
            "grid_auto_flow": null,
            "grid_area": null,
            "grid_template_columns": null,
            "flex": null,
            "_model_name": "LayoutModel",
            "justify_items": null,
            "grid_row": null,
            "max_height": null,
            "align_content": null,
            "visibility": null,
            "align_self": null,
            "height": null,
            "min_height": null,
            "padding": null,
            "grid_auto_rows": null,
            "grid_gap": null,
            "max_width": null,
            "order": null,
            "_view_module_version": "1.2.0",
            "grid_template_areas": null,
            "object_position": null,
            "object_fit": null,
            "grid_auto_columns": null,
            "margin": null,
            "display": null,
            "left": null
          }
        },
        "8da528433be548249296ca9f8bc64002": {
          "model_module": "@jupyter-widgets/controls",
          "model_name": "FloatProgressModel",
          "state": {
            "_view_name": "ProgressView",
            "style": "IPY_MODEL_75a1d5120a474da59c05c97f031549ef",
            "_dom_classes": [],
            "description": "100%",
            "_model_name": "FloatProgressModel",
            "bar_style": "success",
            "max": 10,
            "_view_module": "@jupyter-widgets/controls",
            "_model_module_version": "1.5.0",
            "value": 10,
            "_view_count": null,
            "_view_module_version": "1.5.0",
            "orientation": "horizontal",
            "min": 0,
            "description_tooltip": null,
            "_model_module": "@jupyter-widgets/controls",
            "layout": "IPY_MODEL_f1ba48be3f6145219d734a0ea1d8c9b8"
          }
        },
        "ee5cdc1657294691af789cd28954cdcc": {
          "model_module": "@jupyter-widgets/controls",
          "model_name": "HTMLModel",
          "state": {
            "_view_name": "HTMLView",
            "style": "IPY_MODEL_1a2f60ca026c4be9b0e153fc50065112",
            "_dom_classes": [],
            "description": "",
            "_model_name": "HTMLModel",
            "placeholder": "​",
            "_view_module": "@jupyter-widgets/controls",
            "_model_module_version": "1.5.0",
            "value": " 10/10 [04:22&lt;00:00, 26.25s/it]",
            "_view_count": null,
            "_view_module_version": "1.5.0",
            "description_tooltip": null,
            "_model_module": "@jupyter-widgets/controls",
            "layout": "IPY_MODEL_be0f05444e74421db4b6ada771a4f284"
          }
        },
        "75a1d5120a474da59c05c97f031549ef": {
          "model_module": "@jupyter-widgets/controls",
          "model_name": "ProgressStyleModel",
          "state": {
            "_view_name": "StyleView",
            "_model_name": "ProgressStyleModel",
            "description_width": "initial",
            "_view_module": "@jupyter-widgets/base",
            "_model_module_version": "1.5.0",
            "_view_count": null,
            "_view_module_version": "1.2.0",
            "bar_color": null,
            "_model_module": "@jupyter-widgets/controls"
          }
        },
        "f1ba48be3f6145219d734a0ea1d8c9b8": {
          "model_module": "@jupyter-widgets/base",
          "model_name": "LayoutModel",
          "state": {
            "_view_name": "LayoutView",
            "grid_template_rows": null,
            "right": null,
            "justify_content": null,
            "_view_module": "@jupyter-widgets/base",
            "overflow": null,
            "_model_module_version": "1.2.0",
            "_view_count": null,
            "flex_flow": null,
            "width": null,
            "min_width": null,
            "border": null,
            "align_items": null,
            "bottom": null,
            "_model_module": "@jupyter-widgets/base",
            "top": null,
            "grid_column": null,
            "overflow_y": null,
            "overflow_x": null,
            "grid_auto_flow": null,
            "grid_area": null,
            "grid_template_columns": null,
            "flex": null,
            "_model_name": "LayoutModel",
            "justify_items": null,
            "grid_row": null,
            "max_height": null,
            "align_content": null,
            "visibility": null,
            "align_self": null,
            "height": null,
            "min_height": null,
            "padding": null,
            "grid_auto_rows": null,
            "grid_gap": null,
            "max_width": null,
            "order": null,
            "_view_module_version": "1.2.0",
            "grid_template_areas": null,
            "object_position": null,
            "object_fit": null,
            "grid_auto_columns": null,
            "margin": null,
            "display": null,
            "left": null
          }
        },
        "1a2f60ca026c4be9b0e153fc50065112": {
          "model_module": "@jupyter-widgets/controls",
          "model_name": "DescriptionStyleModel",
          "state": {
            "_view_name": "StyleView",
            "_model_name": "DescriptionStyleModel",
            "description_width": "",
            "_view_module": "@jupyter-widgets/base",
            "_model_module_version": "1.5.0",
            "_view_count": null,
            "_view_module_version": "1.2.0",
            "_model_module": "@jupyter-widgets/controls"
          }
        },
        "be0f05444e74421db4b6ada771a4f284": {
          "model_module": "@jupyter-widgets/base",
          "model_name": "LayoutModel",
          "state": {
            "_view_name": "LayoutView",
            "grid_template_rows": null,
            "right": null,
            "justify_content": null,
            "_view_module": "@jupyter-widgets/base",
            "overflow": null,
            "_model_module_version": "1.2.0",
            "_view_count": null,
            "flex_flow": null,
            "width": null,
            "min_width": null,
            "border": null,
            "align_items": null,
            "bottom": null,
            "_model_module": "@jupyter-widgets/base",
            "top": null,
            "grid_column": null,
            "overflow_y": null,
            "overflow_x": null,
            "grid_auto_flow": null,
            "grid_area": null,
            "grid_template_columns": null,
            "flex": null,
            "_model_name": "LayoutModel",
            "justify_items": null,
            "grid_row": null,
            "max_height": null,
            "align_content": null,
            "visibility": null,
            "align_self": null,
            "height": null,
            "min_height": null,
            "padding": null,
            "grid_auto_rows": null,
            "grid_gap": null,
            "max_width": null,
            "order": null,
            "_view_module_version": "1.2.0",
            "grid_template_areas": null,
            "object_position": null,
            "object_fit": null,
            "grid_auto_columns": null,
            "margin": null,
            "display": null,
            "left": null
          }
        },
        "70997cd8ada644c281c0e243d1fcd223": {
          "model_module": "@jupyter-widgets/controls",
          "model_name": "HBoxModel",
          "state": {
            "_view_name": "HBoxView",
            "_dom_classes": [],
            "_model_name": "HBoxModel",
            "_view_module": "@jupyter-widgets/controls",
            "_model_module_version": "1.5.0",
            "_view_count": null,
            "_view_module_version": "1.5.0",
            "box_style": "",
            "layout": "IPY_MODEL_5fba6c48c5c5466b918de64aa792fdfa",
            "_model_module": "@jupyter-widgets/controls",
            "children": [
              "IPY_MODEL_d1a72a5adb06485295a71faa03c8805c",
              "IPY_MODEL_2591d4f7ab5a4c32ab5c679a3297c88d"
            ]
          }
        },
        "5fba6c48c5c5466b918de64aa792fdfa": {
          "model_module": "@jupyter-widgets/base",
          "model_name": "LayoutModel",
          "state": {
            "_view_name": "LayoutView",
            "grid_template_rows": null,
            "right": null,
            "justify_content": null,
            "_view_module": "@jupyter-widgets/base",
            "overflow": null,
            "_model_module_version": "1.2.0",
            "_view_count": null,
            "flex_flow": null,
            "width": null,
            "min_width": null,
            "border": null,
            "align_items": null,
            "bottom": null,
            "_model_module": "@jupyter-widgets/base",
            "top": null,
            "grid_column": null,
            "overflow_y": null,
            "overflow_x": null,
            "grid_auto_flow": null,
            "grid_area": null,
            "grid_template_columns": null,
            "flex": null,
            "_model_name": "LayoutModel",
            "justify_items": null,
            "grid_row": null,
            "max_height": null,
            "align_content": null,
            "visibility": null,
            "align_self": null,
            "height": null,
            "min_height": null,
            "padding": null,
            "grid_auto_rows": null,
            "grid_gap": null,
            "max_width": null,
            "order": null,
            "_view_module_version": "1.2.0",
            "grid_template_areas": null,
            "object_position": null,
            "object_fit": null,
            "grid_auto_columns": null,
            "margin": null,
            "display": null,
            "left": null
          }
        },
        "d1a72a5adb06485295a71faa03c8805c": {
          "model_module": "@jupyter-widgets/controls",
          "model_name": "FloatProgressModel",
          "state": {
            "_view_name": "ProgressView",
            "style": "IPY_MODEL_ff08c2ad8091462aa557090973238976",
            "_dom_classes": [],
            "description": "Tabulating datasets: 100%",
            "_model_name": "FloatProgressModel",
            "bar_style": "success",
            "max": 10,
            "_view_module": "@jupyter-widgets/controls",
            "_model_module_version": "1.5.0",
            "value": 10,
            "_view_count": null,
            "_view_module_version": "1.5.0",
            "orientation": "horizontal",
            "min": 0,
            "description_tooltip": null,
            "_model_module": "@jupyter-widgets/controls",
            "layout": "IPY_MODEL_93eda39cc47f4ea9b177014eb436f04f"
          }
        },
        "2591d4f7ab5a4c32ab5c679a3297c88d": {
          "model_module": "@jupyter-widgets/controls",
          "model_name": "HTMLModel",
          "state": {
            "_view_name": "HTMLView",
            "style": "IPY_MODEL_db8dff095217454391a4bb5e68dd08ff",
            "_dom_classes": [],
            "description": "",
            "_model_name": "HTMLModel",
            "placeholder": "​",
            "_view_module": "@jupyter-widgets/controls",
            "_model_module_version": "1.5.0",
            "value": " 10/10 [00:11&lt;00:00,  1.15s/it]",
            "_view_count": null,
            "_view_module_version": "1.5.0",
            "description_tooltip": null,
            "_model_module": "@jupyter-widgets/controls",
            "layout": "IPY_MODEL_043bca509550400c8b2687dd552c7701"
          }
        },
        "ff08c2ad8091462aa557090973238976": {
          "model_module": "@jupyter-widgets/controls",
          "model_name": "ProgressStyleModel",
          "state": {
            "_view_name": "StyleView",
            "_model_name": "ProgressStyleModel",
            "description_width": "initial",
            "_view_module": "@jupyter-widgets/base",
            "_model_module_version": "1.5.0",
            "_view_count": null,
            "_view_module_version": "1.2.0",
            "bar_color": null,
            "_model_module": "@jupyter-widgets/controls"
          }
        },
        "93eda39cc47f4ea9b177014eb436f04f": {
          "model_module": "@jupyter-widgets/base",
          "model_name": "LayoutModel",
          "state": {
            "_view_name": "LayoutView",
            "grid_template_rows": null,
            "right": null,
            "justify_content": null,
            "_view_module": "@jupyter-widgets/base",
            "overflow": null,
            "_model_module_version": "1.2.0",
            "_view_count": null,
            "flex_flow": null,
            "width": null,
            "min_width": null,
            "border": null,
            "align_items": null,
            "bottom": null,
            "_model_module": "@jupyter-widgets/base",
            "top": null,
            "grid_column": null,
            "overflow_y": null,
            "overflow_x": null,
            "grid_auto_flow": null,
            "grid_area": null,
            "grid_template_columns": null,
            "flex": null,
            "_model_name": "LayoutModel",
            "justify_items": null,
            "grid_row": null,
            "max_height": null,
            "align_content": null,
            "visibility": null,
            "align_self": null,
            "height": null,
            "min_height": null,
            "padding": null,
            "grid_auto_rows": null,
            "grid_gap": null,
            "max_width": null,
            "order": null,
            "_view_module_version": "1.2.0",
            "grid_template_areas": null,
            "object_position": null,
            "object_fit": null,
            "grid_auto_columns": null,
            "margin": null,
            "display": null,
            "left": null
          }
        },
        "db8dff095217454391a4bb5e68dd08ff": {
          "model_module": "@jupyter-widgets/controls",
          "model_name": "DescriptionStyleModel",
          "state": {
            "_view_name": "StyleView",
            "_model_name": "DescriptionStyleModel",
            "description_width": "",
            "_view_module": "@jupyter-widgets/base",
            "_model_module_version": "1.5.0",
            "_view_count": null,
            "_view_module_version": "1.2.0",
            "_model_module": "@jupyter-widgets/controls"
          }
        },
        "043bca509550400c8b2687dd552c7701": {
          "model_module": "@jupyter-widgets/base",
          "model_name": "LayoutModel",
          "state": {
            "_view_name": "LayoutView",
            "grid_template_rows": null,
            "right": null,
            "justify_content": null,
            "_view_module": "@jupyter-widgets/base",
            "overflow": null,
            "_model_module_version": "1.2.0",
            "_view_count": null,
            "flex_flow": null,
            "width": null,
            "min_width": null,
            "border": null,
            "align_items": null,
            "bottom": null,
            "_model_module": "@jupyter-widgets/base",
            "top": null,
            "grid_column": null,
            "overflow_y": null,
            "overflow_x": null,
            "grid_auto_flow": null,
            "grid_area": null,
            "grid_template_columns": null,
            "flex": null,
            "_model_name": "LayoutModel",
            "justify_items": null,
            "grid_row": null,
            "max_height": null,
            "align_content": null,
            "visibility": null,
            "align_self": null,
            "height": null,
            "min_height": null,
            "padding": null,
            "grid_auto_rows": null,
            "grid_gap": null,
            "max_width": null,
            "order": null,
            "_view_module_version": "1.2.0",
            "grid_template_areas": null,
            "object_position": null,
            "object_fit": null,
            "grid_auto_columns": null,
            "margin": null,
            "display": null,
            "left": null
          }
        },
        "174e821f782c4c61b62e8bcc4e9ef1ea": {
          "model_module": "@jupyter-widgets/controls",
          "model_name": "HBoxModel",
          "state": {
            "_view_name": "HBoxView",
            "_dom_classes": [],
            "_model_name": "HBoxModel",
            "_view_module": "@jupyter-widgets/controls",
            "_model_module_version": "1.5.0",
            "_view_count": null,
            "_view_module_version": "1.5.0",
            "box_style": "",
            "layout": "IPY_MODEL_063b1396974a45c6962e40bc97cc7e4f",
            "_model_module": "@jupyter-widgets/controls",
            "children": [
              "IPY_MODEL_ab760eb358504621960db1bc6efce1e1",
              "IPY_MODEL_66832a8b60c0449c848afff89b47e699"
            ]
          }
        },
        "063b1396974a45c6962e40bc97cc7e4f": {
          "model_module": "@jupyter-widgets/base",
          "model_name": "LayoutModel",
          "state": {
            "_view_name": "LayoutView",
            "grid_template_rows": null,
            "right": null,
            "justify_content": null,
            "_view_module": "@jupyter-widgets/base",
            "overflow": null,
            "_model_module_version": "1.2.0",
            "_view_count": null,
            "flex_flow": null,
            "width": null,
            "min_width": null,
            "border": null,
            "align_items": null,
            "bottom": null,
            "_model_module": "@jupyter-widgets/base",
            "top": null,
            "grid_column": null,
            "overflow_y": null,
            "overflow_x": null,
            "grid_auto_flow": null,
            "grid_area": null,
            "grid_template_columns": null,
            "flex": null,
            "_model_name": "LayoutModel",
            "justify_items": null,
            "grid_row": null,
            "max_height": null,
            "align_content": null,
            "visibility": null,
            "align_self": null,
            "height": null,
            "min_height": null,
            "padding": null,
            "grid_auto_rows": null,
            "grid_gap": null,
            "max_width": null,
            "order": null,
            "_view_module_version": "1.2.0",
            "grid_template_areas": null,
            "object_position": null,
            "object_fit": null,
            "grid_auto_columns": null,
            "margin": null,
            "display": null,
            "left": null
          }
        },
        "ab760eb358504621960db1bc6efce1e1": {
          "model_module": "@jupyter-widgets/controls",
          "model_name": "FloatProgressModel",
          "state": {
            "_view_name": "ProgressView",
            "style": "IPY_MODEL_a994bbf01ba54ff1a6af91cc9258a216",
            "_dom_classes": [],
            "description": "Rounds: 100%",
            "_model_name": "FloatProgressModel",
            "bar_style": "success",
            "max": 10,
            "_view_module": "@jupyter-widgets/controls",
            "_model_module_version": "1.5.0",
            "value": 10,
            "_view_count": null,
            "_view_module_version": "1.5.0",
            "orientation": "horizontal",
            "min": 0,
            "description_tooltip": null,
            "_model_module": "@jupyter-widgets/controls",
            "layout": "IPY_MODEL_67810704e40049ed9eb7b4b0b4aea892"
          }
        },
        "66832a8b60c0449c848afff89b47e699": {
          "model_module": "@jupyter-widgets/controls",
          "model_name": "HTMLModel",
          "state": {
            "_view_name": "HTMLView",
            "style": "IPY_MODEL_bd1e18d8715e4a01ae57a6be27af4c97",
            "_dom_classes": [],
            "description": "",
            "_model_name": "HTMLModel",
            "placeholder": "​",
            "_view_module": "@jupyter-widgets/controls",
            "_model_module_version": "1.5.0",
            "value": " 10/10 [02:50&lt;00:00, 17.08s/it]",
            "_view_count": null,
            "_view_module_version": "1.5.0",
            "description_tooltip": null,
            "_model_module": "@jupyter-widgets/controls",
            "layout": "IPY_MODEL_0cfe579c5d0a473cb2f96a1f638e37fd"
          }
        },
        "a994bbf01ba54ff1a6af91cc9258a216": {
          "model_module": "@jupyter-widgets/controls",
          "model_name": "ProgressStyleModel",
          "state": {
            "_view_name": "StyleView",
            "_model_name": "ProgressStyleModel",
            "description_width": "initial",
            "_view_module": "@jupyter-widgets/base",
            "_model_module_version": "1.5.0",
            "_view_count": null,
            "_view_module_version": "1.2.0",
            "bar_color": null,
            "_model_module": "@jupyter-widgets/controls"
          }
        },
        "67810704e40049ed9eb7b4b0b4aea892": {
          "model_module": "@jupyter-widgets/base",
          "model_name": "LayoutModel",
          "state": {
            "_view_name": "LayoutView",
            "grid_template_rows": null,
            "right": null,
            "justify_content": null,
            "_view_module": "@jupyter-widgets/base",
            "overflow": null,
            "_model_module_version": "1.2.0",
            "_view_count": null,
            "flex_flow": null,
            "width": null,
            "min_width": null,
            "border": null,
            "align_items": null,
            "bottom": null,
            "_model_module": "@jupyter-widgets/base",
            "top": null,
            "grid_column": null,
            "overflow_y": null,
            "overflow_x": null,
            "grid_auto_flow": null,
            "grid_area": null,
            "grid_template_columns": null,
            "flex": null,
            "_model_name": "LayoutModel",
            "justify_items": null,
            "grid_row": null,
            "max_height": null,
            "align_content": null,
            "visibility": null,
            "align_self": null,
            "height": null,
            "min_height": null,
            "padding": null,
            "grid_auto_rows": null,
            "grid_gap": null,
            "max_width": null,
            "order": null,
            "_view_module_version": "1.2.0",
            "grid_template_areas": null,
            "object_position": null,
            "object_fit": null,
            "grid_auto_columns": null,
            "margin": null,
            "display": null,
            "left": null
          }
        },
        "bd1e18d8715e4a01ae57a6be27af4c97": {
          "model_module": "@jupyter-widgets/controls",
          "model_name": "DescriptionStyleModel",
          "state": {
            "_view_name": "StyleView",
            "_model_name": "DescriptionStyleModel",
            "description_width": "",
            "_view_module": "@jupyter-widgets/base",
            "_model_module_version": "1.5.0",
            "_view_count": null,
            "_view_module_version": "1.2.0",
            "_model_module": "@jupyter-widgets/controls"
          }
        },
        "0cfe579c5d0a473cb2f96a1f638e37fd": {
          "model_module": "@jupyter-widgets/base",
          "model_name": "LayoutModel",
          "state": {
            "_view_name": "LayoutView",
            "grid_template_rows": null,
            "right": null,
            "justify_content": null,
            "_view_module": "@jupyter-widgets/base",
            "overflow": null,
            "_model_module_version": "1.2.0",
            "_view_count": null,
            "flex_flow": null,
            "width": null,
            "min_width": null,
            "border": null,
            "align_items": null,
            "bottom": null,
            "_model_module": "@jupyter-widgets/base",
            "top": null,
            "grid_column": null,
            "overflow_y": null,
            "overflow_x": null,
            "grid_auto_flow": null,
            "grid_area": null,
            "grid_template_columns": null,
            "flex": null,
            "_model_name": "LayoutModel",
            "justify_items": null,
            "grid_row": null,
            "max_height": null,
            "align_content": null,
            "visibility": null,
            "align_self": null,
            "height": null,
            "min_height": null,
            "padding": null,
            "grid_auto_rows": null,
            "grid_gap": null,
            "max_width": null,
            "order": null,
            "_view_module_version": "1.2.0",
            "grid_template_areas": null,
            "object_position": null,
            "object_fit": null,
            "grid_auto_columns": null,
            "margin": null,
            "display": null,
            "left": null
          }
        },
        "91d60266b851446a8c93e709d576d9b0": {
          "model_module": "@jupyter-widgets/controls",
          "model_name": "HBoxModel",
          "state": {
            "_view_name": "HBoxView",
            "_dom_classes": [],
            "_model_name": "HBoxModel",
            "_view_module": "@jupyter-widgets/controls",
            "_model_module_version": "1.5.0",
            "_view_count": null,
            "_view_module_version": "1.5.0",
            "box_style": "",
            "layout": "IPY_MODEL_cee49f986e1e4e0fbd06487280c4649d",
            "_model_module": "@jupyter-widgets/controls",
            "children": [
              "IPY_MODEL_addf72540a004d31ad66f28119350357",
              "IPY_MODEL_ed0e7e92ad644e26b50f5aa621e74f1c"
            ]
          }
        },
        "cee49f986e1e4e0fbd06487280c4649d": {
          "model_module": "@jupyter-widgets/base",
          "model_name": "LayoutModel",
          "state": {
            "_view_name": "LayoutView",
            "grid_template_rows": null,
            "right": null,
            "justify_content": null,
            "_view_module": "@jupyter-widgets/base",
            "overflow": null,
            "_model_module_version": "1.2.0",
            "_view_count": null,
            "flex_flow": null,
            "width": null,
            "min_width": null,
            "border": null,
            "align_items": null,
            "bottom": null,
            "_model_module": "@jupyter-widgets/base",
            "top": null,
            "grid_column": null,
            "overflow_y": null,
            "overflow_x": null,
            "grid_auto_flow": null,
            "grid_area": null,
            "grid_template_columns": null,
            "flex": null,
            "_model_name": "LayoutModel",
            "justify_items": null,
            "grid_row": null,
            "max_height": null,
            "align_content": null,
            "visibility": null,
            "align_self": null,
            "height": null,
            "min_height": null,
            "padding": null,
            "grid_auto_rows": null,
            "grid_gap": null,
            "max_width": null,
            "order": null,
            "_view_module_version": "1.2.0",
            "grid_template_areas": null,
            "object_position": null,
            "object_fit": null,
            "grid_auto_columns": null,
            "margin": null,
            "display": null,
            "left": null
          }
        },
        "addf72540a004d31ad66f28119350357": {
          "model_module": "@jupyter-widgets/controls",
          "model_name": "FloatProgressModel",
          "state": {
            "_view_name": "ProgressView",
            "style": "IPY_MODEL_86959e37698e4cffb80882ce080c63e3",
            "_dom_classes": [],
            "description": "Tabulating datasets: 100%",
            "_model_name": "FloatProgressModel",
            "bar_style": "success",
            "max": 10,
            "_view_module": "@jupyter-widgets/controls",
            "_model_module_version": "1.5.0",
            "value": 10,
            "_view_count": null,
            "_view_module_version": "1.5.0",
            "orientation": "horizontal",
            "min": 0,
            "description_tooltip": null,
            "_model_module": "@jupyter-widgets/controls",
            "layout": "IPY_MODEL_a70b1eec7f314ccaa0a26a39b469aff1"
          }
        },
        "ed0e7e92ad644e26b50f5aa621e74f1c": {
          "model_module": "@jupyter-widgets/controls",
          "model_name": "HTMLModel",
          "state": {
            "_view_name": "HTMLView",
            "style": "IPY_MODEL_0de45b85d5ea4e9c958f248bbed5dfda",
            "_dom_classes": [],
            "description": "",
            "_model_name": "HTMLModel",
            "placeholder": "​",
            "_view_module": "@jupyter-widgets/controls",
            "_model_module_version": "1.5.0",
            "value": " 10/10 [00:18&lt;00:00,  1.90s/it]",
            "_view_count": null,
            "_view_module_version": "1.5.0",
            "description_tooltip": null,
            "_model_module": "@jupyter-widgets/controls",
            "layout": "IPY_MODEL_b4c945cfcbcc495ab1a415d982797959"
          }
        },
        "86959e37698e4cffb80882ce080c63e3": {
          "model_module": "@jupyter-widgets/controls",
          "model_name": "ProgressStyleModel",
          "state": {
            "_view_name": "StyleView",
            "_model_name": "ProgressStyleModel",
            "description_width": "initial",
            "_view_module": "@jupyter-widgets/base",
            "_model_module_version": "1.5.0",
            "_view_count": null,
            "_view_module_version": "1.2.0",
            "bar_color": null,
            "_model_module": "@jupyter-widgets/controls"
          }
        },
        "a70b1eec7f314ccaa0a26a39b469aff1": {
          "model_module": "@jupyter-widgets/base",
          "model_name": "LayoutModel",
          "state": {
            "_view_name": "LayoutView",
            "grid_template_rows": null,
            "right": null,
            "justify_content": null,
            "_view_module": "@jupyter-widgets/base",
            "overflow": null,
            "_model_module_version": "1.2.0",
            "_view_count": null,
            "flex_flow": null,
            "width": null,
            "min_width": null,
            "border": null,
            "align_items": null,
            "bottom": null,
            "_model_module": "@jupyter-widgets/base",
            "top": null,
            "grid_column": null,
            "overflow_y": null,
            "overflow_x": null,
            "grid_auto_flow": null,
            "grid_area": null,
            "grid_template_columns": null,
            "flex": null,
            "_model_name": "LayoutModel",
            "justify_items": null,
            "grid_row": null,
            "max_height": null,
            "align_content": null,
            "visibility": null,
            "align_self": null,
            "height": null,
            "min_height": null,
            "padding": null,
            "grid_auto_rows": null,
            "grid_gap": null,
            "max_width": null,
            "order": null,
            "_view_module_version": "1.2.0",
            "grid_template_areas": null,
            "object_position": null,
            "object_fit": null,
            "grid_auto_columns": null,
            "margin": null,
            "display": null,
            "left": null
          }
        },
        "0de45b85d5ea4e9c958f248bbed5dfda": {
          "model_module": "@jupyter-widgets/controls",
          "model_name": "DescriptionStyleModel",
          "state": {
            "_view_name": "StyleView",
            "_model_name": "DescriptionStyleModel",
            "description_width": "",
            "_view_module": "@jupyter-widgets/base",
            "_model_module_version": "1.5.0",
            "_view_count": null,
            "_view_module_version": "1.2.0",
            "_model_module": "@jupyter-widgets/controls"
          }
        },
        "b4c945cfcbcc495ab1a415d982797959": {
          "model_module": "@jupyter-widgets/base",
          "model_name": "LayoutModel",
          "state": {
            "_view_name": "LayoutView",
            "grid_template_rows": null,
            "right": null,
            "justify_content": null,
            "_view_module": "@jupyter-widgets/base",
            "overflow": null,
            "_model_module_version": "1.2.0",
            "_view_count": null,
            "flex_flow": null,
            "width": null,
            "min_width": null,
            "border": null,
            "align_items": null,
            "bottom": null,
            "_model_module": "@jupyter-widgets/base",
            "top": null,
            "grid_column": null,
            "overflow_y": null,
            "overflow_x": null,
            "grid_auto_flow": null,
            "grid_area": null,
            "grid_template_columns": null,
            "flex": null,
            "_model_name": "LayoutModel",
            "justify_items": null,
            "grid_row": null,
            "max_height": null,
            "align_content": null,
            "visibility": null,
            "align_self": null,
            "height": null,
            "min_height": null,
            "padding": null,
            "grid_auto_rows": null,
            "grid_gap": null,
            "max_width": null,
            "order": null,
            "_view_module_version": "1.2.0",
            "grid_template_areas": null,
            "object_position": null,
            "object_fit": null,
            "grid_auto_columns": null,
            "margin": null,
            "display": null,
            "left": null
          }
        },
        "e2e71181276843fb83bef147bcc3dd4e": {
          "model_module": "@jupyter-widgets/controls",
          "model_name": "HBoxModel",
          "state": {
            "_view_name": "HBoxView",
            "_dom_classes": [],
            "_model_name": "HBoxModel",
            "_view_module": "@jupyter-widgets/controls",
            "_model_module_version": "1.5.0",
            "_view_count": null,
            "_view_module_version": "1.5.0",
            "box_style": "",
            "layout": "IPY_MODEL_2d13cc8d21c742399565f97835d7df15",
            "_model_module": "@jupyter-widgets/controls",
            "children": [
              "IPY_MODEL_e461767c802b498c8b240f3535dfad9d",
              "IPY_MODEL_e2c1915b4c034f3eb42ad71cb5954ed9"
            ]
          }
        },
        "2d13cc8d21c742399565f97835d7df15": {
          "model_module": "@jupyter-widgets/base",
          "model_name": "LayoutModel",
          "state": {
            "_view_name": "LayoutView",
            "grid_template_rows": null,
            "right": null,
            "justify_content": null,
            "_view_module": "@jupyter-widgets/base",
            "overflow": null,
            "_model_module_version": "1.2.0",
            "_view_count": null,
            "flex_flow": null,
            "width": null,
            "min_width": null,
            "border": null,
            "align_items": null,
            "bottom": null,
            "_model_module": "@jupyter-widgets/base",
            "top": null,
            "grid_column": null,
            "overflow_y": null,
            "overflow_x": null,
            "grid_auto_flow": null,
            "grid_area": null,
            "grid_template_columns": null,
            "flex": null,
            "_model_name": "LayoutModel",
            "justify_items": null,
            "grid_row": null,
            "max_height": null,
            "align_content": null,
            "visibility": null,
            "align_self": null,
            "height": null,
            "min_height": null,
            "padding": null,
            "grid_auto_rows": null,
            "grid_gap": null,
            "max_width": null,
            "order": null,
            "_view_module_version": "1.2.0",
            "grid_template_areas": null,
            "object_position": null,
            "object_fit": null,
            "grid_auto_columns": null,
            "margin": null,
            "display": null,
            "left": null
          }
        },
        "e461767c802b498c8b240f3535dfad9d": {
          "model_module": "@jupyter-widgets/controls",
          "model_name": "FloatProgressModel",
          "state": {
            "_view_name": "ProgressView",
            "style": "IPY_MODEL_9e0d7bced0bc49aa86d50337ac4eeae2",
            "_dom_classes": [],
            "description": "Rounds: 100%",
            "_model_name": "FloatProgressModel",
            "bar_style": "success",
            "max": 10,
            "_view_module": "@jupyter-widgets/controls",
            "_model_module_version": "1.5.0",
            "value": 10,
            "_view_count": null,
            "_view_module_version": "1.5.0",
            "orientation": "horizontal",
            "min": 0,
            "description_tooltip": null,
            "_model_module": "@jupyter-widgets/controls",
            "layout": "IPY_MODEL_a4ba6b484a2244eda50168f8834bd351"
          }
        },
        "e2c1915b4c034f3eb42ad71cb5954ed9": {
          "model_module": "@jupyter-widgets/controls",
          "model_name": "HTMLModel",
          "state": {
            "_view_name": "HTMLView",
            "style": "IPY_MODEL_03a291647ca449e48f46096387d54b5e",
            "_dom_classes": [],
            "description": "",
            "_model_name": "HTMLModel",
            "placeholder": "​",
            "_view_module": "@jupyter-widgets/controls",
            "_model_module_version": "1.5.0",
            "value": " 10/10 [08:58&lt;00:00, 53.82s/it]",
            "_view_count": null,
            "_view_module_version": "1.5.0",
            "description_tooltip": null,
            "_model_module": "@jupyter-widgets/controls",
            "layout": "IPY_MODEL_3ce4071e07df4d6399b713178f59a354"
          }
        },
        "9e0d7bced0bc49aa86d50337ac4eeae2": {
          "model_module": "@jupyter-widgets/controls",
          "model_name": "ProgressStyleModel",
          "state": {
            "_view_name": "StyleView",
            "_model_name": "ProgressStyleModel",
            "description_width": "initial",
            "_view_module": "@jupyter-widgets/base",
            "_model_module_version": "1.5.0",
            "_view_count": null,
            "_view_module_version": "1.2.0",
            "bar_color": null,
            "_model_module": "@jupyter-widgets/controls"
          }
        },
        "a4ba6b484a2244eda50168f8834bd351": {
          "model_module": "@jupyter-widgets/base",
          "model_name": "LayoutModel",
          "state": {
            "_view_name": "LayoutView",
            "grid_template_rows": null,
            "right": null,
            "justify_content": null,
            "_view_module": "@jupyter-widgets/base",
            "overflow": null,
            "_model_module_version": "1.2.0",
            "_view_count": null,
            "flex_flow": null,
            "width": null,
            "min_width": null,
            "border": null,
            "align_items": null,
            "bottom": null,
            "_model_module": "@jupyter-widgets/base",
            "top": null,
            "grid_column": null,
            "overflow_y": null,
            "overflow_x": null,
            "grid_auto_flow": null,
            "grid_area": null,
            "grid_template_columns": null,
            "flex": null,
            "_model_name": "LayoutModel",
            "justify_items": null,
            "grid_row": null,
            "max_height": null,
            "align_content": null,
            "visibility": null,
            "align_self": null,
            "height": null,
            "min_height": null,
            "padding": null,
            "grid_auto_rows": null,
            "grid_gap": null,
            "max_width": null,
            "order": null,
            "_view_module_version": "1.2.0",
            "grid_template_areas": null,
            "object_position": null,
            "object_fit": null,
            "grid_auto_columns": null,
            "margin": null,
            "display": null,
            "left": null
          }
        },
        "03a291647ca449e48f46096387d54b5e": {
          "model_module": "@jupyter-widgets/controls",
          "model_name": "DescriptionStyleModel",
          "state": {
            "_view_name": "StyleView",
            "_model_name": "DescriptionStyleModel",
            "description_width": "",
            "_view_module": "@jupyter-widgets/base",
            "_model_module_version": "1.5.0",
            "_view_count": null,
            "_view_module_version": "1.2.0",
            "_model_module": "@jupyter-widgets/controls"
          }
        },
        "3ce4071e07df4d6399b713178f59a354": {
          "model_module": "@jupyter-widgets/base",
          "model_name": "LayoutModel",
          "state": {
            "_view_name": "LayoutView",
            "grid_template_rows": null,
            "right": null,
            "justify_content": null,
            "_view_module": "@jupyter-widgets/base",
            "overflow": null,
            "_model_module_version": "1.2.0",
            "_view_count": null,
            "flex_flow": null,
            "width": null,
            "min_width": null,
            "border": null,
            "align_items": null,
            "bottom": null,
            "_model_module": "@jupyter-widgets/base",
            "top": null,
            "grid_column": null,
            "overflow_y": null,
            "overflow_x": null,
            "grid_auto_flow": null,
            "grid_area": null,
            "grid_template_columns": null,
            "flex": null,
            "_model_name": "LayoutModel",
            "justify_items": null,
            "grid_row": null,
            "max_height": null,
            "align_content": null,
            "visibility": null,
            "align_self": null,
            "height": null,
            "min_height": null,
            "padding": null,
            "grid_auto_rows": null,
            "grid_gap": null,
            "max_width": null,
            "order": null,
            "_view_module_version": "1.2.0",
            "grid_template_areas": null,
            "object_position": null,
            "object_fit": null,
            "grid_auto_columns": null,
            "margin": null,
            "display": null,
            "left": null
          }
        },
        "7e03ac71917b4e0eac8fa802eac9bd84": {
          "model_module": "@jupyter-widgets/controls",
          "model_name": "HBoxModel",
          "state": {
            "_view_name": "HBoxView",
            "_dom_classes": [],
            "_model_name": "HBoxModel",
            "_view_module": "@jupyter-widgets/controls",
            "_model_module_version": "1.5.0",
            "_view_count": null,
            "_view_module_version": "1.5.0",
            "box_style": "",
            "layout": "IPY_MODEL_5d55dd274ea04b30bea376c151f450f9",
            "_model_module": "@jupyter-widgets/controls",
            "children": [
              "IPY_MODEL_81b81e43bcda4c90bdc5977248fe2579",
              "IPY_MODEL_a912667b250849c9a15e695496c16d21"
            ]
          }
        },
        "5d55dd274ea04b30bea376c151f450f9": {
          "model_module": "@jupyter-widgets/base",
          "model_name": "LayoutModel",
          "state": {
            "_view_name": "LayoutView",
            "grid_template_rows": null,
            "right": null,
            "justify_content": null,
            "_view_module": "@jupyter-widgets/base",
            "overflow": null,
            "_model_module_version": "1.2.0",
            "_view_count": null,
            "flex_flow": null,
            "width": null,
            "min_width": null,
            "border": null,
            "align_items": null,
            "bottom": null,
            "_model_module": "@jupyter-widgets/base",
            "top": null,
            "grid_column": null,
            "overflow_y": null,
            "overflow_x": null,
            "grid_auto_flow": null,
            "grid_area": null,
            "grid_template_columns": null,
            "flex": null,
            "_model_name": "LayoutModel",
            "justify_items": null,
            "grid_row": null,
            "max_height": null,
            "align_content": null,
            "visibility": null,
            "align_self": null,
            "height": null,
            "min_height": null,
            "padding": null,
            "grid_auto_rows": null,
            "grid_gap": null,
            "max_width": null,
            "order": null,
            "_view_module_version": "1.2.0",
            "grid_template_areas": null,
            "object_position": null,
            "object_fit": null,
            "grid_auto_columns": null,
            "margin": null,
            "display": null,
            "left": null
          }
        },
        "81b81e43bcda4c90bdc5977248fe2579": {
          "model_module": "@jupyter-widgets/controls",
          "model_name": "FloatProgressModel",
          "state": {
            "_view_name": "ProgressView",
            "style": "IPY_MODEL_16b2ba75b0e549ea8757523093314ac6",
            "_dom_classes": [],
            "description": "Managers: 100%",
            "_model_name": "FloatProgressModel",
            "bar_style": "success",
            "max": 8,
            "_view_module": "@jupyter-widgets/controls",
            "_model_module_version": "1.5.0",
            "value": 8,
            "_view_count": null,
            "_view_module_version": "1.5.0",
            "orientation": "horizontal",
            "min": 0,
            "description_tooltip": null,
            "_model_module": "@jupyter-widgets/controls",
            "layout": "IPY_MODEL_66171469cb1e4efebf7580b761fc3afa"
          }
        },
        "a912667b250849c9a15e695496c16d21": {
          "model_module": "@jupyter-widgets/controls",
          "model_name": "HTMLModel",
          "state": {
            "_view_name": "HTMLView",
            "style": "IPY_MODEL_46caff675c28409bb0f4a6805bd05587",
            "_dom_classes": [],
            "description": "",
            "_model_name": "HTMLModel",
            "placeholder": "​",
            "_view_module": "@jupyter-widgets/controls",
            "_model_module_version": "1.5.0",
            "value": " 8/8 [38:05&lt;00:00, 285.63s/it]",
            "_view_count": null,
            "_view_module_version": "1.5.0",
            "description_tooltip": null,
            "_model_module": "@jupyter-widgets/controls",
            "layout": "IPY_MODEL_5c1f71f048e141178dc517cac46625bc"
          }
        },
        "16b2ba75b0e549ea8757523093314ac6": {
          "model_module": "@jupyter-widgets/controls",
          "model_name": "ProgressStyleModel",
          "state": {
            "_view_name": "StyleView",
            "_model_name": "ProgressStyleModel",
            "description_width": "initial",
            "_view_module": "@jupyter-widgets/base",
            "_model_module_version": "1.5.0",
            "_view_count": null,
            "_view_module_version": "1.2.0",
            "bar_color": null,
            "_model_module": "@jupyter-widgets/controls"
          }
        },
        "66171469cb1e4efebf7580b761fc3afa": {
          "model_module": "@jupyter-widgets/base",
          "model_name": "LayoutModel",
          "state": {
            "_view_name": "LayoutView",
            "grid_template_rows": null,
            "right": null,
            "justify_content": null,
            "_view_module": "@jupyter-widgets/base",
            "overflow": null,
            "_model_module_version": "1.2.0",
            "_view_count": null,
            "flex_flow": null,
            "width": null,
            "min_width": null,
            "border": null,
            "align_items": null,
            "bottom": null,
            "_model_module": "@jupyter-widgets/base",
            "top": null,
            "grid_column": null,
            "overflow_y": null,
            "overflow_x": null,
            "grid_auto_flow": null,
            "grid_area": null,
            "grid_template_columns": null,
            "flex": null,
            "_model_name": "LayoutModel",
            "justify_items": null,
            "grid_row": null,
            "max_height": null,
            "align_content": null,
            "visibility": null,
            "align_self": null,
            "height": null,
            "min_height": null,
            "padding": null,
            "grid_auto_rows": null,
            "grid_gap": null,
            "max_width": null,
            "order": null,
            "_view_module_version": "1.2.0",
            "grid_template_areas": null,
            "object_position": null,
            "object_fit": null,
            "grid_auto_columns": null,
            "margin": null,
            "display": null,
            "left": null
          }
        },
        "46caff675c28409bb0f4a6805bd05587": {
          "model_module": "@jupyter-widgets/controls",
          "model_name": "DescriptionStyleModel",
          "state": {
            "_view_name": "StyleView",
            "_model_name": "DescriptionStyleModel",
            "description_width": "",
            "_view_module": "@jupyter-widgets/base",
            "_model_module_version": "1.5.0",
            "_view_count": null,
            "_view_module_version": "1.2.0",
            "_model_module": "@jupyter-widgets/controls"
          }
        },
        "5c1f71f048e141178dc517cac46625bc": {
          "model_module": "@jupyter-widgets/base",
          "model_name": "LayoutModel",
          "state": {
            "_view_name": "LayoutView",
            "grid_template_rows": null,
            "right": null,
            "justify_content": null,
            "_view_module": "@jupyter-widgets/base",
            "overflow": null,
            "_model_module_version": "1.2.0",
            "_view_count": null,
            "flex_flow": null,
            "width": null,
            "min_width": null,
            "border": null,
            "align_items": null,
            "bottom": null,
            "_model_module": "@jupyter-widgets/base",
            "top": null,
            "grid_column": null,
            "overflow_y": null,
            "overflow_x": null,
            "grid_auto_flow": null,
            "grid_area": null,
            "grid_template_columns": null,
            "flex": null,
            "_model_name": "LayoutModel",
            "justify_items": null,
            "grid_row": null,
            "max_height": null,
            "align_content": null,
            "visibility": null,
            "align_self": null,
            "height": null,
            "min_height": null,
            "padding": null,
            "grid_auto_rows": null,
            "grid_gap": null,
            "max_width": null,
            "order": null,
            "_view_module_version": "1.2.0",
            "grid_template_areas": null,
            "object_position": null,
            "object_fit": null,
            "grid_auto_columns": null,
            "margin": null,
            "display": null,
            "left": null
          }
        },
        "324212ab886342dca40594245ef0dabc": {
          "model_module": "@jupyter-widgets/controls",
          "model_name": "HBoxModel",
          "state": {
            "_view_name": "HBoxView",
            "_dom_classes": [],
            "_model_name": "HBoxModel",
            "_view_module": "@jupyter-widgets/controls",
            "_model_module_version": "1.5.0",
            "_view_count": null,
            "_view_module_version": "1.5.0",
            "box_style": "",
            "layout": "IPY_MODEL_174c0a7e5b474da29bd2290cd8dc1c0b",
            "_model_module": "@jupyter-widgets/controls",
            "children": [
              "IPY_MODEL_9285a333a18b474692aa983c2d40b8d3",
              "IPY_MODEL_8f1a3dc8f74843d4adc2706bd73ffceb"
            ]
          }
        },
        "174c0a7e5b474da29bd2290cd8dc1c0b": {
          "model_module": "@jupyter-widgets/base",
          "model_name": "LayoutModel",
          "state": {
            "_view_name": "LayoutView",
            "grid_template_rows": null,
            "right": null,
            "justify_content": null,
            "_view_module": "@jupyter-widgets/base",
            "overflow": null,
            "_model_module_version": "1.2.0",
            "_view_count": null,
            "flex_flow": null,
            "width": null,
            "min_width": null,
            "border": null,
            "align_items": null,
            "bottom": null,
            "_model_module": "@jupyter-widgets/base",
            "top": null,
            "grid_column": null,
            "overflow_y": null,
            "overflow_x": null,
            "grid_auto_flow": null,
            "grid_area": null,
            "grid_template_columns": null,
            "flex": null,
            "_model_name": "LayoutModel",
            "justify_items": null,
            "grid_row": null,
            "max_height": null,
            "align_content": null,
            "visibility": null,
            "align_self": null,
            "height": null,
            "min_height": null,
            "padding": null,
            "grid_auto_rows": null,
            "grid_gap": null,
            "max_width": null,
            "order": null,
            "_view_module_version": "1.2.0",
            "grid_template_areas": null,
            "object_position": null,
            "object_fit": null,
            "grid_auto_columns": null,
            "margin": null,
            "display": null,
            "left": null
          }
        },
        "9285a333a18b474692aa983c2d40b8d3": {
          "model_module": "@jupyter-widgets/controls",
          "model_name": "FloatProgressModel",
          "state": {
            "_view_name": "ProgressView",
            "style": "IPY_MODEL_ff75fbab845e4aeeb5c6b8b82d972424",
            "_dom_classes": [],
            "description": "Rounds: 100%",
            "_model_name": "FloatProgressModel",
            "bar_style": "success",
            "max": 10,
            "_view_module": "@jupyter-widgets/controls",
            "_model_module_version": "1.5.0",
            "value": 10,
            "_view_count": null,
            "_view_module_version": "1.5.0",
            "orientation": "horizontal",
            "min": 0,
            "description_tooltip": null,
            "_model_module": "@jupyter-widgets/controls",
            "layout": "IPY_MODEL_34b7417de92945b2bbe2960eecf8d77f"
          }
        },
        "8f1a3dc8f74843d4adc2706bd73ffceb": {
          "model_module": "@jupyter-widgets/controls",
          "model_name": "HTMLModel",
          "state": {
            "_view_name": "HTMLView",
            "style": "IPY_MODEL_051f7d6c0611405aab1f4f8571e416a1",
            "_dom_classes": [],
            "description": "",
            "_model_name": "HTMLModel",
            "placeholder": "​",
            "_view_module": "@jupyter-widgets/controls",
            "_model_module_version": "1.5.0",
            "value": " 10/10 [02:51&lt;00:00, 17.12s/it]",
            "_view_count": null,
            "_view_module_version": "1.5.0",
            "description_tooltip": null,
            "_model_module": "@jupyter-widgets/controls",
            "layout": "IPY_MODEL_00e86a0e1675454094c06003a1a8ee39"
          }
        },
        "ff75fbab845e4aeeb5c6b8b82d972424": {
          "model_module": "@jupyter-widgets/controls",
          "model_name": "ProgressStyleModel",
          "state": {
            "_view_name": "StyleView",
            "_model_name": "ProgressStyleModel",
            "description_width": "initial",
            "_view_module": "@jupyter-widgets/base",
            "_model_module_version": "1.5.0",
            "_view_count": null,
            "_view_module_version": "1.2.0",
            "bar_color": null,
            "_model_module": "@jupyter-widgets/controls"
          }
        },
        "34b7417de92945b2bbe2960eecf8d77f": {
          "model_module": "@jupyter-widgets/base",
          "model_name": "LayoutModel",
          "state": {
            "_view_name": "LayoutView",
            "grid_template_rows": null,
            "right": null,
            "justify_content": null,
            "_view_module": "@jupyter-widgets/base",
            "overflow": null,
            "_model_module_version": "1.2.0",
            "_view_count": null,
            "flex_flow": null,
            "width": null,
            "min_width": null,
            "border": null,
            "align_items": null,
            "bottom": null,
            "_model_module": "@jupyter-widgets/base",
            "top": null,
            "grid_column": null,
            "overflow_y": null,
            "overflow_x": null,
            "grid_auto_flow": null,
            "grid_area": null,
            "grid_template_columns": null,
            "flex": null,
            "_model_name": "LayoutModel",
            "justify_items": null,
            "grid_row": null,
            "max_height": null,
            "align_content": null,
            "visibility": null,
            "align_self": null,
            "height": null,
            "min_height": null,
            "padding": null,
            "grid_auto_rows": null,
            "grid_gap": null,
            "max_width": null,
            "order": null,
            "_view_module_version": "1.2.0",
            "grid_template_areas": null,
            "object_position": null,
            "object_fit": null,
            "grid_auto_columns": null,
            "margin": null,
            "display": null,
            "left": null
          }
        },
        "051f7d6c0611405aab1f4f8571e416a1": {
          "model_module": "@jupyter-widgets/controls",
          "model_name": "DescriptionStyleModel",
          "state": {
            "_view_name": "StyleView",
            "_model_name": "DescriptionStyleModel",
            "description_width": "",
            "_view_module": "@jupyter-widgets/base",
            "_model_module_version": "1.5.0",
            "_view_count": null,
            "_view_module_version": "1.2.0",
            "_model_module": "@jupyter-widgets/controls"
          }
        },
        "00e86a0e1675454094c06003a1a8ee39": {
          "model_module": "@jupyter-widgets/base",
          "model_name": "LayoutModel",
          "state": {
            "_view_name": "LayoutView",
            "grid_template_rows": null,
            "right": null,
            "justify_content": null,
            "_view_module": "@jupyter-widgets/base",
            "overflow": null,
            "_model_module_version": "1.2.0",
            "_view_count": null,
            "flex_flow": null,
            "width": null,
            "min_width": null,
            "border": null,
            "align_items": null,
            "bottom": null,
            "_model_module": "@jupyter-widgets/base",
            "top": null,
            "grid_column": null,
            "overflow_y": null,
            "overflow_x": null,
            "grid_auto_flow": null,
            "grid_area": null,
            "grid_template_columns": null,
            "flex": null,
            "_model_name": "LayoutModel",
            "justify_items": null,
            "grid_row": null,
            "max_height": null,
            "align_content": null,
            "visibility": null,
            "align_self": null,
            "height": null,
            "min_height": null,
            "padding": null,
            "grid_auto_rows": null,
            "grid_gap": null,
            "max_width": null,
            "order": null,
            "_view_module_version": "1.2.0",
            "grid_template_areas": null,
            "object_position": null,
            "object_fit": null,
            "grid_auto_columns": null,
            "margin": null,
            "display": null,
            "left": null
          }
        },
        "e3ae5ab083a9423e96ba68e5d2228b96": {
          "model_module": "@jupyter-widgets/controls",
          "model_name": "HBoxModel",
          "state": {
            "_view_name": "HBoxView",
            "_dom_classes": [],
            "_model_name": "HBoxModel",
            "_view_module": "@jupyter-widgets/controls",
            "_model_module_version": "1.5.0",
            "_view_count": null,
            "_view_module_version": "1.5.0",
            "box_style": "",
            "layout": "IPY_MODEL_81050b80093643e1a33e9e1ab31f44fa",
            "_model_module": "@jupyter-widgets/controls",
            "children": [
              "IPY_MODEL_2d0c7f5a34ea4770acb6993dce22dd9d",
              "IPY_MODEL_4d7798809af44f2cbe5d630a14e1ac4b"
            ]
          }
        },
        "81050b80093643e1a33e9e1ab31f44fa": {
          "model_module": "@jupyter-widgets/base",
          "model_name": "LayoutModel",
          "state": {
            "_view_name": "LayoutView",
            "grid_template_rows": null,
            "right": null,
            "justify_content": null,
            "_view_module": "@jupyter-widgets/base",
            "overflow": null,
            "_model_module_version": "1.2.0",
            "_view_count": null,
            "flex_flow": null,
            "width": null,
            "min_width": null,
            "border": null,
            "align_items": null,
            "bottom": null,
            "_model_module": "@jupyter-widgets/base",
            "top": null,
            "grid_column": null,
            "overflow_y": null,
            "overflow_x": null,
            "grid_auto_flow": null,
            "grid_area": null,
            "grid_template_columns": null,
            "flex": null,
            "_model_name": "LayoutModel",
            "justify_items": null,
            "grid_row": null,
            "max_height": null,
            "align_content": null,
            "visibility": null,
            "align_self": null,
            "height": null,
            "min_height": null,
            "padding": null,
            "grid_auto_rows": null,
            "grid_gap": null,
            "max_width": null,
            "order": null,
            "_view_module_version": "1.2.0",
            "grid_template_areas": null,
            "object_position": null,
            "object_fit": null,
            "grid_auto_columns": null,
            "margin": null,
            "display": null,
            "left": null
          }
        },
        "2d0c7f5a34ea4770acb6993dce22dd9d": {
          "model_module": "@jupyter-widgets/controls",
          "model_name": "FloatProgressModel",
          "state": {
            "_view_name": "ProgressView",
            "style": "IPY_MODEL_bf440bb3901e4ab9a1479871c2b8a838",
            "_dom_classes": [],
            "description": "Rounds: 100%",
            "_model_name": "FloatProgressModel",
            "bar_style": "success",
            "max": 10,
            "_view_module": "@jupyter-widgets/controls",
            "_model_module_version": "1.5.0",
            "value": 10,
            "_view_count": null,
            "_view_module_version": "1.5.0",
            "orientation": "horizontal",
            "min": 0,
            "description_tooltip": null,
            "_model_module": "@jupyter-widgets/controls",
            "layout": "IPY_MODEL_286cac2bcdfa49df99153b429ffe8b6c"
          }
        },
        "4d7798809af44f2cbe5d630a14e1ac4b": {
          "model_module": "@jupyter-widgets/controls",
          "model_name": "HTMLModel",
          "state": {
            "_view_name": "HTMLView",
            "style": "IPY_MODEL_38f940df77594b1d88009f14e26c927d",
            "_dom_classes": [],
            "description": "",
            "_model_name": "HTMLModel",
            "placeholder": "​",
            "_view_module": "@jupyter-widgets/controls",
            "_model_module_version": "1.5.0",
            "value": " 10/10 [02:49&lt;00:00, 16.92s/it]",
            "_view_count": null,
            "_view_module_version": "1.5.0",
            "description_tooltip": null,
            "_model_module": "@jupyter-widgets/controls",
            "layout": "IPY_MODEL_1361f48d1bc94de1a9f7c01482e22dbf"
          }
        },
        "bf440bb3901e4ab9a1479871c2b8a838": {
          "model_module": "@jupyter-widgets/controls",
          "model_name": "ProgressStyleModel",
          "state": {
            "_view_name": "StyleView",
            "_model_name": "ProgressStyleModel",
            "description_width": "initial",
            "_view_module": "@jupyter-widgets/base",
            "_model_module_version": "1.5.0",
            "_view_count": null,
            "_view_module_version": "1.2.0",
            "bar_color": null,
            "_model_module": "@jupyter-widgets/controls"
          }
        },
        "286cac2bcdfa49df99153b429ffe8b6c": {
          "model_module": "@jupyter-widgets/base",
          "model_name": "LayoutModel",
          "state": {
            "_view_name": "LayoutView",
            "grid_template_rows": null,
            "right": null,
            "justify_content": null,
            "_view_module": "@jupyter-widgets/base",
            "overflow": null,
            "_model_module_version": "1.2.0",
            "_view_count": null,
            "flex_flow": null,
            "width": null,
            "min_width": null,
            "border": null,
            "align_items": null,
            "bottom": null,
            "_model_module": "@jupyter-widgets/base",
            "top": null,
            "grid_column": null,
            "overflow_y": null,
            "overflow_x": null,
            "grid_auto_flow": null,
            "grid_area": null,
            "grid_template_columns": null,
            "flex": null,
            "_model_name": "LayoutModel",
            "justify_items": null,
            "grid_row": null,
            "max_height": null,
            "align_content": null,
            "visibility": null,
            "align_self": null,
            "height": null,
            "min_height": null,
            "padding": null,
            "grid_auto_rows": null,
            "grid_gap": null,
            "max_width": null,
            "order": null,
            "_view_module_version": "1.2.0",
            "grid_template_areas": null,
            "object_position": null,
            "object_fit": null,
            "grid_auto_columns": null,
            "margin": null,
            "display": null,
            "left": null
          }
        },
        "38f940df77594b1d88009f14e26c927d": {
          "model_module": "@jupyter-widgets/controls",
          "model_name": "DescriptionStyleModel",
          "state": {
            "_view_name": "StyleView",
            "_model_name": "DescriptionStyleModel",
            "description_width": "",
            "_view_module": "@jupyter-widgets/base",
            "_model_module_version": "1.5.0",
            "_view_count": null,
            "_view_module_version": "1.2.0",
            "_model_module": "@jupyter-widgets/controls"
          }
        },
        "1361f48d1bc94de1a9f7c01482e22dbf": {
          "model_module": "@jupyter-widgets/base",
          "model_name": "LayoutModel",
          "state": {
            "_view_name": "LayoutView",
            "grid_template_rows": null,
            "right": null,
            "justify_content": null,
            "_view_module": "@jupyter-widgets/base",
            "overflow": null,
            "_model_module_version": "1.2.0",
            "_view_count": null,
            "flex_flow": null,
            "width": null,
            "min_width": null,
            "border": null,
            "align_items": null,
            "bottom": null,
            "_model_module": "@jupyter-widgets/base",
            "top": null,
            "grid_column": null,
            "overflow_y": null,
            "overflow_x": null,
            "grid_auto_flow": null,
            "grid_area": null,
            "grid_template_columns": null,
            "flex": null,
            "_model_name": "LayoutModel",
            "justify_items": null,
            "grid_row": null,
            "max_height": null,
            "align_content": null,
            "visibility": null,
            "align_self": null,
            "height": null,
            "min_height": null,
            "padding": null,
            "grid_auto_rows": null,
            "grid_gap": null,
            "max_width": null,
            "order": null,
            "_view_module_version": "1.2.0",
            "grid_template_areas": null,
            "object_position": null,
            "object_fit": null,
            "grid_auto_columns": null,
            "margin": null,
            "display": null,
            "left": null
          }
        },
        "a36e9aa4b8314a758d23c91273114711": {
          "model_module": "@jupyter-widgets/controls",
          "model_name": "HBoxModel",
          "state": {
            "_view_name": "HBoxView",
            "_dom_classes": [],
            "_model_name": "HBoxModel",
            "_view_module": "@jupyter-widgets/controls",
            "_model_module_version": "1.5.0",
            "_view_count": null,
            "_view_module_version": "1.5.0",
            "box_style": "",
            "layout": "IPY_MODEL_725b205f101c425c932ef52649c698df",
            "_model_module": "@jupyter-widgets/controls",
            "children": [
              "IPY_MODEL_fd8f467e93df4bf0a67e13e8ba8f7e71",
              "IPY_MODEL_1c23f36abdf041db8e581160f8da4eda"
            ]
          }
        },
        "725b205f101c425c932ef52649c698df": {
          "model_module": "@jupyter-widgets/base",
          "model_name": "LayoutModel",
          "state": {
            "_view_name": "LayoutView",
            "grid_template_rows": null,
            "right": null,
            "justify_content": null,
            "_view_module": "@jupyter-widgets/base",
            "overflow": null,
            "_model_module_version": "1.2.0",
            "_view_count": null,
            "flex_flow": null,
            "width": null,
            "min_width": null,
            "border": null,
            "align_items": null,
            "bottom": null,
            "_model_module": "@jupyter-widgets/base",
            "top": null,
            "grid_column": null,
            "overflow_y": null,
            "overflow_x": null,
            "grid_auto_flow": null,
            "grid_area": null,
            "grid_template_columns": null,
            "flex": null,
            "_model_name": "LayoutModel",
            "justify_items": null,
            "grid_row": null,
            "max_height": null,
            "align_content": null,
            "visibility": null,
            "align_self": null,
            "height": null,
            "min_height": null,
            "padding": null,
            "grid_auto_rows": null,
            "grid_gap": null,
            "max_width": null,
            "order": null,
            "_view_module_version": "1.2.0",
            "grid_template_areas": null,
            "object_position": null,
            "object_fit": null,
            "grid_auto_columns": null,
            "margin": null,
            "display": null,
            "left": null
          }
        },
        "fd8f467e93df4bf0a67e13e8ba8f7e71": {
          "model_module": "@jupyter-widgets/controls",
          "model_name": "FloatProgressModel",
          "state": {
            "_view_name": "ProgressView",
            "style": "IPY_MODEL_4a558364d2e047a29382314d2ce8bea6",
            "_dom_classes": [],
            "description": "Rounds: 100%",
            "_model_name": "FloatProgressModel",
            "bar_style": "success",
            "max": 10,
            "_view_module": "@jupyter-widgets/controls",
            "_model_module_version": "1.5.0",
            "value": 10,
            "_view_count": null,
            "_view_module_version": "1.5.0",
            "orientation": "horizontal",
            "min": 0,
            "description_tooltip": null,
            "_model_module": "@jupyter-widgets/controls",
            "layout": "IPY_MODEL_a7bbe89c31e643ba82bcf3aee5d5e605"
          }
        },
        "1c23f36abdf041db8e581160f8da4eda": {
          "model_module": "@jupyter-widgets/controls",
          "model_name": "HTMLModel",
          "state": {
            "_view_name": "HTMLView",
            "style": "IPY_MODEL_e6de77d55b0f478e89190892e0767a82",
            "_dom_classes": [],
            "description": "",
            "_model_name": "HTMLModel",
            "placeholder": "​",
            "_view_module": "@jupyter-widgets/controls",
            "_model_module_version": "1.5.0",
            "value": " 10/10 [02:53&lt;00:00, 17.40s/it]",
            "_view_count": null,
            "_view_module_version": "1.5.0",
            "description_tooltip": null,
            "_model_module": "@jupyter-widgets/controls",
            "layout": "IPY_MODEL_812657271d4d42a7a09b1f5aac98eff3"
          }
        },
        "4a558364d2e047a29382314d2ce8bea6": {
          "model_module": "@jupyter-widgets/controls",
          "model_name": "ProgressStyleModel",
          "state": {
            "_view_name": "StyleView",
            "_model_name": "ProgressStyleModel",
            "description_width": "initial",
            "_view_module": "@jupyter-widgets/base",
            "_model_module_version": "1.5.0",
            "_view_count": null,
            "_view_module_version": "1.2.0",
            "bar_color": null,
            "_model_module": "@jupyter-widgets/controls"
          }
        },
        "a7bbe89c31e643ba82bcf3aee5d5e605": {
          "model_module": "@jupyter-widgets/base",
          "model_name": "LayoutModel",
          "state": {
            "_view_name": "LayoutView",
            "grid_template_rows": null,
            "right": null,
            "justify_content": null,
            "_view_module": "@jupyter-widgets/base",
            "overflow": null,
            "_model_module_version": "1.2.0",
            "_view_count": null,
            "flex_flow": null,
            "width": null,
            "min_width": null,
            "border": null,
            "align_items": null,
            "bottom": null,
            "_model_module": "@jupyter-widgets/base",
            "top": null,
            "grid_column": null,
            "overflow_y": null,
            "overflow_x": null,
            "grid_auto_flow": null,
            "grid_area": null,
            "grid_template_columns": null,
            "flex": null,
            "_model_name": "LayoutModel",
            "justify_items": null,
            "grid_row": null,
            "max_height": null,
            "align_content": null,
            "visibility": null,
            "align_self": null,
            "height": null,
            "min_height": null,
            "padding": null,
            "grid_auto_rows": null,
            "grid_gap": null,
            "max_width": null,
            "order": null,
            "_view_module_version": "1.2.0",
            "grid_template_areas": null,
            "object_position": null,
            "object_fit": null,
            "grid_auto_columns": null,
            "margin": null,
            "display": null,
            "left": null
          }
        },
        "e6de77d55b0f478e89190892e0767a82": {
          "model_module": "@jupyter-widgets/controls",
          "model_name": "DescriptionStyleModel",
          "state": {
            "_view_name": "StyleView",
            "_model_name": "DescriptionStyleModel",
            "description_width": "",
            "_view_module": "@jupyter-widgets/base",
            "_model_module_version": "1.5.0",
            "_view_count": null,
            "_view_module_version": "1.2.0",
            "_model_module": "@jupyter-widgets/controls"
          }
        },
        "812657271d4d42a7a09b1f5aac98eff3": {
          "model_module": "@jupyter-widgets/base",
          "model_name": "LayoutModel",
          "state": {
            "_view_name": "LayoutView",
            "grid_template_rows": null,
            "right": null,
            "justify_content": null,
            "_view_module": "@jupyter-widgets/base",
            "overflow": null,
            "_model_module_version": "1.2.0",
            "_view_count": null,
            "flex_flow": null,
            "width": null,
            "min_width": null,
            "border": null,
            "align_items": null,
            "bottom": null,
            "_model_module": "@jupyter-widgets/base",
            "top": null,
            "grid_column": null,
            "overflow_y": null,
            "overflow_x": null,
            "grid_auto_flow": null,
            "grid_area": null,
            "grid_template_columns": null,
            "flex": null,
            "_model_name": "LayoutModel",
            "justify_items": null,
            "grid_row": null,
            "max_height": null,
            "align_content": null,
            "visibility": null,
            "align_self": null,
            "height": null,
            "min_height": null,
            "padding": null,
            "grid_auto_rows": null,
            "grid_gap": null,
            "max_width": null,
            "order": null,
            "_view_module_version": "1.2.0",
            "grid_template_areas": null,
            "object_position": null,
            "object_fit": null,
            "grid_auto_columns": null,
            "margin": null,
            "display": null,
            "left": null
          }
        },
        "88925a8084364814b03c2ea2d7a44772": {
          "model_module": "@jupyter-widgets/controls",
          "model_name": "HBoxModel",
          "state": {
            "_view_name": "HBoxView",
            "_dom_classes": [],
            "_model_name": "HBoxModel",
            "_view_module": "@jupyter-widgets/controls",
            "_model_module_version": "1.5.0",
            "_view_count": null,
            "_view_module_version": "1.5.0",
            "box_style": "",
            "layout": "IPY_MODEL_ac74de4730354719a4bbe14dfdbe4eae",
            "_model_module": "@jupyter-widgets/controls",
            "children": [
              "IPY_MODEL_e7125c5fd0454c1faad58c1bed22e105",
              "IPY_MODEL_c878e27e860f44b7b7610bdbaceed310"
            ]
          }
        },
        "ac74de4730354719a4bbe14dfdbe4eae": {
          "model_module": "@jupyter-widgets/base",
          "model_name": "LayoutModel",
          "state": {
            "_view_name": "LayoutView",
            "grid_template_rows": null,
            "right": null,
            "justify_content": null,
            "_view_module": "@jupyter-widgets/base",
            "overflow": null,
            "_model_module_version": "1.2.0",
            "_view_count": null,
            "flex_flow": null,
            "width": null,
            "min_width": null,
            "border": null,
            "align_items": null,
            "bottom": null,
            "_model_module": "@jupyter-widgets/base",
            "top": null,
            "grid_column": null,
            "overflow_y": null,
            "overflow_x": null,
            "grid_auto_flow": null,
            "grid_area": null,
            "grid_template_columns": null,
            "flex": null,
            "_model_name": "LayoutModel",
            "justify_items": null,
            "grid_row": null,
            "max_height": null,
            "align_content": null,
            "visibility": null,
            "align_self": null,
            "height": null,
            "min_height": null,
            "padding": null,
            "grid_auto_rows": null,
            "grid_gap": null,
            "max_width": null,
            "order": null,
            "_view_module_version": "1.2.0",
            "grid_template_areas": null,
            "object_position": null,
            "object_fit": null,
            "grid_auto_columns": null,
            "margin": null,
            "display": null,
            "left": null
          }
        },
        "e7125c5fd0454c1faad58c1bed22e105": {
          "model_module": "@jupyter-widgets/controls",
          "model_name": "FloatProgressModel",
          "state": {
            "_view_name": "ProgressView",
            "style": "IPY_MODEL_170251b080f649aeb87ccb398e932392",
            "_dom_classes": [],
            "description": "Rounds: 100%",
            "_model_name": "FloatProgressModel",
            "bar_style": "success",
            "max": 10,
            "_view_module": "@jupyter-widgets/controls",
            "_model_module_version": "1.5.0",
            "value": 10,
            "_view_count": null,
            "_view_module_version": "1.5.0",
            "orientation": "horizontal",
            "min": 0,
            "description_tooltip": null,
            "_model_module": "@jupyter-widgets/controls",
            "layout": "IPY_MODEL_a956f04ef2cd4ba48de36658a50c7947"
          }
        },
        "c878e27e860f44b7b7610bdbaceed310": {
          "model_module": "@jupyter-widgets/controls",
          "model_name": "HTMLModel",
          "state": {
            "_view_name": "HTMLView",
            "style": "IPY_MODEL_14c4420c6f53429face2a6c9796fff1c",
            "_dom_classes": [],
            "description": "",
            "_model_name": "HTMLModel",
            "placeholder": "​",
            "_view_module": "@jupyter-widgets/controls",
            "_model_module_version": "1.5.0",
            "value": " 10/10 [02:53&lt;00:00, 17.37s/it]",
            "_view_count": null,
            "_view_module_version": "1.5.0",
            "description_tooltip": null,
            "_model_module": "@jupyter-widgets/controls",
            "layout": "IPY_MODEL_9b7ae48c49dc4164b09abdfefb9d4c99"
          }
        },
        "170251b080f649aeb87ccb398e932392": {
          "model_module": "@jupyter-widgets/controls",
          "model_name": "ProgressStyleModel",
          "state": {
            "_view_name": "StyleView",
            "_model_name": "ProgressStyleModel",
            "description_width": "initial",
            "_view_module": "@jupyter-widgets/base",
            "_model_module_version": "1.5.0",
            "_view_count": null,
            "_view_module_version": "1.2.0",
            "bar_color": null,
            "_model_module": "@jupyter-widgets/controls"
          }
        },
        "a956f04ef2cd4ba48de36658a50c7947": {
          "model_module": "@jupyter-widgets/base",
          "model_name": "LayoutModel",
          "state": {
            "_view_name": "LayoutView",
            "grid_template_rows": null,
            "right": null,
            "justify_content": null,
            "_view_module": "@jupyter-widgets/base",
            "overflow": null,
            "_model_module_version": "1.2.0",
            "_view_count": null,
            "flex_flow": null,
            "width": null,
            "min_width": null,
            "border": null,
            "align_items": null,
            "bottom": null,
            "_model_module": "@jupyter-widgets/base",
            "top": null,
            "grid_column": null,
            "overflow_y": null,
            "overflow_x": null,
            "grid_auto_flow": null,
            "grid_area": null,
            "grid_template_columns": null,
            "flex": null,
            "_model_name": "LayoutModel",
            "justify_items": null,
            "grid_row": null,
            "max_height": null,
            "align_content": null,
            "visibility": null,
            "align_self": null,
            "height": null,
            "min_height": null,
            "padding": null,
            "grid_auto_rows": null,
            "grid_gap": null,
            "max_width": null,
            "order": null,
            "_view_module_version": "1.2.0",
            "grid_template_areas": null,
            "object_position": null,
            "object_fit": null,
            "grid_auto_columns": null,
            "margin": null,
            "display": null,
            "left": null
          }
        },
        "14c4420c6f53429face2a6c9796fff1c": {
          "model_module": "@jupyter-widgets/controls",
          "model_name": "DescriptionStyleModel",
          "state": {
            "_view_name": "StyleView",
            "_model_name": "DescriptionStyleModel",
            "description_width": "",
            "_view_module": "@jupyter-widgets/base",
            "_model_module_version": "1.5.0",
            "_view_count": null,
            "_view_module_version": "1.2.0",
            "_model_module": "@jupyter-widgets/controls"
          }
        },
        "9b7ae48c49dc4164b09abdfefb9d4c99": {
          "model_module": "@jupyter-widgets/base",
          "model_name": "LayoutModel",
          "state": {
            "_view_name": "LayoutView",
            "grid_template_rows": null,
            "right": null,
            "justify_content": null,
            "_view_module": "@jupyter-widgets/base",
            "overflow": null,
            "_model_module_version": "1.2.0",
            "_view_count": null,
            "flex_flow": null,
            "width": null,
            "min_width": null,
            "border": null,
            "align_items": null,
            "bottom": null,
            "_model_module": "@jupyter-widgets/base",
            "top": null,
            "grid_column": null,
            "overflow_y": null,
            "overflow_x": null,
            "grid_auto_flow": null,
            "grid_area": null,
            "grid_template_columns": null,
            "flex": null,
            "_model_name": "LayoutModel",
            "justify_items": null,
            "grid_row": null,
            "max_height": null,
            "align_content": null,
            "visibility": null,
            "align_self": null,
            "height": null,
            "min_height": null,
            "padding": null,
            "grid_auto_rows": null,
            "grid_gap": null,
            "max_width": null,
            "order": null,
            "_view_module_version": "1.2.0",
            "grid_template_areas": null,
            "object_position": null,
            "object_fit": null,
            "grid_auto_columns": null,
            "margin": null,
            "display": null,
            "left": null
          }
        },
        "f934cf0509874a28ac403f33f4057efd": {
          "model_module": "@jupyter-widgets/controls",
          "model_name": "HBoxModel",
          "state": {
            "_view_name": "HBoxView",
            "_dom_classes": [],
            "_model_name": "HBoxModel",
            "_view_module": "@jupyter-widgets/controls",
            "_model_module_version": "1.5.0",
            "_view_count": null,
            "_view_module_version": "1.5.0",
            "box_style": "",
            "layout": "IPY_MODEL_fbab4b31e6a14c2db5fae96df9dfdd20",
            "_model_module": "@jupyter-widgets/controls",
            "children": [
              "IPY_MODEL_69cc8f17d751461ebd28bcb4fe7fd5dd",
              "IPY_MODEL_788483197be942c0a64f857b12abd284"
            ]
          }
        },
        "fbab4b31e6a14c2db5fae96df9dfdd20": {
          "model_module": "@jupyter-widgets/base",
          "model_name": "LayoutModel",
          "state": {
            "_view_name": "LayoutView",
            "grid_template_rows": null,
            "right": null,
            "justify_content": null,
            "_view_module": "@jupyter-widgets/base",
            "overflow": null,
            "_model_module_version": "1.2.0",
            "_view_count": null,
            "flex_flow": null,
            "width": null,
            "min_width": null,
            "border": null,
            "align_items": null,
            "bottom": null,
            "_model_module": "@jupyter-widgets/base",
            "top": null,
            "grid_column": null,
            "overflow_y": null,
            "overflow_x": null,
            "grid_auto_flow": null,
            "grid_area": null,
            "grid_template_columns": null,
            "flex": null,
            "_model_name": "LayoutModel",
            "justify_items": null,
            "grid_row": null,
            "max_height": null,
            "align_content": null,
            "visibility": null,
            "align_self": null,
            "height": null,
            "min_height": null,
            "padding": null,
            "grid_auto_rows": null,
            "grid_gap": null,
            "max_width": null,
            "order": null,
            "_view_module_version": "1.2.0",
            "grid_template_areas": null,
            "object_position": null,
            "object_fit": null,
            "grid_auto_columns": null,
            "margin": null,
            "display": null,
            "left": null
          }
        },
        "69cc8f17d751461ebd28bcb4fe7fd5dd": {
          "model_module": "@jupyter-widgets/controls",
          "model_name": "FloatProgressModel",
          "state": {
            "_view_name": "ProgressView",
            "style": "IPY_MODEL_d5622d3a1f8743dab6c7b83f0f2784ab",
            "_dom_classes": [],
            "description": "Rounds: 100%",
            "_model_name": "FloatProgressModel",
            "bar_style": "success",
            "max": 10,
            "_view_module": "@jupyter-widgets/controls",
            "_model_module_version": "1.5.0",
            "value": 10,
            "_view_count": null,
            "_view_module_version": "1.5.0",
            "orientation": "horizontal",
            "min": 0,
            "description_tooltip": null,
            "_model_module": "@jupyter-widgets/controls",
            "layout": "IPY_MODEL_917c417c598d47b2ba00499cd3519f0b"
          }
        },
        "788483197be942c0a64f857b12abd284": {
          "model_module": "@jupyter-widgets/controls",
          "model_name": "HTMLModel",
          "state": {
            "_view_name": "HTMLView",
            "style": "IPY_MODEL_a2e388033d6f49108899885b4f4e84ca",
            "_dom_classes": [],
            "description": "",
            "_model_name": "HTMLModel",
            "placeholder": "​",
            "_view_module": "@jupyter-widgets/controls",
            "_model_module_version": "1.5.0",
            "value": " 10/10 [05:45&lt;00:00, 34.51s/it]",
            "_view_count": null,
            "_view_module_version": "1.5.0",
            "description_tooltip": null,
            "_model_module": "@jupyter-widgets/controls",
            "layout": "IPY_MODEL_e6aa5a941c0444f0a692335bbd9ef68e"
          }
        },
        "d5622d3a1f8743dab6c7b83f0f2784ab": {
          "model_module": "@jupyter-widgets/controls",
          "model_name": "ProgressStyleModel",
          "state": {
            "_view_name": "StyleView",
            "_model_name": "ProgressStyleModel",
            "description_width": "initial",
            "_view_module": "@jupyter-widgets/base",
            "_model_module_version": "1.5.0",
            "_view_count": null,
            "_view_module_version": "1.2.0",
            "bar_color": null,
            "_model_module": "@jupyter-widgets/controls"
          }
        },
        "917c417c598d47b2ba00499cd3519f0b": {
          "model_module": "@jupyter-widgets/base",
          "model_name": "LayoutModel",
          "state": {
            "_view_name": "LayoutView",
            "grid_template_rows": null,
            "right": null,
            "justify_content": null,
            "_view_module": "@jupyter-widgets/base",
            "overflow": null,
            "_model_module_version": "1.2.0",
            "_view_count": null,
            "flex_flow": null,
            "width": null,
            "min_width": null,
            "border": null,
            "align_items": null,
            "bottom": null,
            "_model_module": "@jupyter-widgets/base",
            "top": null,
            "grid_column": null,
            "overflow_y": null,
            "overflow_x": null,
            "grid_auto_flow": null,
            "grid_area": null,
            "grid_template_columns": null,
            "flex": null,
            "_model_name": "LayoutModel",
            "justify_items": null,
            "grid_row": null,
            "max_height": null,
            "align_content": null,
            "visibility": null,
            "align_self": null,
            "height": null,
            "min_height": null,
            "padding": null,
            "grid_auto_rows": null,
            "grid_gap": null,
            "max_width": null,
            "order": null,
            "_view_module_version": "1.2.0",
            "grid_template_areas": null,
            "object_position": null,
            "object_fit": null,
            "grid_auto_columns": null,
            "margin": null,
            "display": null,
            "left": null
          }
        },
        "a2e388033d6f49108899885b4f4e84ca": {
          "model_module": "@jupyter-widgets/controls",
          "model_name": "DescriptionStyleModel",
          "state": {
            "_view_name": "StyleView",
            "_model_name": "DescriptionStyleModel",
            "description_width": "",
            "_view_module": "@jupyter-widgets/base",
            "_model_module_version": "1.5.0",
            "_view_count": null,
            "_view_module_version": "1.2.0",
            "_model_module": "@jupyter-widgets/controls"
          }
        },
        "e6aa5a941c0444f0a692335bbd9ef68e": {
          "model_module": "@jupyter-widgets/base",
          "model_name": "LayoutModel",
          "state": {
            "_view_name": "LayoutView",
            "grid_template_rows": null,
            "right": null,
            "justify_content": null,
            "_view_module": "@jupyter-widgets/base",
            "overflow": null,
            "_model_module_version": "1.2.0",
            "_view_count": null,
            "flex_flow": null,
            "width": null,
            "min_width": null,
            "border": null,
            "align_items": null,
            "bottom": null,
            "_model_module": "@jupyter-widgets/base",
            "top": null,
            "grid_column": null,
            "overflow_y": null,
            "overflow_x": null,
            "grid_auto_flow": null,
            "grid_area": null,
            "grid_template_columns": null,
            "flex": null,
            "_model_name": "LayoutModel",
            "justify_items": null,
            "grid_row": null,
            "max_height": null,
            "align_content": null,
            "visibility": null,
            "align_self": null,
            "height": null,
            "min_height": null,
            "padding": null,
            "grid_auto_rows": null,
            "grid_gap": null,
            "max_width": null,
            "order": null,
            "_view_module_version": "1.2.0",
            "grid_template_areas": null,
            "object_position": null,
            "object_fit": null,
            "grid_auto_columns": null,
            "margin": null,
            "display": null,
            "left": null
          }
        },
        "a30052a7727f4e78ae0227a88419fb06": {
          "model_module": "@jupyter-widgets/controls",
          "model_name": "HBoxModel",
          "state": {
            "_view_name": "HBoxView",
            "_dom_classes": [],
            "_model_name": "HBoxModel",
            "_view_module": "@jupyter-widgets/controls",
            "_model_module_version": "1.5.0",
            "_view_count": null,
            "_view_module_version": "1.5.0",
            "box_style": "",
            "layout": "IPY_MODEL_c8e2c0fe25ae489896cd504287729d74",
            "_model_module": "@jupyter-widgets/controls",
            "children": [
              "IPY_MODEL_0696902461894fe7ac02950d85831fa2",
              "IPY_MODEL_bd7469c2907640dda5a9bd4108653f3a"
            ]
          }
        },
        "c8e2c0fe25ae489896cd504287729d74": {
          "model_module": "@jupyter-widgets/base",
          "model_name": "LayoutModel",
          "state": {
            "_view_name": "LayoutView",
            "grid_template_rows": null,
            "right": null,
            "justify_content": null,
            "_view_module": "@jupyter-widgets/base",
            "overflow": null,
            "_model_module_version": "1.2.0",
            "_view_count": null,
            "flex_flow": null,
            "width": null,
            "min_width": null,
            "border": null,
            "align_items": null,
            "bottom": null,
            "_model_module": "@jupyter-widgets/base",
            "top": null,
            "grid_column": null,
            "overflow_y": null,
            "overflow_x": null,
            "grid_auto_flow": null,
            "grid_area": null,
            "grid_template_columns": null,
            "flex": null,
            "_model_name": "LayoutModel",
            "justify_items": null,
            "grid_row": null,
            "max_height": null,
            "align_content": null,
            "visibility": null,
            "align_self": null,
            "height": null,
            "min_height": null,
            "padding": null,
            "grid_auto_rows": null,
            "grid_gap": null,
            "max_width": null,
            "order": null,
            "_view_module_version": "1.2.0",
            "grid_template_areas": null,
            "object_position": null,
            "object_fit": null,
            "grid_auto_columns": null,
            "margin": null,
            "display": null,
            "left": null
          }
        },
        "0696902461894fe7ac02950d85831fa2": {
          "model_module": "@jupyter-widgets/controls",
          "model_name": "FloatProgressModel",
          "state": {
            "_view_name": "ProgressView",
            "style": "IPY_MODEL_f4a8cffea85449caa30f520a67e32ef9",
            "_dom_classes": [],
            "description": "Rounds: 100%",
            "_model_name": "FloatProgressModel",
            "bar_style": "success",
            "max": 10,
            "_view_module": "@jupyter-widgets/controls",
            "_model_module_version": "1.5.0",
            "value": 10,
            "_view_count": null,
            "_view_module_version": "1.5.0",
            "orientation": "horizontal",
            "min": 0,
            "description_tooltip": null,
            "_model_module": "@jupyter-widgets/controls",
            "layout": "IPY_MODEL_282ed928fc8d43c6b25a2e23842aae14"
          }
        },
        "bd7469c2907640dda5a9bd4108653f3a": {
          "model_module": "@jupyter-widgets/controls",
          "model_name": "HTMLModel",
          "state": {
            "_view_name": "HTMLView",
            "style": "IPY_MODEL_a7dda3269e43425f81666aeaef61881d",
            "_dom_classes": [],
            "description": "",
            "_model_name": "HTMLModel",
            "placeholder": "​",
            "_view_module": "@jupyter-widgets/controls",
            "_model_module_version": "1.5.0",
            "value": " 10/10 [02:47&lt;00:00, 16.76s/it]",
            "_view_count": null,
            "_view_module_version": "1.5.0",
            "description_tooltip": null,
            "_model_module": "@jupyter-widgets/controls",
            "layout": "IPY_MODEL_6a477813dfae4cb1beacc48f4104ebe7"
          }
        },
        "f4a8cffea85449caa30f520a67e32ef9": {
          "model_module": "@jupyter-widgets/controls",
          "model_name": "ProgressStyleModel",
          "state": {
            "_view_name": "StyleView",
            "_model_name": "ProgressStyleModel",
            "description_width": "initial",
            "_view_module": "@jupyter-widgets/base",
            "_model_module_version": "1.5.0",
            "_view_count": null,
            "_view_module_version": "1.2.0",
            "bar_color": null,
            "_model_module": "@jupyter-widgets/controls"
          }
        },
        "282ed928fc8d43c6b25a2e23842aae14": {
          "model_module": "@jupyter-widgets/base",
          "model_name": "LayoutModel",
          "state": {
            "_view_name": "LayoutView",
            "grid_template_rows": null,
            "right": null,
            "justify_content": null,
            "_view_module": "@jupyter-widgets/base",
            "overflow": null,
            "_model_module_version": "1.2.0",
            "_view_count": null,
            "flex_flow": null,
            "width": null,
            "min_width": null,
            "border": null,
            "align_items": null,
            "bottom": null,
            "_model_module": "@jupyter-widgets/base",
            "top": null,
            "grid_column": null,
            "overflow_y": null,
            "overflow_x": null,
            "grid_auto_flow": null,
            "grid_area": null,
            "grid_template_columns": null,
            "flex": null,
            "_model_name": "LayoutModel",
            "justify_items": null,
            "grid_row": null,
            "max_height": null,
            "align_content": null,
            "visibility": null,
            "align_self": null,
            "height": null,
            "min_height": null,
            "padding": null,
            "grid_auto_rows": null,
            "grid_gap": null,
            "max_width": null,
            "order": null,
            "_view_module_version": "1.2.0",
            "grid_template_areas": null,
            "object_position": null,
            "object_fit": null,
            "grid_auto_columns": null,
            "margin": null,
            "display": null,
            "left": null
          }
        },
        "a7dda3269e43425f81666aeaef61881d": {
          "model_module": "@jupyter-widgets/controls",
          "model_name": "DescriptionStyleModel",
          "state": {
            "_view_name": "StyleView",
            "_model_name": "DescriptionStyleModel",
            "description_width": "",
            "_view_module": "@jupyter-widgets/base",
            "_model_module_version": "1.5.0",
            "_view_count": null,
            "_view_module_version": "1.2.0",
            "_model_module": "@jupyter-widgets/controls"
          }
        },
        "6a477813dfae4cb1beacc48f4104ebe7": {
          "model_module": "@jupyter-widgets/base",
          "model_name": "LayoutModel",
          "state": {
            "_view_name": "LayoutView",
            "grid_template_rows": null,
            "right": null,
            "justify_content": null,
            "_view_module": "@jupyter-widgets/base",
            "overflow": null,
            "_model_module_version": "1.2.0",
            "_view_count": null,
            "flex_flow": null,
            "width": null,
            "min_width": null,
            "border": null,
            "align_items": null,
            "bottom": null,
            "_model_module": "@jupyter-widgets/base",
            "top": null,
            "grid_column": null,
            "overflow_y": null,
            "overflow_x": null,
            "grid_auto_flow": null,
            "grid_area": null,
            "grid_template_columns": null,
            "flex": null,
            "_model_name": "LayoutModel",
            "justify_items": null,
            "grid_row": null,
            "max_height": null,
            "align_content": null,
            "visibility": null,
            "align_self": null,
            "height": null,
            "min_height": null,
            "padding": null,
            "grid_auto_rows": null,
            "grid_gap": null,
            "max_width": null,
            "order": null,
            "_view_module_version": "1.2.0",
            "grid_template_areas": null,
            "object_position": null,
            "object_fit": null,
            "grid_auto_columns": null,
            "margin": null,
            "display": null,
            "left": null
          }
        },
        "e8f86b3452ff4698970e7abde896799f": {
          "model_module": "@jupyter-widgets/controls",
          "model_name": "HBoxModel",
          "state": {
            "_view_name": "HBoxView",
            "_dom_classes": [],
            "_model_name": "HBoxModel",
            "_view_module": "@jupyter-widgets/controls",
            "_model_module_version": "1.5.0",
            "_view_count": null,
            "_view_module_version": "1.5.0",
            "box_style": "",
            "layout": "IPY_MODEL_827c11b38e4e49dcb2130eeaa4eceb61",
            "_model_module": "@jupyter-widgets/controls",
            "children": [
              "IPY_MODEL_48e8116711434bfa93f9064045a1d830",
              "IPY_MODEL_9c8e97dabc704d23bc68d844718bf0fa"
            ]
          }
        },
        "827c11b38e4e49dcb2130eeaa4eceb61": {
          "model_module": "@jupyter-widgets/base",
          "model_name": "LayoutModel",
          "state": {
            "_view_name": "LayoutView",
            "grid_template_rows": null,
            "right": null,
            "justify_content": null,
            "_view_module": "@jupyter-widgets/base",
            "overflow": null,
            "_model_module_version": "1.2.0",
            "_view_count": null,
            "flex_flow": null,
            "width": null,
            "min_width": null,
            "border": null,
            "align_items": null,
            "bottom": null,
            "_model_module": "@jupyter-widgets/base",
            "top": null,
            "grid_column": null,
            "overflow_y": null,
            "overflow_x": null,
            "grid_auto_flow": null,
            "grid_area": null,
            "grid_template_columns": null,
            "flex": null,
            "_model_name": "LayoutModel",
            "justify_items": null,
            "grid_row": null,
            "max_height": null,
            "align_content": null,
            "visibility": null,
            "align_self": null,
            "height": null,
            "min_height": null,
            "padding": null,
            "grid_auto_rows": null,
            "grid_gap": null,
            "max_width": null,
            "order": null,
            "_view_module_version": "1.2.0",
            "grid_template_areas": null,
            "object_position": null,
            "object_fit": null,
            "grid_auto_columns": null,
            "margin": null,
            "display": null,
            "left": null
          }
        },
        "48e8116711434bfa93f9064045a1d830": {
          "model_module": "@jupyter-widgets/controls",
          "model_name": "FloatProgressModel",
          "state": {
            "_view_name": "ProgressView",
            "style": "IPY_MODEL_b3427def17014ee6bc178e2abbb92711",
            "_dom_classes": [],
            "description": "Rounds: 100%",
            "_model_name": "FloatProgressModel",
            "bar_style": "success",
            "max": 10,
            "_view_module": "@jupyter-widgets/controls",
            "_model_module_version": "1.5.0",
            "value": 10,
            "_view_count": null,
            "_view_module_version": "1.5.0",
            "orientation": "horizontal",
            "min": 0,
            "description_tooltip": null,
            "_model_module": "@jupyter-widgets/controls",
            "layout": "IPY_MODEL_fbd7874ca475433da9e6cf714f0d88f9"
          }
        },
        "9c8e97dabc704d23bc68d844718bf0fa": {
          "model_module": "@jupyter-widgets/controls",
          "model_name": "HTMLModel",
          "state": {
            "_view_name": "HTMLView",
            "style": "IPY_MODEL_183221a8297341728b99fb1196a70e5c",
            "_dom_classes": [],
            "description": "",
            "_model_name": "HTMLModel",
            "placeholder": "​",
            "_view_module": "@jupyter-widgets/controls",
            "_model_module_version": "1.5.0",
            "value": " 10/10 [02:53&lt;00:00, 17.32s/it]",
            "_view_count": null,
            "_view_module_version": "1.5.0",
            "description_tooltip": null,
            "_model_module": "@jupyter-widgets/controls",
            "layout": "IPY_MODEL_32ccdf62f2b64196be2c15a1cd0f2531"
          }
        },
        "b3427def17014ee6bc178e2abbb92711": {
          "model_module": "@jupyter-widgets/controls",
          "model_name": "ProgressStyleModel",
          "state": {
            "_view_name": "StyleView",
            "_model_name": "ProgressStyleModel",
            "description_width": "initial",
            "_view_module": "@jupyter-widgets/base",
            "_model_module_version": "1.5.0",
            "_view_count": null,
            "_view_module_version": "1.2.0",
            "bar_color": null,
            "_model_module": "@jupyter-widgets/controls"
          }
        },
        "fbd7874ca475433da9e6cf714f0d88f9": {
          "model_module": "@jupyter-widgets/base",
          "model_name": "LayoutModel",
          "state": {
            "_view_name": "LayoutView",
            "grid_template_rows": null,
            "right": null,
            "justify_content": null,
            "_view_module": "@jupyter-widgets/base",
            "overflow": null,
            "_model_module_version": "1.2.0",
            "_view_count": null,
            "flex_flow": null,
            "width": null,
            "min_width": null,
            "border": null,
            "align_items": null,
            "bottom": null,
            "_model_module": "@jupyter-widgets/base",
            "top": null,
            "grid_column": null,
            "overflow_y": null,
            "overflow_x": null,
            "grid_auto_flow": null,
            "grid_area": null,
            "grid_template_columns": null,
            "flex": null,
            "_model_name": "LayoutModel",
            "justify_items": null,
            "grid_row": null,
            "max_height": null,
            "align_content": null,
            "visibility": null,
            "align_self": null,
            "height": null,
            "min_height": null,
            "padding": null,
            "grid_auto_rows": null,
            "grid_gap": null,
            "max_width": null,
            "order": null,
            "_view_module_version": "1.2.0",
            "grid_template_areas": null,
            "object_position": null,
            "object_fit": null,
            "grid_auto_columns": null,
            "margin": null,
            "display": null,
            "left": null
          }
        },
        "183221a8297341728b99fb1196a70e5c": {
          "model_module": "@jupyter-widgets/controls",
          "model_name": "DescriptionStyleModel",
          "state": {
            "_view_name": "StyleView",
            "_model_name": "DescriptionStyleModel",
            "description_width": "",
            "_view_module": "@jupyter-widgets/base",
            "_model_module_version": "1.5.0",
            "_view_count": null,
            "_view_module_version": "1.2.0",
            "_model_module": "@jupyter-widgets/controls"
          }
        },
        "32ccdf62f2b64196be2c15a1cd0f2531": {
          "model_module": "@jupyter-widgets/base",
          "model_name": "LayoutModel",
          "state": {
            "_view_name": "LayoutView",
            "grid_template_rows": null,
            "right": null,
            "justify_content": null,
            "_view_module": "@jupyter-widgets/base",
            "overflow": null,
            "_model_module_version": "1.2.0",
            "_view_count": null,
            "flex_flow": null,
            "width": null,
            "min_width": null,
            "border": null,
            "align_items": null,
            "bottom": null,
            "_model_module": "@jupyter-widgets/base",
            "top": null,
            "grid_column": null,
            "overflow_y": null,
            "overflow_x": null,
            "grid_auto_flow": null,
            "grid_area": null,
            "grid_template_columns": null,
            "flex": null,
            "_model_name": "LayoutModel",
            "justify_items": null,
            "grid_row": null,
            "max_height": null,
            "align_content": null,
            "visibility": null,
            "align_self": null,
            "height": null,
            "min_height": null,
            "padding": null,
            "grid_auto_rows": null,
            "grid_gap": null,
            "max_width": null,
            "order": null,
            "_view_module_version": "1.2.0",
            "grid_template_areas": null,
            "object_position": null,
            "object_fit": null,
            "grid_auto_columns": null,
            "margin": null,
            "display": null,
            "left": null
          }
        },
        "0e00c80f03d54ef28f5318a62e7b26d4": {
          "model_module": "@jupyter-widgets/controls",
          "model_name": "HBoxModel",
          "state": {
            "_view_name": "HBoxView",
            "_dom_classes": [],
            "_model_name": "HBoxModel",
            "_view_module": "@jupyter-widgets/controls",
            "_model_module_version": "1.5.0",
            "_view_count": null,
            "_view_module_version": "1.5.0",
            "box_style": "",
            "layout": "IPY_MODEL_44591d064bef4fa7be24c7dda3a097c3",
            "_model_module": "@jupyter-widgets/controls",
            "children": [
              "IPY_MODEL_1558dcb96d7d4e41807a3704b16c759d",
              "IPY_MODEL_0aa9c8a08cb94d099202fb20cbbb82ec"
            ]
          }
        },
        "44591d064bef4fa7be24c7dda3a097c3": {
          "model_module": "@jupyter-widgets/base",
          "model_name": "LayoutModel",
          "state": {
            "_view_name": "LayoutView",
            "grid_template_rows": null,
            "right": null,
            "justify_content": null,
            "_view_module": "@jupyter-widgets/base",
            "overflow": null,
            "_model_module_version": "1.2.0",
            "_view_count": null,
            "flex_flow": null,
            "width": null,
            "min_width": null,
            "border": null,
            "align_items": null,
            "bottom": null,
            "_model_module": "@jupyter-widgets/base",
            "top": null,
            "grid_column": null,
            "overflow_y": null,
            "overflow_x": null,
            "grid_auto_flow": null,
            "grid_area": null,
            "grid_template_columns": null,
            "flex": null,
            "_model_name": "LayoutModel",
            "justify_items": null,
            "grid_row": null,
            "max_height": null,
            "align_content": null,
            "visibility": null,
            "align_self": null,
            "height": null,
            "min_height": null,
            "padding": null,
            "grid_auto_rows": null,
            "grid_gap": null,
            "max_width": null,
            "order": null,
            "_view_module_version": "1.2.0",
            "grid_template_areas": null,
            "object_position": null,
            "object_fit": null,
            "grid_auto_columns": null,
            "margin": null,
            "display": null,
            "left": null
          }
        },
        "1558dcb96d7d4e41807a3704b16c759d": {
          "model_module": "@jupyter-widgets/controls",
          "model_name": "FloatProgressModel",
          "state": {
            "_view_name": "ProgressView",
            "style": "IPY_MODEL_804a2507aadc4fdebcfc480b64d5ece1",
            "_dom_classes": [],
            "description": "Rounds: 100%",
            "_model_name": "FloatProgressModel",
            "bar_style": "success",
            "max": 10,
            "_view_module": "@jupyter-widgets/controls",
            "_model_module_version": "1.5.0",
            "value": 10,
            "_view_count": null,
            "_view_module_version": "1.5.0",
            "orientation": "horizontal",
            "min": 0,
            "description_tooltip": null,
            "_model_module": "@jupyter-widgets/controls",
            "layout": "IPY_MODEL_3f566c57b7ca47298301e6885d1b3d00"
          }
        },
        "0aa9c8a08cb94d099202fb20cbbb82ec": {
          "model_module": "@jupyter-widgets/controls",
          "model_name": "HTMLModel",
          "state": {
            "_view_name": "HTMLView",
            "style": "IPY_MODEL_2955e3a099f8429e93587a459ae5833f",
            "_dom_classes": [],
            "description": "",
            "_model_name": "HTMLModel",
            "placeholder": "​",
            "_view_module": "@jupyter-widgets/controls",
            "_model_module_version": "1.5.0",
            "value": " 10/10 [02:44&lt;00:00, 16.41s/it]",
            "_view_count": null,
            "_view_module_version": "1.5.0",
            "description_tooltip": null,
            "_model_module": "@jupyter-widgets/controls",
            "layout": "IPY_MODEL_6de1a4e6fa824b6abd7892c626edd734"
          }
        },
        "804a2507aadc4fdebcfc480b64d5ece1": {
          "model_module": "@jupyter-widgets/controls",
          "model_name": "ProgressStyleModel",
          "state": {
            "_view_name": "StyleView",
            "_model_name": "ProgressStyleModel",
            "description_width": "initial",
            "_view_module": "@jupyter-widgets/base",
            "_model_module_version": "1.5.0",
            "_view_count": null,
            "_view_module_version": "1.2.0",
            "bar_color": null,
            "_model_module": "@jupyter-widgets/controls"
          }
        },
        "3f566c57b7ca47298301e6885d1b3d00": {
          "model_module": "@jupyter-widgets/base",
          "model_name": "LayoutModel",
          "state": {
            "_view_name": "LayoutView",
            "grid_template_rows": null,
            "right": null,
            "justify_content": null,
            "_view_module": "@jupyter-widgets/base",
            "overflow": null,
            "_model_module_version": "1.2.0",
            "_view_count": null,
            "flex_flow": null,
            "width": null,
            "min_width": null,
            "border": null,
            "align_items": null,
            "bottom": null,
            "_model_module": "@jupyter-widgets/base",
            "top": null,
            "grid_column": null,
            "overflow_y": null,
            "overflow_x": null,
            "grid_auto_flow": null,
            "grid_area": null,
            "grid_template_columns": null,
            "flex": null,
            "_model_name": "LayoutModel",
            "justify_items": null,
            "grid_row": null,
            "max_height": null,
            "align_content": null,
            "visibility": null,
            "align_self": null,
            "height": null,
            "min_height": null,
            "padding": null,
            "grid_auto_rows": null,
            "grid_gap": null,
            "max_width": null,
            "order": null,
            "_view_module_version": "1.2.0",
            "grid_template_areas": null,
            "object_position": null,
            "object_fit": null,
            "grid_auto_columns": null,
            "margin": null,
            "display": null,
            "left": null
          }
        },
        "2955e3a099f8429e93587a459ae5833f": {
          "model_module": "@jupyter-widgets/controls",
          "model_name": "DescriptionStyleModel",
          "state": {
            "_view_name": "StyleView",
            "_model_name": "DescriptionStyleModel",
            "description_width": "",
            "_view_module": "@jupyter-widgets/base",
            "_model_module_version": "1.5.0",
            "_view_count": null,
            "_view_module_version": "1.2.0",
            "_model_module": "@jupyter-widgets/controls"
          }
        },
        "6de1a4e6fa824b6abd7892c626edd734": {
          "model_module": "@jupyter-widgets/base",
          "model_name": "LayoutModel",
          "state": {
            "_view_name": "LayoutView",
            "grid_template_rows": null,
            "right": null,
            "justify_content": null,
            "_view_module": "@jupyter-widgets/base",
            "overflow": null,
            "_model_module_version": "1.2.0",
            "_view_count": null,
            "flex_flow": null,
            "width": null,
            "min_width": null,
            "border": null,
            "align_items": null,
            "bottom": null,
            "_model_module": "@jupyter-widgets/base",
            "top": null,
            "grid_column": null,
            "overflow_y": null,
            "overflow_x": null,
            "grid_auto_flow": null,
            "grid_area": null,
            "grid_template_columns": null,
            "flex": null,
            "_model_name": "LayoutModel",
            "justify_items": null,
            "grid_row": null,
            "max_height": null,
            "align_content": null,
            "visibility": null,
            "align_self": null,
            "height": null,
            "min_height": null,
            "padding": null,
            "grid_auto_rows": null,
            "grid_gap": null,
            "max_width": null,
            "order": null,
            "_view_module_version": "1.2.0",
            "grid_template_areas": null,
            "object_position": null,
            "object_fit": null,
            "grid_auto_columns": null,
            "margin": null,
            "display": null,
            "left": null
          }
        }
      }
    }
  },
  "cells": [
    {
      "cell_type": "markdown",
      "metadata": {
        "id": "ra8NcnZTjTXT",
        "colab_type": "text"
      },
      "source": [
        "# Environment Preparation"
      ]
    },
    {
      "cell_type": "code",
      "metadata": {
        "id": "S5241ie2f9BP",
        "colab_type": "code",
        "colab": {
          "base_uri": "https://localhost:8080/",
          "height": 1000
        },
        "outputId": "1a910419-bd17-4f27-d60f-362a772ab4dc"
      },
      "source": [
        "# only for google colab\n",
        "! git clone https://github.com/ferisetiawan/MNISTFederatedLearning\n",
        "! cp MNISTFederatedLearning/*.py .\n",
        "! pip install -r MNISTFederatedLearning/requirements.txt"
      ],
      "execution_count": null,
      "outputs": [
        {
          "output_type": "stream",
          "text": [
            "Cloning into 'bfpytorch'...\n",
            "warning: redirecting to https://github.com/rmicallef/bfpytorch.git/\n",
            "remote: Enumerating objects: 151, done.\u001b[K\n",
            "remote: Counting objects: 100% (151/151), done.\u001b[K\n",
            "remote: Compressing objects: 100% (104/104), done.\u001b[K\n",
            "remote: Total 320 (delta 74), reused 121 (delta 44), pack-reused 169\u001b[K\n",
            "Receiving objects: 100% (320/320), 11.87 MiB | 25.37 MiB/s, done.\n",
            "Resolving deltas: 100% (155/155), done.\n",
            "Requirement already satisfied: torch in /usr/local/lib/python3.6/dist-packages (from -r bfpytorch/requirements.txt (line 1)) (1.6.0+cu101)\n",
            "Requirement already satisfied: torchvision in /usr/local/lib/python3.6/dist-packages (from -r bfpytorch/requirements.txt (line 2)) (0.7.0+cu101)\n",
            "Requirement already satisfied: numpy in /usr/local/lib/python3.6/dist-packages (from -r bfpytorch/requirements.txt (line 3)) (1.18.5)\n",
            "Requirement already satisfied: tqdm>=4.39.0 in /usr/local/lib/python3.6/dist-packages (from -r bfpytorch/requirements.txt (line 4)) (4.41.1)\n",
            "Requirement already satisfied: matplotlib in /usr/local/lib/python3.6/dist-packages (from -r bfpytorch/requirements.txt (line 5)) (3.2.2)\n",
            "Requirement already satisfied: jupyter in /usr/local/lib/python3.6/dist-packages (from -r bfpytorch/requirements.txt (line 6)) (1.0.0)\n",
            "Requirement already satisfied: future in /usr/local/lib/python3.6/dist-packages (from torch->-r bfpytorch/requirements.txt (line 1)) (0.16.0)\n",
            "Requirement already satisfied: pillow>=4.1.1 in /usr/local/lib/python3.6/dist-packages (from torchvision->-r bfpytorch/requirements.txt (line 2)) (7.0.0)\n",
            "Requirement already satisfied: pyparsing!=2.0.4,!=2.1.2,!=2.1.6,>=2.0.1 in /usr/local/lib/python3.6/dist-packages (from matplotlib->-r bfpytorch/requirements.txt (line 5)) (2.4.7)\n",
            "Requirement already satisfied: python-dateutil>=2.1 in /usr/local/lib/python3.6/dist-packages (from matplotlib->-r bfpytorch/requirements.txt (line 5)) (2.8.1)\n",
            "Requirement already satisfied: kiwisolver>=1.0.1 in /usr/local/lib/python3.6/dist-packages (from matplotlib->-r bfpytorch/requirements.txt (line 5)) (1.2.0)\n",
            "Requirement already satisfied: cycler>=0.10 in /usr/local/lib/python3.6/dist-packages (from matplotlib->-r bfpytorch/requirements.txt (line 5)) (0.10.0)\n",
            "Requirement already satisfied: jupyter-console in /usr/local/lib/python3.6/dist-packages (from jupyter->-r bfpytorch/requirements.txt (line 6)) (5.2.0)\n",
            "Requirement already satisfied: notebook in /usr/local/lib/python3.6/dist-packages (from jupyter->-r bfpytorch/requirements.txt (line 6)) (5.3.1)\n",
            "Requirement already satisfied: ipywidgets in /usr/local/lib/python3.6/dist-packages (from jupyter->-r bfpytorch/requirements.txt (line 6)) (7.5.1)\n",
            "Requirement already satisfied: nbconvert in /usr/local/lib/python3.6/dist-packages (from jupyter->-r bfpytorch/requirements.txt (line 6)) (5.6.1)\n",
            "Requirement already satisfied: ipykernel in /usr/local/lib/python3.6/dist-packages (from jupyter->-r bfpytorch/requirements.txt (line 6)) (4.10.1)\n",
            "Requirement already satisfied: qtconsole in /usr/local/lib/python3.6/dist-packages (from jupyter->-r bfpytorch/requirements.txt (line 6)) (4.7.7)\n",
            "Requirement already satisfied: six>=1.5 in /usr/local/lib/python3.6/dist-packages (from python-dateutil>=2.1->matplotlib->-r bfpytorch/requirements.txt (line 5)) (1.15.0)\n",
            "Requirement already satisfied: ipython in /usr/local/lib/python3.6/dist-packages (from jupyter-console->jupyter->-r bfpytorch/requirements.txt (line 6)) (5.5.0)\n",
            "Requirement already satisfied: pygments in /usr/local/lib/python3.6/dist-packages (from jupyter-console->jupyter->-r bfpytorch/requirements.txt (line 6)) (2.6.1)\n",
            "Requirement already satisfied: prompt-toolkit<2.0.0,>=1.0.0 in /usr/local/lib/python3.6/dist-packages (from jupyter-console->jupyter->-r bfpytorch/requirements.txt (line 6)) (1.0.18)\n",
            "Requirement already satisfied: jupyter-client in /usr/local/lib/python3.6/dist-packages (from jupyter-console->jupyter->-r bfpytorch/requirements.txt (line 6)) (5.3.5)\n",
            "Requirement already satisfied: ipython-genutils in /usr/local/lib/python3.6/dist-packages (from notebook->jupyter->-r bfpytorch/requirements.txt (line 6)) (0.2.0)\n",
            "Requirement already satisfied: nbformat in /usr/local/lib/python3.6/dist-packages (from notebook->jupyter->-r bfpytorch/requirements.txt (line 6)) (5.0.7)\n",
            "Requirement already satisfied: jupyter-core>=4.4.0 in /usr/local/lib/python3.6/dist-packages (from notebook->jupyter->-r bfpytorch/requirements.txt (line 6)) (4.6.3)\n",
            "Requirement already satisfied: tornado>=4 in /usr/local/lib/python3.6/dist-packages (from notebook->jupyter->-r bfpytorch/requirements.txt (line 6)) (5.1.1)\n",
            "Requirement already satisfied: jinja2 in /usr/local/lib/python3.6/dist-packages (from notebook->jupyter->-r bfpytorch/requirements.txt (line 6)) (2.11.2)\n",
            "Requirement already satisfied: Send2Trash in /usr/local/lib/python3.6/dist-packages (from notebook->jupyter->-r bfpytorch/requirements.txt (line 6)) (1.5.0)\n",
            "Requirement already satisfied: traitlets>=4.2.1 in /usr/local/lib/python3.6/dist-packages (from notebook->jupyter->-r bfpytorch/requirements.txt (line 6)) (4.3.3)\n",
            "Requirement already satisfied: terminado>=0.8.1 in /usr/local/lib/python3.6/dist-packages (from notebook->jupyter->-r bfpytorch/requirements.txt (line 6)) (0.8.3)\n",
            "Requirement already satisfied: widgetsnbextension~=3.5.0 in /usr/local/lib/python3.6/dist-packages (from ipywidgets->jupyter->-r bfpytorch/requirements.txt (line 6)) (3.5.1)\n",
            "Requirement already satisfied: mistune<2,>=0.8.1 in /usr/local/lib/python3.6/dist-packages (from nbconvert->jupyter->-r bfpytorch/requirements.txt (line 6)) (0.8.4)\n",
            "Requirement already satisfied: defusedxml in /usr/local/lib/python3.6/dist-packages (from nbconvert->jupyter->-r bfpytorch/requirements.txt (line 6)) (0.6.0)\n",
            "Requirement already satisfied: entrypoints>=0.2.2 in /usr/local/lib/python3.6/dist-packages (from nbconvert->jupyter->-r bfpytorch/requirements.txt (line 6)) (0.3)\n",
            "Requirement already satisfied: testpath in /usr/local/lib/python3.6/dist-packages (from nbconvert->jupyter->-r bfpytorch/requirements.txt (line 6)) (0.4.4)\n",
            "Requirement already satisfied: bleach in /usr/local/lib/python3.6/dist-packages (from nbconvert->jupyter->-r bfpytorch/requirements.txt (line 6)) (3.1.5)\n",
            "Requirement already satisfied: pandocfilters>=1.4.1 in /usr/local/lib/python3.6/dist-packages (from nbconvert->jupyter->-r bfpytorch/requirements.txt (line 6)) (1.4.2)\n",
            "Requirement already satisfied: pyzmq>=17.1 in /usr/local/lib/python3.6/dist-packages (from qtconsole->jupyter->-r bfpytorch/requirements.txt (line 6)) (19.0.2)\n",
            "Requirement already satisfied: qtpy in /usr/local/lib/python3.6/dist-packages (from qtconsole->jupyter->-r bfpytorch/requirements.txt (line 6)) (1.9.0)\n",
            "Requirement already satisfied: simplegeneric>0.8 in /usr/local/lib/python3.6/dist-packages (from ipython->jupyter-console->jupyter->-r bfpytorch/requirements.txt (line 6)) (0.8.1)\n",
            "Requirement already satisfied: decorator in /usr/local/lib/python3.6/dist-packages (from ipython->jupyter-console->jupyter->-r bfpytorch/requirements.txt (line 6)) (4.4.2)\n",
            "Requirement already satisfied: pickleshare in /usr/local/lib/python3.6/dist-packages (from ipython->jupyter-console->jupyter->-r bfpytorch/requirements.txt (line 6)) (0.7.5)\n",
            "Requirement already satisfied: setuptools>=18.5 in /usr/local/lib/python3.6/dist-packages (from ipython->jupyter-console->jupyter->-r bfpytorch/requirements.txt (line 6)) (50.3.0)\n",
            "Requirement already satisfied: pexpect; sys_platform != \"win32\" in /usr/local/lib/python3.6/dist-packages (from ipython->jupyter-console->jupyter->-r bfpytorch/requirements.txt (line 6)) (4.8.0)\n",
            "Requirement already satisfied: wcwidth in /usr/local/lib/python3.6/dist-packages (from prompt-toolkit<2.0.0,>=1.0.0->jupyter-console->jupyter->-r bfpytorch/requirements.txt (line 6)) (0.2.5)\n",
            "Requirement already satisfied: jsonschema!=2.5.0,>=2.4 in /usr/local/lib/python3.6/dist-packages (from nbformat->notebook->jupyter->-r bfpytorch/requirements.txt (line 6)) (2.6.0)\n",
            "Requirement already satisfied: MarkupSafe>=0.23 in /usr/local/lib/python3.6/dist-packages (from jinja2->notebook->jupyter->-r bfpytorch/requirements.txt (line 6)) (1.1.1)\n",
            "Requirement already satisfied: ptyprocess; os_name != \"nt\" in /usr/local/lib/python3.6/dist-packages (from terminado>=0.8.1->notebook->jupyter->-r bfpytorch/requirements.txt (line 6)) (0.6.0)\n",
            "Requirement already satisfied: webencodings in /usr/local/lib/python3.6/dist-packages (from bleach->nbconvert->jupyter->-r bfpytorch/requirements.txt (line 6)) (0.5.1)\n",
            "Requirement already satisfied: packaging in /usr/local/lib/python3.6/dist-packages (from bleach->nbconvert->jupyter->-r bfpytorch/requirements.txt (line 6)) (20.4)\n"
          ],
          "name": "stdout"
        }
      ]
    },
    {
      "cell_type": "code",
      "metadata": {
        "id": "DJqmrKPJi80q",
        "colab_type": "code",
        "colab": {
          "base_uri": "https://localhost:8080/",
          "height": 437,
          "referenced_widgets": [
            "12ac56aa028c4f5c9365236ad4e42798",
            "cef074b0be4440b9997f15726fac8043",
            "ba471fcb93eb49cbbc1be61698e02be8",
            "d54d124366cd4d03849f47c833932feb",
            "1d0296dcc357408da864a08eff750449",
            "a33f87b417784ceaab9f0b46a8ea014d",
            "1b55e00551a04802a31ba1d239118895",
            "09ccbb200a1f406b8887475b8813a12b",
            "cbabff21b9024468afb1fa071d7f3ad1",
            "8b9707dfb179439da2aeeba807522679",
            "c7a3fd0afe104864b7dd07ee912467df",
            "a5deeb05df684dbb980ae72e52608abd",
            "07613c525f5d40d09de250002251793b",
            "c2e7bc21395040b6bc547ef2dd70086c",
            "0d75ccbfe744427f9272658eb3c31fa5",
            "2c5875d013d04e5691840334fa94ef8a",
            "cb958e0c877a40fb9a08eb067951756b",
            "352e9d0daba64914b67f9ff9d5fabde0",
            "c3e5da4cd34948a6a89a0a1c77e45078",
            "ca0917f1758c4e97809c1b657539290d",
            "1d2b4d4590c04f07b8de593677aae601",
            "81658137146d448ab0850d99cd434917",
            "18a16c7bd18145fc85fc6e09bbc66918",
            "563d710c3d354741a9986eb83a997cec",
            "18c208c6306242d9acc6b37e4a395b7a",
            "fb90de23a88b4a2ab925da3fe9b9a5d9",
            "f0d85977cf114393be149adc3fd481cc",
            "a12b969837ad46f894d69c2e77b1aa4e",
            "a020967809f24d34aa54113c84cdbeaa",
            "da8b0ad72dc944779f25495f11a073a2",
            "c09b4d1b1d3c44aca034a02d7b860de5",
            "84fa49905a334f16a378c0cddc1b8652"
          ]
        },
        "outputId": "adda2cc1-f01a-4624-8e36-5499b6fe2bb0"
      },
      "source": [
        "from mnist_utils import get_MNIST_dataloaders\n",
        "\n",
        "default_training_dataloader, default_testing_dataloader = get_MNIST_dataloaders()\n",
        "\n",
        "default_training_dataset = default_training_dataloader.dataset\n",
        "default_testing_dataset = default_testing_dataloader.dataset\n",
        "\n",
        "print('Training dataset size:', len(default_training_dataset))\n",
        "print('Testing dataset size:', len(default_testing_dataset))"
      ],
      "execution_count": null,
      "outputs": [
        {
          "output_type": "stream",
          "text": [
            "Downloading http://yann.lecun.com/exdb/mnist/train-images-idx3-ubyte.gz to ./data/MNIST/raw/train-images-idx3-ubyte.gz\n"
          ],
          "name": "stdout"
        },
        {
          "output_type": "display_data",
          "data": {
            "application/vnd.jupyter.widget-view+json": {
              "model_id": "12ac56aa028c4f5c9365236ad4e42798",
              "version_minor": 0,
              "version_major": 2
            },
            "text/plain": [
              "HBox(children=(FloatProgress(value=1.0, bar_style='info', max=1.0), HTML(value='')))"
            ]
          },
          "metadata": {
            "tags": []
          }
        },
        {
          "output_type": "stream",
          "text": [
            "Extracting ./data/MNIST/raw/train-images-idx3-ubyte.gz to ./data/MNIST/raw\n",
            "Downloading http://yann.lecun.com/exdb/mnist/train-labels-idx1-ubyte.gz to ./data/MNIST/raw/train-labels-idx1-ubyte.gz\n"
          ],
          "name": "stdout"
        },
        {
          "output_type": "display_data",
          "data": {
            "application/vnd.jupyter.widget-view+json": {
              "model_id": "cbabff21b9024468afb1fa071d7f3ad1",
              "version_minor": 0,
              "version_major": 2
            },
            "text/plain": [
              "HBox(children=(FloatProgress(value=1.0, bar_style='info', max=1.0), HTML(value='')))"
            ]
          },
          "metadata": {
            "tags": []
          }
        },
        {
          "output_type": "stream",
          "text": [
            "Extracting ./data/MNIST/raw/train-labels-idx1-ubyte.gz to ./data/MNIST/raw\n",
            "Downloading http://yann.lecun.com/exdb/mnist/t10k-images-idx3-ubyte.gz to ./data/MNIST/raw/t10k-images-idx3-ubyte.gz\n"
          ],
          "name": "stdout"
        },
        {
          "output_type": "display_data",
          "data": {
            "application/vnd.jupyter.widget-view+json": {
              "model_id": "cb958e0c877a40fb9a08eb067951756b",
              "version_minor": 0,
              "version_major": 2
            },
            "text/plain": [
              "HBox(children=(FloatProgress(value=1.0, bar_style='info', max=1.0), HTML(value='')))"
            ]
          },
          "metadata": {
            "tags": []
          }
        },
        {
          "output_type": "stream",
          "text": [
            "Extracting ./data/MNIST/raw/t10k-images-idx3-ubyte.gz to ./data/MNIST/raw\n",
            "Downloading http://yann.lecun.com/exdb/mnist/t10k-labels-idx1-ubyte.gz to ./data/MNIST/raw/t10k-labels-idx1-ubyte.gz\n",
            "\n",
            "\n"
          ],
          "name": "stdout"
        },
        {
          "output_type": "display_data",
          "data": {
            "application/vnd.jupyter.widget-view+json": {
              "model_id": "18c208c6306242d9acc6b37e4a395b7a",
              "version_minor": 0,
              "version_major": 2
            },
            "text/plain": [
              "HBox(children=(FloatProgress(value=1.0, bar_style='info', max=1.0), HTML(value='')))"
            ]
          },
          "metadata": {
            "tags": []
          }
        },
        {
          "output_type": "stream",
          "text": [
            "Extracting ./data/MNIST/raw/t10k-labels-idx1-ubyte.gz to ./data/MNIST/raw\n",
            "Processing...\n"
          ],
          "name": "stdout"
        },
        {
          "output_type": "stream",
          "text": [
            "/usr/local/lib/python3.6/dist-packages/torchvision/datasets/mnist.py:469: UserWarning: The given NumPy array is not writeable, and PyTorch does not support non-writeable tensors. This means you can write to the underlying (supposedly non-writeable) NumPy array using the tensor. You may want to copy the array to protect its data or make it writeable before converting it to a tensor. This type of warning will be suppressed for the rest of this program. (Triggered internally at  /pytorch/torch/csrc/utils/tensor_numpy.cpp:141.)\n",
            "  return torch.from_numpy(parsed.astype(m[2], copy=False)).view(*s)\n"
          ],
          "name": "stderr"
        },
        {
          "output_type": "stream",
          "text": [
            "Done!\n",
            "Training dataset size: 60000\n",
            "Testing dataset size: 10000\n"
          ],
          "name": "stdout"
        }
      ]
    },
    {
      "cell_type": "code",
      "metadata": {
        "id": "ahC2YKzmjDOT",
        "colab_type": "code",
        "colab": {
          "base_uri": "https://localhost:8080/",
          "height": 378,
          "referenced_widgets": [
            "63b7a142eb004f4ea892902b07580aa4",
            "95abdef4e14d495bad9e11623a57d2bd",
            "85ee06ab5bb04f159a86bb6b5e48f0f7",
            "cf86138b74a04d2c8ef1382d157a1418",
            "2d2364c161ed42dba998a330acb2fe58",
            "93c466a5e11e460ab32cfc603de79fb6",
            "2087b02d137945409479f20138b433c3",
            "9e555ef8b6eb4955a96b7c5b50eac596"
          ]
        },
        "outputId": "dab3bad7-6015-427d-cd55-7601d9d632c2"
      },
      "source": [
        "from mnist_utils import plot_digit_histogram\n",
        "\n",
        "plot_digit_histogram([default_training_dataloader, default_testing_dataloader], title='MNIST Complete Datasets')"
      ],
      "execution_count": null,
      "outputs": [
        {
          "output_type": "display_data",
          "data": {
            "application/vnd.jupyter.widget-view+json": {
              "model_id": "63b7a142eb004f4ea892902b07580aa4",
              "version_minor": 0,
              "version_major": 2
            },
            "text/plain": [
              "HBox(children=(FloatProgress(value=0.0, description='Tabulating datasets', max=2.0, style=ProgressStyle(descri…"
            ]
          },
          "metadata": {
            "tags": []
          }
        },
        {
          "output_type": "stream",
          "text": [
            "\n",
            "\n",
            "\n"
          ],
          "name": "stdout"
        },
        {
          "output_type": "display_data",
          "data": {
            "image/png": "[encoded data removed]",
            "text/plain": [
              "<Figure size 432x288 with 1 Axes>"
            ]
          },
          "metadata": {
            "tags": [],
            "needs_background": "light"
          }
        }
      ]
    },
    {
      "cell_type": "markdown",
      "metadata": {
        "id": "bCvOTdU3jIPg",
        "colab_type": "text"
      },
      "source": [
        "# Baseline Non-Federative Learning Approach"
      ]
    },
    {
      "cell_type": "code",
      "metadata": {
        "id": "yP-UgAA7jQP0",
        "colab_type": "code",
        "colab": {
          "base_uri": "https://localhost:8080/",
          "height": 306
        },
        "outputId": "3a14f0c2-8a16-4e11-b99c-62ef5ad336d1"
      },
      "source": [
        "import torch\n",
        "from mnist_utils import DefaultNet\n",
        "from mnist_utils import split_dataset\n",
        "\n",
        "# default training rounds\n",
        "default_n_rounds = 10\n",
        "\n",
        "# target for quitting early (helps to compare approaches more quickly)\n",
        "default_target_accuracy = None\n",
        "\n",
        "# Get model and test data\n",
        "model = DefaultNet()\n",
        "test_samples, test_labels = split_dataset(default_testing_dataset)\n",
        "\n",
        "# Load model and test data to the GPU if possible\n",
        "device = torch.device('cuda' if torch.cuda.is_available() else 'cpu') # smoke 'em if you got 'em\n",
        "model = model.to(device)\n",
        "test_samples = test_samples.to(device)\n",
        "test_labels = test_labels.to(device)\n",
        "\n",
        "optimizer = torch.optim.SGD(model.parameters(), lr=0.02, momentum=0.5)\n",
        "#optimizer = torch.optim.Adadelta(model.parameters(), lr=1.) # original sample optimizer\n",
        "loss_function = torch.nn.CrossEntropyLoss()\n",
        "\n",
        "print('Device:', device)\n",
        "print('Model:', model)\n",
        "print('Optimizer:', optimizer)\n",
        "print('Loss function:', loss_function)\n",
        "print(\"Training dataset size:\", len(default_training_dataloader.dataset))\n",
        "print(\"Testing dataset size:\", len(default_testing_dataset))"
      ],
      "execution_count": null,
      "outputs": [
        {
          "output_type": "stream",
          "text": [
            "Device: cpu\n",
            "Model: DefaultNet(\n",
            "  (fc1): Linear(in_features=784, out_features=500, bias=True)\n",
            "  (fc2): Linear(in_features=500, out_features=256, bias=True)\n",
            "  (fc3): Linear(in_features=256, out_features=10, bias=True)\n",
            ")\n",
            "Optimizer: SGD (\n",
            "Parameter Group 0\n",
            "    dampening: 0\n",
            "    lr: 0.02\n",
            "    momentum: 0.5\n",
            "    nesterov: False\n",
            "    weight_decay: 0\n",
            ")\n",
            "Loss function: CrossEntropyLoss()\n",
            "Training dataset size: 60000\n",
            "Testing dataset size: 10000\n"
          ],
          "name": "stdout"
        }
      ]
    },
    {
      "cell_type": "code",
      "metadata": {
        "id": "lyUFDZ9WkKQ7",
        "colab_type": "code",
        "colab": {
          "base_uri": "https://localhost:8080/",
          "height": 236,
          "referenced_widgets": [
            "f266c64379044f9abde5f5d5f205c556",
            "c7fe31b885e542f5acc1cd52217e2576",
            "8da528433be548249296ca9f8bc64002",
            "ee5cdc1657294691af789cd28954cdcc",
            "75a1d5120a474da59c05c97f031549ef",
            "f1ba48be3f6145219d734a0ea1d8c9b8",
            "1a2f60ca026c4be9b0e153fc50065112",
            "be0f05444e74421db4b6ada771a4f284"
          ]
        },
        "outputId": "b962e45e-b0dd-47b8-ddb6-ac0e799b812a"
      },
      "source": [
        "from mnist_utils import print_training_update\n",
        "from tqdm.notebook import tqdm\n",
        "from tqdm.notebook import trange\n",
        "\n",
        "nonfederated_history = {'test_loss': [], 'test_accuracy': []}\n",
        "\n",
        "for epoch in trange(default_n_rounds):\n",
        "    \n",
        "    # train the model\n",
        "    model.train(True)\n",
        "    for i, (training_samples, training_labels) in enumerate(default_training_dataloader):\n",
        "        training_samples = training_samples.to(device)\n",
        "        training_labels = training_labels.to(device)\n",
        "        \n",
        "        optimizer.zero_grad()\n",
        "        training_predictions = model(training_samples)\n",
        "        training_loss = loss_function(training_predictions, training_labels)\n",
        "        training_loss.backward()\n",
        "        optimizer.step()\n",
        "\n",
        "    # test the model\n",
        "    model.train(False)\n",
        "    with torch.no_grad():\n",
        "        output = model(test_samples)\n",
        "        output = output.to(device)\n",
        "        \n",
        "        test_loss = loss_function(output, test_labels).item()\n",
        "        test_predicted_classes = output.argmax(dim=1, keepdim=True)\n",
        "        n_correct = test_predicted_classes.eq(test_labels.view_as(test_predicted_classes)).sum().item()\n",
        "    accuracy = (n_correct / len(test_labels)) * 100.\n",
        "\n",
        "    #record loss and accuracy\n",
        "    nonfederated_history['test_loss'].append(test_loss)\n",
        "    nonfederated_history['test_accuracy'].append(accuracy)\n",
        "    print_training_update('Round {:3}'.format(epoch), nonfederated_history, id(model))"
      ],
      "execution_count": null,
      "outputs": [
        {
          "output_type": "display_data",
          "data": {
            "application/vnd.jupyter.widget-view+json": {
              "model_id": "f266c64379044f9abde5f5d5f205c556",
              "version_minor": 0,
              "version_major": 2
            },
            "text/plain": [
              "HBox(children=(FloatProgress(value=0.0, max=10.0), HTML(value='')))"
            ]
          },
          "metadata": {
            "tags": []
          }
        },
        {
          "output_type": "stream",
          "text": [
            "Round   0\tloss: 0.1844 (+0.0000)\tacc: 94.43% ( +0.00%)\tmodel: 98984\n",
            "Round   1\tloss: 0.1223 (-0.0620)\tacc: 96.33% ( +1.90%)\tmodel: 98984\n",
            "Round   2\tloss: 0.0974 (-0.0249)\tacc: 96.90% ( +0.57%)\tmodel: 98984\n",
            "Round   3\tloss: 0.0824 (-0.0150)\tacc: 97.41% ( +0.51%)\tmodel: 98984\n",
            "Round   4\tloss: 0.0759 (-0.0065)\tacc: 97.69% ( +0.28%)\tmodel: 98984\n",
            "Round   5\tloss: 0.0702 (-0.0057)\tacc: 97.97% ( +0.28%)\tmodel: 98984\n",
            "Round   6\tloss: 0.0657 (-0.0045)\tacc: 97.94% ( -0.03%)\tmodel: 98984\n",
            "Round   7\tloss: 0.0661 (+0.0004)\tacc: 97.89% ( -0.05%)\tmodel: 98984\n",
            "Round   8\tloss: 0.0638 (-0.0023)\tacc: 98.02% ( +0.13%)\tmodel: 98984\n",
            "Round   9\tloss: 0.0625 (-0.0014)\tacc: 98.07% ( +0.05%)\tmodel: 98984\n",
            "\n"
          ],
          "name": "stdout"
        }
      ]
    },
    {
      "cell_type": "code",
      "metadata": {
        "id": "CA7mHrc1kONS",
        "colab_type": "code",
        "colab": {
          "base_uri": "https://localhost:8080/",
          "height": 541
        },
        "outputId": "0bd35c0f-a754-4328-abba-469f441e3919"
      },
      "source": [
        "import matplotlib\n",
        "import matplotlib.pyplot as plt\n",
        "\n",
        "fig, ax = plt.subplots()\n",
        "ax.plot(nonfederated_history['test_loss'], label='Non-Federated')\n",
        "ax.set_xlabel(\"Round\")\n",
        "ax.set_ylabel(\"Loss\")\n",
        "ax.legend();\n",
        "\n",
        "fig, ax = plt.subplots()\n",
        "ax.plot(nonfederated_history['test_accuracy'], label='Non-Federated')\n",
        "ax.set_xlabel(\"Round\")\n",
        "ax.set_ylabel(\"Accuracy\")\n",
        "ax.legend();"
      ],
      "execution_count": null,
      "outputs": [
        {
          "output_type": "display_data",
          "data": {
            "image/png": "[encoded data removed]",
            "text/plain": [
              "<Figure size 432x288 with 1 Axes>"
            ]
          },
          "metadata": {
            "tags": [],
            "needs_background": "light"
          }
        },
        {
          "output_type": "display_data",
          "data": {
            "image/png": "[encoded data removed]",
            "text/plain": [
              "<Figure size 432x288 with 1 Axes>"
            ]
          },
          "metadata": {
            "tags": [],
            "needs_background": "light"
          }
        }
      ]
    },
    {
      "cell_type": "code",
      "metadata": {
        "id": "CELU9ssXlOVt",
        "colab_type": "code",
        "colab": {}
      },
      "source": [
        ""
      ],
      "execution_count": null,
      "outputs": []
    },
    {
      "cell_type": "markdown",
      "metadata": {
        "id": "V-b0FHzNlRPe",
        "colab_type": "text"
      },
      "source": [
        "# Federated Learning Approach (Simulation) - Dataset with Equal Distribution"
      ]
    },
    {
      "cell_type": "code",
      "metadata": {
        "id": "Kgu1ZcLmleFI",
        "colab_type": "code",
        "colab": {
          "base_uri": "https://localhost:8080/",
          "height": 344,
          "referenced_widgets": [
            "70997cd8ada644c281c0e243d1fcd223",
            "5fba6c48c5c5466b918de64aa792fdfa",
            "d1a72a5adb06485295a71faa03c8805c",
            "2591d4f7ab5a4c32ab5c679a3297c88d",
            "ff08c2ad8091462aa557090973238976",
            "93eda39cc47f4ea9b177014eb436f04f",
            "db8dff095217454391a4bb5e68dd08ff",
            "043bca509550400c8b2687dd552c7701"
          ]
        },
        "outputId": "4a98c8bc-eaa4-4e49-daee-576d6af6cbe1"
      },
      "source": [
        "from mnist_utils import make_federated_dataloaders\n",
        "\n",
        "federated_equal_dataloaders = make_federated_dataloaders(default_training_dataset, p=0.0)\n",
        "\n",
        "plot_digit_histogram(federated_equal_dataloaders, 'Digit Counts per DataLoader')"
      ],
      "execution_count": null,
      "outputs": [
        {
          "output_type": "display_data",
          "data": {
            "application/vnd.jupyter.widget-view+json": {
              "model_id": "70997cd8ada644c281c0e243d1fcd223",
              "version_minor": 0,
              "version_major": 2
            },
            "text/plain": [
              "HBox(children=(FloatProgress(value=0.0, description='Tabulating datasets', max=10.0, style=ProgressStyle(descr…"
            ]
          },
          "metadata": {
            "tags": []
          }
        },
        {
          "output_type": "stream",
          "text": [
            "\n"
          ],
          "name": "stdout"
        },
        {
          "output_type": "display_data",
          "data": {
            "image/png": "[encoded data removed]",
            "text/plain": [
              "<Figure size 432x288 with 1 Axes>"
            ]
          },
          "metadata": {
            "tags": [],
            "needs_background": "light"
          }
        }
      ]
    },
    {
      "cell_type": "code",
      "metadata": {
        "id": "Op5tFcXRqaUq",
        "colab_type": "code",
        "colab": {
          "base_uri": "https://localhost:8080/",
          "height": 1000,
          "referenced_widgets": [
            "174e821f782c4c61b62e8bcc4e9ef1ea",
            "063b1396974a45c6962e40bc97cc7e4f",
            "ab760eb358504621960db1bc6efce1e1",
            "66832a8b60c0449c848afff89b47e699",
            "a994bbf01ba54ff1a6af91cc9258a216",
            "67810704e40049ed9eb7b4b0b4aea892",
            "bd1e18d8715e4a01ae57a6be27af4c97",
            "0cfe579c5d0a473cb2f96a1f638e37fd"
          ]
        },
        "outputId": "ff84367f-e9a0-40ec-8fc2-71a2db737972"
      },
      "source": [
        "from federated import FederatedManager\n",
        "from federated import FederatedWorker\n",
        "from federated import plot_managers\n",
        "\n",
        "federated_equal_manager = FederatedManager('Federated Unbiased', federated_equal_dataloaders, default_testing_dataset, DefaultNet, verbose=True)\n",
        "federated_equal_manager.learn(default_n_rounds, default_target_accuracy)\n",
        "\n",
        "# a proxy to compare the nonfederated model to federated managers\n",
        "nonfederated_manager = FederatedManager('Non-Federated', [default_training_dataloader], default_testing_dataset, DefaultNet)\n",
        "nonfederated_manager.history = nonfederated_history"
      ],
      "execution_count": null,
      "outputs": [
        {
          "output_type": "stream",
          "text": [
            "Federated Unbiased manager training with 10 worker(s) for 10 rounds.\n"
          ],
          "name": "stdout"
        },
        {
          "output_type": "display_data",
          "data": {
            "application/vnd.jupyter.widget-view+json": {
              "model_id": "174e821f782c4c61b62e8bcc4e9ef1ea",
              "version_minor": 0,
              "version_major": 2
            },
            "text/plain": [
              "HBox(children=(FloatProgress(value=0.0, description='Rounds', max=10.0, style=ProgressStyle(description_width=…"
            ]
          },
          "metadata": {
            "tags": []
          }
        },
        {
          "output_type": "stream",
          "text": [
            "\n",
            "Round 0   workers:\n",
            "\tworker  0:\tloss: 0.5612 (+0.0000)\tacc: 85.43% ( +0.00%)\tmodel: 06824\n",
            "\tworker  1:\tloss: 0.5524 (+0.0000)\tacc: 86.32% ( +0.00%)\tmodel: 76568\n",
            "\tworker  2:\tloss: 0.5474 (+0.0000)\tacc: 86.08% ( +0.00%)\tmodel: 75496\n",
            "\tworker  3:\tloss: 0.6045 (+0.0000)\tacc: 81.09% ( +0.00%)\tmodel: 44728\n",
            "\tworker  4:\tloss: 0.5443 (+0.0000)\tacc: 85.82% ( +0.00%)\tmodel: 45120\n",
            "\tworker  5:\tloss: 0.6371 (+0.0000)\tacc: 80.59% ( +0.00%)\tmodel: 65544\n",
            "\tworker  6:\tloss: 0.5463 (+0.0000)\tacc: 85.28% ( +0.00%)\tmodel: 68264\n",
            "\tworker  7:\tloss: 0.5644 (+0.0000)\tacc: 85.08% ( +0.00%)\tmodel: 60680\n",
            "\tworker  8:\tloss: 0.5592 (+0.0000)\tacc: 85.00% ( +0.00%)\tmodel: 58888\n",
            "\tworker  9:\tloss: 0.5465 (+0.0000)\tacc: 86.08% ( +0.00%)\tmodel: 06128\n",
            "\n",
            "Round 0   combined:\tloss: 0.5378 (+0.0000)\tacc: 86.65% ( +0.00%)\tmodel: 09080\n",
            "\n",
            "Round 1   workers:\n",
            "\tworker  0:\tloss: 0.3654 (-0.1958)\tacc: 89.45% ( +4.02%)\tmodel: 76264\n",
            "\tworker  1:\tloss: 0.4218 (-0.1306)\tacc: 87.36% ( +1.04%)\tmodel: 95176\n",
            "\tworker  2:\tloss: 0.3671 (-0.1804)\tacc: 89.32% ( +3.24%)\tmodel: 76168\n",
            "\tworker  3:\tloss: 0.3684 (-0.2361)\tacc: 89.39% ( +8.30%)\tmodel: 75496\n",
            "\tworker  4:\tloss: 0.3784 (-0.1659)\tacc: 88.93% ( +3.11%)\tmodel: 44728\n",
            "\tworker  5:\tloss: 0.3931 (-0.2440)\tacc: 88.56% ( +7.97%)\tmodel: 45120\n",
            "\tworker  6:\tloss: 0.3829 (-0.1635)\tacc: 88.54% ( +3.26%)\tmodel: 65544\n",
            "\tworker  7:\tloss: 0.3721 (-0.1923)\tacc: 89.39% ( +4.31%)\tmodel: 68264\n",
            "\tworker  8:\tloss: 0.3714 (-0.1878)\tacc: 89.55% ( +4.55%)\tmodel: 60680\n",
            "\tworker  9:\tloss: 0.3889 (-0.1576)\tacc: 88.48% ( +2.40%)\tmodel: 41904\n",
            "\n",
            "Round 1   combined:\tloss: 0.3528 (-0.1850)\tacc: 90.09% ( +3.44%)\tmodel: 09080\n",
            "\n",
            "Round 2   workers:\n",
            "\tworker  0:\tloss: 0.3243 (-0.0411)\tacc: 90.91% ( +1.46%)\tmodel: 06128\n",
            "\tworker  1:\tloss: 0.3274 (-0.0943)\tacc: 90.77% ( +3.41%)\tmodel: 76264\n",
            "\tworker  2:\tloss: 0.3333 (-0.0338)\tacc: 90.40% ( +1.08%)\tmodel: 04976\n",
            "\tworker  3:\tloss: 0.3717 (+0.0033)\tacc: 88.76% ( -0.63%)\tmodel: 76120\n",
            "\tworker  4:\tloss: 0.3135 (-0.0649)\tacc: 91.00% ( +2.07%)\tmodel: 75496\n",
            "\tworker  5:\tloss: 0.7425 (+0.3494)\tacc: 74.99% (-13.57%)\tmodel: 44728\n",
            "\tworker  6:\tloss: 0.3263 (-0.0566)\tacc: 90.70% ( +2.16%)\tmodel: 45120\n",
            "\tworker  7:\tloss: 0.3156 (-0.0565)\tacc: 90.61% ( +1.22%)\tmodel: 65544\n",
            "\tworker  8:\tloss: 0.3133 (-0.0581)\tacc: 91.03% ( +1.48%)\tmodel: 68264\n",
            "\tworker  9:\tloss: 0.3501 (-0.0389)\tacc: 89.60% ( +1.12%)\tmodel: 60680\n",
            "\n",
            "Round 2   combined:\tloss: 0.3039 (-0.0488)\tacc: 91.07% ( +0.98%)\tmodel: 09080\n",
            "\n",
            "Round 3   workers:\n",
            "\tworker  0:\tloss: 0.2923 (-0.0320)\tacc: 91.60% ( +0.69%)\tmodel: 39216\n",
            "\tworker  1:\tloss: 0.3275 (+0.0001)\tacc: 89.98% ( -0.79%)\tmodel: 06128\n",
            "\tworker  2:\tloss: 0.3012 (-0.0320)\tacc: 91.15% ( +0.75%)\tmodel: 76264\n",
            "\tworker  3:\tloss: 0.2952 (-0.0766)\tacc: 91.26% ( +2.50%)\tmodel: 94784\n",
            "\tworker  4:\tloss: 0.2803 (-0.0332)\tacc: 91.80% ( +0.80%)\tmodel: 74768\n",
            "\tworker  5:\tloss: 0.2847 (-0.4578)\tacc: 91.76% (+16.77%)\tmodel: 75496\n",
            "\tworker  6:\tloss: 0.3022 (-0.0241)\tacc: 91.30% ( +0.60%)\tmodel: 44728\n",
            "\tworker  7:\tloss: 0.2815 (-0.0341)\tacc: 91.70% ( +1.09%)\tmodel: 45120\n",
            "\tworker  8:\tloss: 0.2819 (-0.0313)\tacc: 91.61% ( +0.58%)\tmodel: 65544\n",
            "\tworker  9:\tloss: 0.2874 (-0.0626)\tacc: 91.36% ( +1.76%)\tmodel: 68264\n",
            "\n",
            "Round 3   combined:\tloss: 0.2736 (-0.0303)\tacc: 91.99% ( +0.92%)\tmodel: 09080\n",
            "\n",
            "Round 4   workers:\n",
            "\tworker  0:\tloss: 0.2762 (-0.0161)\tacc: 91.97% ( +0.37%)\tmodel: 41904\n",
            "\tworker  1:\tloss: 0.2882 (-0.0394)\tacc: 91.57% ( +1.59%)\tmodel: 39216\n",
            "\tworker  2:\tloss: 0.2607 (-0.0405)\tacc: 92.51% ( +1.36%)\tmodel: 06128\n",
            "\tworker  3:\tloss: 0.3223 (+0.0271)\tacc: 89.63% ( -1.63%)\tmodel: 76264\n",
            "\tworker  4:\tloss: 0.2655 (-0.0148)\tacc: 91.96% ( +0.16%)\tmodel: 06824\n",
            "\tworker  5:\tloss: 0.3990 (+0.1143)\tacc: 87.39% ( -4.37%)\tmodel: 76568\n",
            "\tworker  6:\tloss: 0.2861 (-0.0161)\tacc: 91.62% ( +0.32%)\tmodel: 75496\n",
            "\tworker  7:\tloss: 0.2598 (-0.0216)\tacc: 92.26% ( +0.56%)\tmodel: 44728\n",
            "\tworker  8:\tloss: 0.2745 (-0.0075)\tacc: 91.90% ( +0.29%)\tmodel: 45120\n",
            "\tworker  9:\tloss: 0.2603 (-0.0271)\tacc: 92.40% ( +1.04%)\tmodel: 65544\n",
            "\n",
            "Round 4   combined:\tloss: 0.2495 (-0.0241)\tacc: 92.75% ( +0.76%)\tmodel: 09080\n",
            "\n",
            "Round 5   workers:\n",
            "\tworker  0:\tloss: 0.2573 (-0.0189)\tacc: 92.03% ( +0.06%)\tmodel: 53056\n",
            "\tworker  1:\tloss: 0.2698 (-0.0183)\tacc: 92.04% ( +0.47%)\tmodel: 41904\n",
            "\tworker  2:\tloss: 0.2525 (-0.0083)\tacc: 92.67% ( +0.16%)\tmodel: 39216\n",
            "\tworker  3:\tloss: 0.2531 (-0.0692)\tacc: 92.72% ( +3.09%)\tmodel: 06128\n",
            "\tworker  4:\tloss: 0.2407 (-0.0248)\tacc: 92.79% ( +0.83%)\tmodel: 76264\n",
            "\tworker  5:\tloss: 0.6796 (+0.2806)\tacc: 80.39% ( -7.00%)\tmodel: 95176\n",
            "\tworker  6:\tloss: 0.2459 (-0.0402)\tacc: 92.76% ( +1.14%)\tmodel: 76168\n",
            "\tworker  7:\tloss: 0.2587 (-0.0011)\tacc: 92.05% ( -0.21%)\tmodel: 75496\n",
            "\tworker  8:\tloss: 0.2374 (-0.0371)\tacc: 92.98% ( +1.08%)\tmodel: 44728\n",
            "\tworker  9:\tloss: 0.2680 (+0.0077)\tacc: 92.14% ( -0.26%)\tmodel: 45120\n",
            "\n",
            "Round 5   combined:\tloss: 0.2323 (-0.0172)\tacc: 93.24% ( +0.49%)\tmodel: 09080\n",
            "\n",
            "Round 6   workers:\n",
            "\tworker  0:\tloss: 0.2340 (-0.0233)\tacc: 93.03% ( +1.00%)\tmodel: 52776\n",
            "\tworker  1:\tloss: 0.2363 (-0.0335)\tacc: 93.06% ( +1.02%)\tmodel: 53056\n",
            "\tworker  2:\tloss: 0.2373 (-0.0152)\tacc: 93.16% ( +0.49%)\tmodel: 41904\n",
            "\tworker  3:\tloss: 0.2501 (-0.0030)\tacc: 92.22% ( -0.50%)\tmodel: 39216\n",
            "\tworker  4:\tloss: 0.2304 (-0.0103)\tacc: 93.11% ( +0.32%)\tmodel: 06128\n",
            "\tworker  5:\tloss: 0.6063 (-0.0733)\tacc: 80.58% ( +0.19%)\tmodel: 76264\n",
            "\tworker  6:\tloss: 0.2313 (-0.0147)\tacc: 93.18% ( +0.42%)\tmodel: 04976\n",
            "\tworker  7:\tloss: 0.2540 (-0.0048)\tacc: 92.38% ( +0.33%)\tmodel: 76120\n",
            "\tworker  8:\tloss: 0.2288 (-0.0086)\tacc: 93.19% ( +0.21%)\tmodel: 75496\n",
            "\tworker  9:\tloss: 0.2304 (-0.0376)\tacc: 93.26% ( +1.12%)\tmodel: 44728\n",
            "\n",
            "Round 6   combined:\tloss: 0.2177 (-0.0146)\tacc: 93.71% ( +0.47%)\tmodel: 09080\n",
            "\n",
            "Round 7   workers:\n",
            "\tworker  0:\tloss: 0.2191 (-0.0149)\tacc: 93.71% ( +0.68%)\tmodel: 51600\n",
            "\tworker  1:\tloss: 0.2204 (-0.0160)\tacc: 93.73% ( +0.67%)\tmodel: 52776\n",
            "\tworker  2:\tloss: 0.2217 (-0.0156)\tacc: 93.29% ( +0.13%)\tmodel: 53056\n",
            "\tworker  3:\tloss: 0.2103 (-0.0399)\tacc: 93.67% ( +1.45%)\tmodel: 41904\n",
            "\tworker  4:\tloss: 0.2161 (-0.0143)\tacc: 93.58% ( +0.47%)\tmodel: 39216\n",
            "\tworker  5:\tloss: 0.3222 (-0.2841)\tacc: 89.83% ( +9.25%)\tmodel: 06128\n",
            "\tworker  6:\tloss: 0.2150 (-0.0163)\tacc: 93.80% ( +0.62%)\tmodel: 76264\n",
            "\tworker  7:\tloss: 0.2143 (-0.0397)\tacc: 93.51% ( +1.13%)\tmodel: 94784\n",
            "\tworker  8:\tloss: 0.2133 (-0.0155)\tacc: 93.84% ( +0.65%)\tmodel: 74768\n",
            "\tworker  9:\tloss: 0.2166 (-0.0138)\tacc: 93.87% ( +0.61%)\tmodel: 75496\n",
            "\n",
            "Round 7   combined:\tloss: 0.2033 (-0.0145)\tacc: 94.09% ( +0.38%)\tmodel: 09080\n",
            "\n",
            "Round 8   workers:\n",
            "\tworker  0:\tloss: 0.2157 (-0.0034)\tacc: 93.43% ( -0.28%)\tmodel: 44896\n",
            "\tworker  1:\tloss: 0.2037 (-0.0167)\tacc: 93.93% ( +0.20%)\tmodel: 51600\n",
            "\tworker  2:\tloss: 0.2105 (-0.0111)\tacc: 93.72% ( +0.43%)\tmodel: 52776\n",
            "\tworker  3:\tloss: 0.2027 (-0.0076)\tacc: 93.90% ( +0.23%)\tmodel: 53056\n",
            "\tworker  4:\tloss: 0.2127 (-0.0035)\tacc: 93.65% ( +0.07%)\tmodel: 68512\n",
            "\tworker  5:\tloss: 0.4458 (+0.1237)\tacc: 85.79% ( -4.04%)\tmodel: 39216\n",
            "\tworker  6:\tloss: 0.2149 (-0.0001)\tacc: 93.69% ( -0.11%)\tmodel: 06128\n",
            "\tworker  7:\tloss: 0.2271 (+0.0128)\tacc: 92.93% ( -0.58%)\tmodel: 76264\n",
            "\tworker  8:\tloss: 0.2076 (-0.0058)\tacc: 93.72% ( -0.12%)\tmodel: 06824\n",
            "\tworker  9:\tloss: 0.2095 (-0.0071)\tacc: 93.98% ( +0.11%)\tmodel: 76568\n",
            "\n",
            "Round 8   combined:\tloss: 0.1920 (-0.0113)\tacc: 94.36% ( +0.27%)\tmodel: 09080\n",
            "\n",
            "Round 9   workers:\n",
            "\tworker  0:\tloss: 0.2026 (-0.0131)\tacc: 94.01% ( +0.58%)\tmodel: 70248\n",
            "\tworker  1:\tloss: 0.2014 (-0.0022)\tacc: 93.74% ( -0.19%)\tmodel: 68264\n",
            "\tworker  2:\tloss: 0.1997 (-0.0108)\tacc: 94.14% ( +0.42%)\tmodel: 51600\n",
            "\tworker  3:\tloss: 0.2162 (+0.0135)\tacc: 93.42% ( -0.48%)\tmodel: 52776\n",
            "\tworker  4:\tloss: 0.1987 (-0.0140)\tacc: 94.33% ( +0.68%)\tmodel: 53056\n",
            "\tworker  5:\tloss: 0.2748 (-0.1711)\tacc: 91.41% ( +5.62%)\tmodel: 38768\n",
            "\tworker  6:\tloss: 0.1960 (-0.0189)\tacc: 94.17% ( +0.48%)\tmodel: 39216\n",
            "\tworker  7:\tloss: 0.1950 (-0.0321)\tacc: 93.84% ( +0.91%)\tmodel: 06128\n",
            "\tworker  8:\tloss: 0.1894 (-0.0182)\tacc: 94.29% ( +0.57%)\tmodel: 76264\n",
            "\tworker  9:\tloss: 0.1989 (-0.0106)\tacc: 94.08% ( +0.10%)\tmodel: 95176\n",
            "\n",
            "Round 9   combined:\tloss: 0.1815 (-0.0104)\tacc: 94.65% ( +0.29%)\tmodel: 09080\n",
            "\n",
            "Federated Unbiased manager trained 10 rounds. (Test accuracy 94.65% and loss 0.1815.)\n"
          ],
          "name": "stdout"
        }
      ]
    },
    {
      "cell_type": "code",
      "metadata": {
        "id": "a4dsP7uPyO0R",
        "colab_type": "code",
        "colab": {
          "base_uri": "https://localhost:8080/",
          "height": 541
        },
        "outputId": "4bf2596f-3fad-4d17-94db-1cc175dc7409"
      },
      "source": [
        "plot_managers([nonfederated_manager, federated_equal_manager])"
      ],
      "execution_count": null,
      "outputs": [
        {
          "output_type": "display_data",
          "data": {
            "image/png": "[encoded data removed]",
            "text/plain": [
              "<Figure size 432x288 with 1 Axes>"
            ]
          },
          "metadata": {
            "tags": [],
            "needs_background": "light"
          }
        },
        {
          "output_type": "display_data",
          "data": {
            "image/png": "[encoded data removed]",
            "text/plain": [
              "<Figure size 432x288 with 1 Axes>"
            ]
          },
          "metadata": {
            "tags": [],
            "needs_background": "light"
          }
        }
      ]
    },
    {
      "cell_type": "code",
      "metadata": {
        "id": "xRj3Y7PbzYBy",
        "colab_type": "code",
        "colab": {}
      },
      "source": [
        ""
      ],
      "execution_count": null,
      "outputs": []
    },
    {
      "cell_type": "markdown",
      "metadata": {
        "id": "V3wWdm6B01aP",
        "colab_type": "text"
      },
      "source": [
        "# Federated Learning Approach - Dataset with Unbalanced Distribution"
      ]
    },
    {
      "cell_type": "code",
      "metadata": {
        "id": "Cx7ElPwB1FJX",
        "colab_type": "code",
        "colab": {
          "base_uri": "https://localhost:8080/",
          "height": 51
        },
        "outputId": "1e873bd4-58c3-4559-fa39-a55704fef4f2"
      },
      "source": [
        "federated_biased_dataloaders = make_federated_dataloaders(default_training_dataset, p=0.15)\n",
        "worker_example_counts = [len(dataloader.dataset) for dataloader in federated_biased_dataloaders]\n",
        "\n",
        "print(worker_example_counts)\n",
        "print(sum(worker_example_counts))"
      ],
      "execution_count": null,
      "outputs": [
        {
          "output_type": "stream",
          "text": [
            "[6144, 6055, 5991, 5921, 5901, 5967, 5970, 6050, 5976, 6025]\n",
            "60000\n"
          ],
          "name": "stdout"
        }
      ]
    },
    {
      "cell_type": "code",
      "metadata": {
        "id": "yxUB-QPj28pk",
        "colab_type": "code",
        "colab": {
          "base_uri": "https://localhost:8080/",
          "height": 328,
          "referenced_widgets": [
            "91d60266b851446a8c93e709d576d9b0",
            "cee49f986e1e4e0fbd06487280c4649d",
            "addf72540a004d31ad66f28119350357",
            "ed0e7e92ad644e26b50f5aa621e74f1c",
            "86959e37698e4cffb80882ce080c63e3",
            "a70b1eec7f314ccaa0a26a39b469aff1",
            "0de45b85d5ea4e9c958f248bbed5dfda",
            "b4c945cfcbcc495ab1a415d982797959"
          ]
        },
        "outputId": "c8e93de0-1157-4018-8fa7-d00d86ae8a6e"
      },
      "source": [
        "plot_digit_histogram(federated_biased_dataloaders)"
      ],
      "execution_count": null,
      "outputs": [
        {
          "output_type": "display_data",
          "data": {
            "application/vnd.jupyter.widget-view+json": {
              "model_id": "91d60266b851446a8c93e709d576d9b0",
              "version_minor": 0,
              "version_major": 2
            },
            "text/plain": [
              "HBox(children=(FloatProgress(value=0.0, description='Tabulating datasets', max=10.0, style=ProgressStyle(descr…"
            ]
          },
          "metadata": {
            "tags": []
          }
        },
        {
          "output_type": "stream",
          "text": [
            "\n"
          ],
          "name": "stdout"
        },
        {
          "output_type": "display_data",
          "data": {
            "image/png": "[encoded data removed]",
            "text/plain": [
              "<Figure size 432x288 with 1 Axes>"
            ]
          },
          "metadata": {
            "tags": [],
            "needs_background": "light"
          }
        }
      ]
    },
    {
      "cell_type": "code",
      "metadata": {
        "id": "4OPMctxL3EOG",
        "colab_type": "code",
        "colab": {
          "base_uri": "https://localhost:8080/",
          "height": 187
        },
        "outputId": "21024675-b4c5-4fef-deb0-2c3b322e4e96"
      },
      "source": [
        "from mnist_utils import print_dataset_counters\n",
        "print_dataset_counters([dataloader.dataset for dataloader in federated_biased_dataloaders])"
      ],
      "execution_count": null,
      "outputs": [
        {
          "output_type": "stream",
          "text": [
            "Counter({0: 866, 1: 668, 7: 617, 6: 616, 4: 590, 2: 575, 3: 567, 8: 563, 9: 559, 5: 523})\n",
            "Counter({1: 1027, 3: 587, 7: 581, 0: 580, 2: 577, 9: 574, 8: 568, 4: 567, 6: 508, 5: 486})\n",
            "Counter({2: 915, 1: 622, 9: 598, 3: 581, 7: 578, 4: 558, 8: 558, 0: 553, 6: 549, 5: 479})\n",
            "Counter({3: 948, 1: 616, 6: 578, 9: 567, 7: 559, 2: 546, 8: 543, 0: 541, 4: 528, 5: 495})\n",
            "Counter({4: 830, 1: 636, 7: 604, 3: 580, 0: 564, 6: 546, 9: 541, 8: 540, 5: 532, 2: 528})\n",
            "Counter({5: 804, 1: 655, 7: 583, 9: 577, 3: 576, 2: 575, 8: 555, 0: 553, 6: 550, 4: 539})\n",
            "Counter({6: 899, 1: 650, 0: 597, 3: 573, 4: 565, 7: 561, 8: 535, 2: 534, 9: 531, 5: 525})\n",
            "Counter({7: 960, 1: 621, 9: 582, 0: 573, 8: 567, 3: 563, 6: 555, 4: 549, 5: 541, 2: 539})\n",
            "Counter({8: 867, 1: 624, 7: 615, 3: 597, 2: 565, 9: 555, 0: 547, 4: 541, 5: 537, 6: 528})\n",
            "Counter({9: 865, 1: 623, 7: 607, 2: 604, 6: 589, 4: 575, 3: 559, 8: 555, 0: 549, 5: 499})\n"
          ],
          "name": "stdout"
        }
      ]
    },
    {
      "cell_type": "code",
      "metadata": {
        "id": "xwPL94CR3moN",
        "colab_type": "code",
        "colab": {
          "base_uri": "https://localhost:8080/",
          "height": 1000,
          "referenced_widgets": [
            "e2e71181276843fb83bef147bcc3dd4e",
            "2d13cc8d21c742399565f97835d7df15",
            "e461767c802b498c8b240f3535dfad9d",
            "e2c1915b4c034f3eb42ad71cb5954ed9",
            "9e0d7bced0bc49aa86d50337ac4eeae2",
            "a4ba6b484a2244eda50168f8834bd351",
            "03a291647ca449e48f46096387d54b5e",
            "3ce4071e07df4d6399b713178f59a354"
          ]
        },
        "outputId": "43e370bf-ac82-4ca7-9aae-50802a3f4188"
      },
      "source": [
        "federated_biased_manager = FederatedManager('Fed Biased 0.15', federated_biased_dataloaders, default_testing_dataset, DefaultNet, verbose = True)\n",
        "federated_biased_manager.learn(default_n_rounds, default_target_accuracy)"
      ],
      "execution_count": null,
      "outputs": [
        {
          "output_type": "stream",
          "text": [
            "Fed Biased 0.15 manager training with 10 worker(s) for 10 rounds.\n"
          ],
          "name": "stdout"
        },
        {
          "output_type": "display_data",
          "data": {
            "application/vnd.jupyter.widget-view+json": {
              "model_id": "e2e71181276843fb83bef147bcc3dd4e",
              "version_minor": 0,
              "version_major": 2
            },
            "text/plain": [
              "HBox(children=(FloatProgress(value=0.0, description='Rounds', max=10.0, style=ProgressStyle(description_width=…"
            ]
          },
          "metadata": {
            "tags": []
          }
        },
        {
          "output_type": "stream",
          "text": [
            "\n",
            "Round 0   workers:\n",
            "\tworker  0:\tloss: 0.5466 (+0.0000)\tacc: 85.07% ( +0.00%)\tmodel: 95848\n",
            "\tworker  1:\tloss: 0.5939 (+0.0000)\tacc: 82.69% ( +0.00%)\tmodel: 36488\n",
            "\tworker  2:\tloss: 0.5549 (+0.0000)\tacc: 85.32% ( +0.00%)\tmodel: 37216\n",
            "\tworker  3:\tloss: 0.5835 (+0.0000)\tacc: 85.33% ( +0.00%)\tmodel: 36432\n",
            "\tworker  4:\tloss: 0.5679 (+0.0000)\tacc: 84.28% ( +0.00%)\tmodel: 38392\n",
            "\tworker  5:\tloss: 0.5594 (+0.0000)\tacc: 84.22% ( +0.00%)\tmodel: 38056\n",
            "\tworker  6:\tloss: 0.5572 (+0.0000)\tacc: 84.72% ( +0.00%)\tmodel: 38224\n",
            "\tworker  7:\tloss: 0.5479 (+0.0000)\tacc: 85.88% ( +0.00%)\tmodel: 11808\n",
            "\tworker  8:\tloss: 0.5800 (+0.0000)\tacc: 83.76% ( +0.00%)\tmodel: 63792\n",
            "\tworker  9:\tloss: 0.5689 (+0.0000)\tacc: 85.10% ( +0.00%)\tmodel: 64912\n",
            "\n",
            "Round 0   combined:\tloss: 0.5389 (+0.0000)\tacc: 86.64% ( +0.00%)\tmodel: 36712\n",
            "\n",
            "Round 1   workers:\n",
            "\tworker  0:\tloss: 0.3650 (-0.1817)\tacc: 89.65% ( +4.58%)\tmodel: 43440\n",
            "\tworker  1:\tloss: 0.3798 (-0.2141)\tacc: 89.01% ( +6.32%)\tmodel: 37496\n",
            "\tworker  2:\tloss: 0.3839 (-0.1711)\tacc: 89.09% ( +3.77%)\tmodel: 36488\n",
            "\tworker  3:\tloss: 0.3912 (-0.1923)\tacc: 88.28% ( +2.95%)\tmodel: 37216\n",
            "\tworker  4:\tloss: 0.3733 (-0.1946)\tacc: 89.10% ( +4.82%)\tmodel: 36432\n",
            "\tworker  5:\tloss: 0.3816 (-0.1778)\tacc: 88.89% ( +4.67%)\tmodel: 38392\n",
            "\tworker  6:\tloss: 0.3900 (-0.1672)\tacc: 88.41% ( +3.69%)\tmodel: 38056\n",
            "\tworker  7:\tloss: 0.3662 (-0.1818)\tacc: 89.48% ( +3.60%)\tmodel: 38224\n",
            "\tworker  8:\tloss: 0.4124 (-0.1676)\tacc: 86.99% ( +3.23%)\tmodel: 11808\n",
            "\tworker  9:\tloss: 0.3664 (-0.2025)\tacc: 89.64% ( +4.54%)\tmodel: 45344\n",
            "\n",
            "Round 1   combined:\tloss: 0.3543 (-0.1846)\tacc: 90.15% ( +3.51%)\tmodel: 36712\n",
            "\n",
            "Round 2   workers:\n",
            "\tworker  0:\tloss: 0.3297 (-0.0352)\tacc: 90.37% ( +0.72%)\tmodel: 63624\n",
            "\tworker  1:\tloss: 0.3267 (-0.0531)\tacc: 90.19% ( +1.18%)\tmodel: 64072\n",
            "\tworker  2:\tloss: 0.3173 (-0.0665)\tacc: 90.89% ( +1.80%)\tmodel: 98648\n",
            "\tworker  3:\tloss: 0.3317 (-0.0595)\tacc: 90.54% ( +2.26%)\tmodel: 36488\n",
            "\tworker  4:\tloss: 0.3392 (-0.0341)\tacc: 90.06% ( +0.96%)\tmodel: 37216\n",
            "\tworker  5:\tloss: 0.3312 (-0.0504)\tacc: 90.50% ( +1.61%)\tmodel: 36432\n",
            "\tworker  6:\tloss: 0.3525 (-0.0375)\tacc: 89.51% ( +1.10%)\tmodel: 38392\n",
            "\tworker  7:\tloss: 0.3338 (-0.0323)\tacc: 90.02% ( +0.54%)\tmodel: 38056\n",
            "\tworker  8:\tloss: 0.3649 (-0.0475)\tacc: 88.94% ( +1.95%)\tmodel: 38224\n",
            "\tworker  9:\tloss: 0.3209 (-0.0454)\tacc: 90.73% ( +1.09%)\tmodel: 11808\n",
            "\n",
            "Round 2   combined:\tloss: 0.3047 (-0.0496)\tacc: 91.26% ( +1.11%)\tmodel: 36712\n",
            "\n",
            "Round 3   workers:\n",
            "\tworker  0:\tloss: 0.2884 (-0.0414)\tacc: 91.57% ( +1.20%)\tmodel: 46072\n",
            "\tworker  1:\tloss: 0.2870 (-0.0398)\tacc: 91.59% ( +1.40%)\tmodel: 44056\n",
            "\tworker  2:\tloss: 0.2954 (-0.0219)\tacc: 91.59% ( +0.70%)\tmodel: 64072\n",
            "\tworker  3:\tloss: 0.3116 (-0.0200)\tacc: 90.75% ( +0.21%)\tmodel: 37944\n",
            "\tworker  4:\tloss: 0.2858 (-0.0534)\tacc: 91.36% ( +1.30%)\tmodel: 36488\n",
            "\tworker  5:\tloss: 0.2873 (-0.0439)\tacc: 91.18% ( +0.68%)\tmodel: 37216\n",
            "\tworker  6:\tloss: 0.3164 (-0.0361)\tacc: 90.15% ( +0.64%)\tmodel: 36432\n",
            "\tworker  7:\tloss: 0.2869 (-0.0469)\tacc: 91.70% ( +1.68%)\tmodel: 38392\n",
            "\tworker  8:\tloss: 0.2967 (-0.0681)\tacc: 91.63% ( +2.69%)\tmodel: 38056\n",
            "\tworker  9:\tloss: 0.3688 (+0.0479)\tacc: 88.37% ( -2.36%)\tmodel: 38224\n",
            "\n",
            "Round 3   combined:\tloss: 0.2751 (-0.0296)\tacc: 92.08% ( +0.82%)\tmodel: 36712\n",
            "\n",
            "Round 4   workers:\n",
            "\tworker  0:\tloss: 0.2709 (-0.0175)\tacc: 92.12% ( +0.55%)\tmodel: 64240\n",
            "\tworker  1:\tloss: 0.2660 (-0.0209)\tacc: 92.32% ( +0.73%)\tmodel: 64184\n",
            "\tworker  2:\tloss: 0.2714 (-0.0240)\tacc: 92.00% ( +0.41%)\tmodel: 44056\n",
            "\tworker  3:\tloss: 0.2756 (-0.0361)\tacc: 91.86% ( +1.11%)\tmodel: 64072\n",
            "\tworker  4:\tloss: 0.2990 (+0.0132)\tacc: 91.22% ( -0.14%)\tmodel: 95848\n",
            "\tworker  5:\tloss: 0.2673 (-0.0200)\tacc: 92.03% ( +0.85%)\tmodel: 36488\n",
            "\tworker  6:\tloss: 0.2623 (-0.0541)\tacc: 92.17% ( +2.02%)\tmodel: 37216\n",
            "\tworker  7:\tloss: 0.2666 (-0.0203)\tacc: 91.95% ( +0.25%)\tmodel: 36432\n",
            "\tworker  8:\tloss: 0.2704 (-0.0264)\tacc: 92.30% ( +0.67%)\tmodel: 38392\n",
            "\tworker  9:\tloss: 0.2737 (-0.0951)\tacc: 91.87% ( +3.50%)\tmodel: 38056\n",
            "\n",
            "Round 4   combined:\tloss: 0.2506 (-0.0245)\tacc: 92.80% ( +0.72%)\tmodel: 36712\n",
            "\n",
            "Round 5   workers:\n",
            "\tworker  0:\tloss: 0.2443 (-0.0266)\tacc: 92.99% ( +0.87%)\tmodel: 11808\n",
            "\tworker  1:\tloss: 0.2572 (-0.0088)\tacc: 92.19% ( -0.13%)\tmodel: 45960\n",
            "\tworker  2:\tloss: 0.2654 (-0.0061)\tacc: 92.13% ( +0.13%)\tmodel: 42992\n",
            "\tworker  3:\tloss: 0.2515 (-0.0241)\tacc: 92.56% ( +0.70%)\tmodel: 44056\n",
            "\tworker  4:\tloss: 0.2432 (-0.0558)\tacc: 92.87% ( +1.65%)\tmodel: 64072\n",
            "\tworker  5:\tloss: 0.2907 (+0.0234)\tacc: 91.16% ( -0.87%)\tmodel: 37496\n",
            "\tworker  6:\tloss: 0.3059 (+0.0437)\tacc: 90.75% ( -1.42%)\tmodel: 36488\n",
            "\tworker  7:\tloss: 0.2530 (-0.0135)\tacc: 92.40% ( +0.45%)\tmodel: 37216\n",
            "\tworker  8:\tloss: 0.2447 (-0.0257)\tacc: 92.90% ( +0.60%)\tmodel: 36432\n",
            "\tworker  9:\tloss: 0.2998 (+0.0261)\tacc: 91.17% ( -0.70%)\tmodel: 38392\n",
            "\n",
            "Round 5   combined:\tloss: 0.2344 (-0.0162)\tacc: 93.29% ( +0.49%)\tmodel: 36712\n",
            "\n",
            "Round 6   workers:\n",
            "\tworker  0:\tloss: 0.2311 (-0.0132)\tacc: 93.21% ( +0.22%)\tmodel: 45064\n",
            "\tworker  1:\tloss: 0.2402 (-0.0170)\tacc: 92.66% ( +0.47%)\tmodel: 42544\n",
            "\tworker  2:\tloss: 0.2391 (-0.0262)\tacc: 92.77% ( +0.64%)\tmodel: 45960\n",
            "\tworker  3:\tloss: 0.2423 (-0.0092)\tacc: 92.99% ( +0.43%)\tmodel: 42992\n",
            "\tworker  4:\tloss: 0.2291 (-0.0140)\tacc: 93.24% ( +0.37%)\tmodel: 44056\n",
            "\tworker  5:\tloss: 0.2336 (-0.0571)\tacc: 93.16% ( +2.00%)\tmodel: 64072\n",
            "\tworker  6:\tloss: 0.2290 (-0.0769)\tacc: 93.29% ( +2.54%)\tmodel: 98648\n",
            "\tworker  7:\tloss: 0.2288 (-0.0242)\tacc: 93.16% ( +0.76%)\tmodel: 63848\n",
            "\tworker  8:\tloss: 0.2373 (-0.0074)\tacc: 93.24% ( +0.34%)\tmodel: 64912\n",
            "\tworker  9:\tloss: 0.2635 (-0.0363)\tacc: 92.27% ( +1.10%)\tmodel: 36432\n",
            "\n",
            "Round 6   combined:\tloss: 0.2186 (-0.0157)\tacc: 93.69% ( +0.40%)\tmodel: 36712\n",
            "\n",
            "Round 7   workers:\n",
            "\tworker  0:\tloss: 0.2244 (-0.0067)\tacc: 93.27% ( +0.06%)\tmodel: 64184\n",
            "\tworker  1:\tloss: 0.2167 (-0.0235)\tacc: 93.61% ( +0.95%)\tmodel: 63232\n",
            "\tworker  2:\tloss: 0.2143 (-0.0249)\tacc: 93.67% ( +0.90%)\tmodel: 12200\n",
            "\tworker  3:\tloss: 0.2259 (-0.0164)\tacc: 93.13% ( +0.14%)\tmodel: 37160\n",
            "\tworker  4:\tloss: 0.2153 (-0.0138)\tacc: 93.54% ( +0.30%)\tmodel: 42992\n",
            "\tworker  5:\tloss: 0.2115 (-0.0221)\tacc: 93.87% ( +0.71%)\tmodel: 44056\n",
            "\tworker  6:\tloss: 0.2231 (-0.0059)\tacc: 93.30% ( +0.01%)\tmodel: 64072\n",
            "\tworker  7:\tloss: 0.2157 (-0.0131)\tacc: 93.41% ( +0.25%)\tmodel: 65248\n",
            "\tworker  8:\tloss: 0.2282 (-0.0091)\tacc: 92.97% ( -0.27%)\tmodel: 63848\n",
            "\tworker  9:\tloss: 0.2389 (-0.0246)\tacc: 92.68% ( +0.41%)\tmodel: 39624\n",
            "\n",
            "Round 7   combined:\tloss: 0.2047 (-0.0139)\tacc: 93.90% ( +0.21%)\tmodel: 36712\n",
            "\n",
            "Round 8   workers:\n",
            "\tworker  0:\tloss: 0.2058 (-0.0186)\tacc: 93.91% ( +0.64%)\tmodel: 64240\n",
            "\tworker  1:\tloss: 0.2112 (-0.0055)\tacc: 93.51% ( -0.10%)\tmodel: 64184\n",
            "\tworker  2:\tloss: 0.1984 (-0.0159)\tacc: 93.91% ( +0.24%)\tmodel: 51520\n",
            "\tworker  3:\tloss: 0.2132 (-0.0127)\tacc: 93.67% ( +0.54%)\tmodel: 12200\n",
            "\tworker  4:\tloss: 0.2247 (+0.0094)\tacc: 93.08% ( -0.46%)\tmodel: 37160\n",
            "\tworker  5:\tloss: 0.2144 (+0.0030)\tacc: 93.55% ( -0.32%)\tmodel: 39512\n",
            "\tworker  6:\tloss: 0.2146 (-0.0086)\tacc: 93.40% ( +0.10%)\tmodel: 44056\n",
            "\tworker  7:\tloss: 0.2149 (-0.0008)\tacc: 93.53% ( +0.12%)\tmodel: 64072\n",
            "\tworker  8:\tloss: 0.2014 (-0.0267)\tacc: 94.10% ( +1.13%)\tmodel: 95848\n",
            "\tworker  9:\tloss: 0.2086 (-0.0303)\tacc: 93.56% ( +0.88%)\tmodel: 63848\n",
            "\n",
            "Round 8   combined:\tloss: 0.1923 (-0.0125)\tacc: 94.32% ( +0.42%)\tmodel: 36712\n",
            "\n",
            "Round 9   workers:\n",
            "\tworker  0:\tloss: 0.1909 (-0.0149)\tacc: 94.03% ( +0.12%)\tmodel: 38392\n",
            "\tworker  1:\tloss: 0.1907 (-0.0205)\tacc: 94.34% ( +0.83%)\tmodel: 38224\n",
            "\tworker  2:\tloss: 0.2011 (+0.0027)\tacc: 93.87% ( -0.04%)\tmodel: 36376\n",
            "\tworker  3:\tloss: 0.2040 (-0.0092)\tacc: 93.78% ( +0.11%)\tmodel: 51520\n",
            "\tworker  4:\tloss: 0.2030 (-0.0217)\tacc: 93.69% ( +0.61%)\tmodel: 37440\n",
            "\tworker  5:\tloss: 0.1980 (-0.0165)\tacc: 94.13% ( +0.58%)\tmodel: 37160\n",
            "\tworker  6:\tloss: 0.2056 (-0.0089)\tacc: 94.14% ( +0.74%)\tmodel: 39512\n",
            "\tworker  7:\tloss: 0.1979 (-0.0170)\tacc: 94.11% ( +0.58%)\tmodel: 44056\n",
            "\tworker  8:\tloss: 0.1973 (-0.0041)\tacc: 94.21% ( +0.11%)\tmodel: 43608\n",
            "\tworker  9:\tloss: 0.2003 (-0.0082)\tacc: 93.96% ( +0.40%)\tmodel: 95848\n",
            "\n",
            "Round 9   combined:\tloss: 0.1820 (-0.0103)\tacc: 94.45% ( +0.13%)\tmodel: 36712\n",
            "\n",
            "Fed Biased 0.15 manager trained 10 rounds. (Test accuracy 94.45% and loss 0.1820.)\n"
          ],
          "name": "stdout"
        }
      ]
    },
    {
      "cell_type": "code",
      "metadata": {
        "id": "bNChxjL8-uom",
        "colab_type": "code",
        "colab": {
          "base_uri": "https://localhost:8080/",
          "height": 542
        },
        "outputId": "71733d42-304d-4c57-f558-ac8196978e29"
      },
      "source": [
        "plot_managers(federated_biased_manager)"
      ],
      "execution_count": null,
      "outputs": [
        {
          "output_type": "display_data",
          "data": {
            "image/png": "[encoded data removed]",
            "text/plain": [
              "<Figure size 432x288 with 1 Axes>"
            ]
          },
          "metadata": {
            "tags": [],
            "needs_background": "light"
          }
        },
        {
          "output_type": "display_data",
          "data": {
            "image/png": "[encoded data removed]",
            "text/plain": [
              "<Figure size 432x288 with 1 Axes>"
            ]
          },
          "metadata": {
            "tags": [],
            "needs_background": "light"
          }
        }
      ]
    },
    {
      "cell_type": "code",
      "metadata": {
        "id": "w1HBw45V_prv",
        "colab_type": "code",
        "colab": {
          "base_uri": "https://localhost:8080/",
          "height": 541
        },
        "outputId": "b6c23888-5135-4313-fab3-9576bca3f2b0"
      },
      "source": [
        "plot_managers([nonfederated_manager, federated_equal_manager, federated_biased_manager])"
      ],
      "execution_count": null,
      "outputs": [
        {
          "output_type": "display_data",
          "data": {
            "image/png": "[encoded data removed]",
            "text/plain": [
              "<Figure size 432x288 with 1 Axes>"
            ]
          },
          "metadata": {
            "tags": [],
            "needs_background": "light"
          }
        },
        {
          "output_type": "display_data",
          "data": {
            "image/png": "[encoded data removed]",
            "text/plain": [
              "<Figure size 432x288 with 1 Axes>"
            ]
          },
          "metadata": {
            "tags": [],
            "needs_background": "light"
          }
        }
      ]
    },
    {
      "cell_type": "code",
      "metadata": {
        "id": "kNhVB6rQ_qJm",
        "colab_type": "code",
        "colab": {
          "base_uri": "https://localhost:8080/",
          "height": 1000,
          "referenced_widgets": [
            "7e03ac71917b4e0eac8fa802eac9bd84",
            "5d55dd274ea04b30bea376c151f450f9",
            "81b81e43bcda4c90bdc5977248fe2579",
            "a912667b250849c9a15e695496c16d21",
            "16b2ba75b0e549ea8757523093314ac6",
            "66171469cb1e4efebf7580b761fc3afa",
            "46caff675c28409bb0f4a6805bd05587",
            "5c1f71f048e141178dc517cac46625bc",
            "324212ab886342dca40594245ef0dabc",
            "174c0a7e5b474da29bd2290cd8dc1c0b",
            "9285a333a18b474692aa983c2d40b8d3",
            "8f1a3dc8f74843d4adc2706bd73ffceb",
            "ff75fbab845e4aeeb5c6b8b82d972424",
            "34b7417de92945b2bbe2960eecf8d77f",
            "051f7d6c0611405aab1f4f8571e416a1",
            "00e86a0e1675454094c06003a1a8ee39",
            "e3ae5ab083a9423e96ba68e5d2228b96",
            "81050b80093643e1a33e9e1ab31f44fa",
            "2d0c7f5a34ea4770acb6993dce22dd9d",
            "4d7798809af44f2cbe5d630a14e1ac4b",
            "bf440bb3901e4ab9a1479871c2b8a838",
            "286cac2bcdfa49df99153b429ffe8b6c",
            "38f940df77594b1d88009f14e26c927d",
            "1361f48d1bc94de1a9f7c01482e22dbf",
            "a36e9aa4b8314a758d23c91273114711",
            "725b205f101c425c932ef52649c698df",
            "fd8f467e93df4bf0a67e13e8ba8f7e71",
            "1c23f36abdf041db8e581160f8da4eda",
            "4a558364d2e047a29382314d2ce8bea6",
            "a7bbe89c31e643ba82bcf3aee5d5e605",
            "e6de77d55b0f478e89190892e0767a82",
            "812657271d4d42a7a09b1f5aac98eff3",
            "88925a8084364814b03c2ea2d7a44772",
            "ac74de4730354719a4bbe14dfdbe4eae",
            "e7125c5fd0454c1faad58c1bed22e105",
            "c878e27e860f44b7b7610bdbaceed310",
            "170251b080f649aeb87ccb398e932392",
            "a956f04ef2cd4ba48de36658a50c7947",
            "14c4420c6f53429face2a6c9796fff1c",
            "9b7ae48c49dc4164b09abdfefb9d4c99",
            "f934cf0509874a28ac403f33f4057efd",
            "fbab4b31e6a14c2db5fae96df9dfdd20",
            "69cc8f17d751461ebd28bcb4fe7fd5dd",
            "788483197be942c0a64f857b12abd284",
            "d5622d3a1f8743dab6c7b83f0f2784ab",
            "917c417c598d47b2ba00499cd3519f0b",
            "a2e388033d6f49108899885b4f4e84ca",
            "e6aa5a941c0444f0a692335bbd9ef68e",
            "a30052a7727f4e78ae0227a88419fb06",
            "c8e2c0fe25ae489896cd504287729d74",
            "0696902461894fe7ac02950d85831fa2",
            "bd7469c2907640dda5a9bd4108653f3a",
            "f4a8cffea85449caa30f520a67e32ef9",
            "282ed928fc8d43c6b25a2e23842aae14",
            "a7dda3269e43425f81666aeaef61881d",
            "6a477813dfae4cb1beacc48f4104ebe7",
            "e8f86b3452ff4698970e7abde896799f",
            "827c11b38e4e49dcb2130eeaa4eceb61",
            "48e8116711434bfa93f9064045a1d830",
            "9c8e97dabc704d23bc68d844718bf0fa",
            "b3427def17014ee6bc178e2abbb92711",
            "fbd7874ca475433da9e6cf714f0d88f9",
            "183221a8297341728b99fb1196a70e5c",
            "32ccdf62f2b64196be2c15a1cd0f2531",
            "0e00c80f03d54ef28f5318a62e7b26d4",
            "44591d064bef4fa7be24c7dda3a097c3",
            "1558dcb96d7d4e41807a3704b16c759d",
            "0aa9c8a08cb94d099202fb20cbbb82ec",
            "804a2507aadc4fdebcfc480b64d5ece1",
            "3f566c57b7ca47298301e6885d1b3d00",
            "2955e3a099f8429e93587a459ae5833f",
            "6de1a4e6fa824b6abd7892c626edd734"
          ]
        },
        "outputId": "69aa9a79-153d-4e22-b06f-307a5561a8d6"
      },
      "source": [
        "from federated import evaluate_new_manager\n",
        "\n",
        "bias_comparison_managers = [evaluate_new_manager('Fed Bias '+ str(bias), default_training_dataset, default_testing_dataset, p=bias, n_rounds=default_n_rounds, target_accuracy=default_target_accuracy, model=DefaultNet) for bias in tqdm([0.0, 0.4, 0.8, 0.9, 0.95, 0.98, 0.99, 1.0], desc='Managers')]"
      ],
      "execution_count": null,
      "outputs": [
        {
          "output_type": "display_data",
          "data": {
            "application/vnd.jupyter.widget-view+json": {
              "model_id": "7e03ac71917b4e0eac8fa802eac9bd84",
              "version_minor": 0,
              "version_major": 2
            },
            "text/plain": [
              "HBox(children=(FloatProgress(value=0.0, description='Managers', max=8.0, style=ProgressStyle(description_width…"
            ]
          },
          "metadata": {
            "tags": []
          }
        },
        {
          "output_type": "stream",
          "text": [
            "Fed Bias 0.0 manager training with 10 worker(s) for 10 rounds.\n"
          ],
          "name": "stdout"
        },
        {
          "output_type": "display_data",
          "data": {
            "application/vnd.jupyter.widget-view+json": {
              "model_id": "324212ab886342dca40594245ef0dabc",
              "version_minor": 0,
              "version_major": 2
            },
            "text/plain": [
              "HBox(children=(FloatProgress(value=0.0, description='Rounds', max=10.0, style=ProgressStyle(description_width=…"
            ]
          },
          "metadata": {
            "tags": []
          }
        },
        {
          "output_type": "stream",
          "text": [
            "\n",
            "Fed Bias 0.0 manager trained 10 rounds. (Test accuracy 94.76% and loss 0.1793.)\n",
            "Fed Bias 0.4 manager training with 10 worker(s) for 10 rounds.\n"
          ],
          "name": "stdout"
        },
        {
          "output_type": "display_data",
          "data": {
            "application/vnd.jupyter.widget-view+json": {
              "model_id": "e3ae5ab083a9423e96ba68e5d2228b96",
              "version_minor": 0,
              "version_major": 2
            },
            "text/plain": [
              "HBox(children=(FloatProgress(value=0.0, description='Rounds', max=10.0, style=ProgressStyle(description_width=…"
            ]
          },
          "metadata": {
            "tags": []
          }
        },
        {
          "output_type": "stream",
          "text": [
            "\n",
            "Fed Bias 0.4 manager trained 10 rounds. (Test accuracy 94.31% and loss 0.1948.)\n",
            "Fed Bias 0.8 manager training with 10 worker(s) for 10 rounds.\n"
          ],
          "name": "stdout"
        },
        {
          "output_type": "display_data",
          "data": {
            "application/vnd.jupyter.widget-view+json": {
              "model_id": "a36e9aa4b8314a758d23c91273114711",
              "version_minor": 0,
              "version_major": 2
            },
            "text/plain": [
              "HBox(children=(FloatProgress(value=0.0, description='Rounds', max=10.0, style=ProgressStyle(description_width=…"
            ]
          },
          "metadata": {
            "tags": []
          }
        },
        {
          "output_type": "stream",
          "text": [
            "\n",
            "Fed Bias 0.8 manager trained 10 rounds. (Test accuracy 92.03% and loss 0.2701.)\n",
            "Fed Bias 0.9 manager training with 10 worker(s) for 10 rounds.\n"
          ],
          "name": "stdout"
        },
        {
          "output_type": "display_data",
          "data": {
            "application/vnd.jupyter.widget-view+json": {
              "model_id": "88925a8084364814b03c2ea2d7a44772",
              "version_minor": 0,
              "version_major": 2
            },
            "text/plain": [
              "HBox(children=(FloatProgress(value=0.0, description='Rounds', max=10.0, style=ProgressStyle(description_width=…"
            ]
          },
          "metadata": {
            "tags": []
          }
        },
        {
          "output_type": "stream",
          "text": [
            "\n",
            "Fed Bias 0.9 manager trained 10 rounds. (Test accuracy 90.40% and loss 0.3349.)\n",
            "Fed Bias 0.95 manager training with 10 worker(s) for 10 rounds.\n"
          ],
          "name": "stdout"
        },
        {
          "output_type": "display_data",
          "data": {
            "application/vnd.jupyter.widget-view+json": {
              "model_id": "f934cf0509874a28ac403f33f4057efd",
              "version_minor": 0,
              "version_major": 2
            },
            "text/plain": [
              "HBox(children=(FloatProgress(value=0.0, description='Rounds', max=10.0, style=ProgressStyle(description_width=…"
            ]
          },
          "metadata": {
            "tags": []
          }
        },
        {
          "output_type": "stream",
          "text": [
            "\n",
            "Fed Bias 0.95 manager trained 10 rounds. (Test accuracy 88.05% and loss 0.4556.)\n",
            "Fed Bias 0.98 manager training with 10 worker(s) for 10 rounds.\n"
          ],
          "name": "stdout"
        },
        {
          "output_type": "display_data",
          "data": {
            "application/vnd.jupyter.widget-view+json": {
              "model_id": "a30052a7727f4e78ae0227a88419fb06",
              "version_minor": 0,
              "version_major": 2
            },
            "text/plain": [
              "HBox(children=(FloatProgress(value=0.0, description='Rounds', max=10.0, style=ProgressStyle(description_width=…"
            ]
          },
          "metadata": {
            "tags": []
          }
        },
        {
          "output_type": "stream",
          "text": [
            "\n",
            "Fed Bias 0.98 manager trained 10 rounds. (Test accuracy 83.63% and loss 0.7151.)\n",
            "Fed Bias 0.99 manager training with 10 worker(s) for 10 rounds.\n"
          ],
          "name": "stdout"
        },
        {
          "output_type": "display_data",
          "data": {
            "application/vnd.jupyter.widget-view+json": {
              "model_id": "e8f86b3452ff4698970e7abde896799f",
              "version_minor": 0,
              "version_major": 2
            },
            "text/plain": [
              "HBox(children=(FloatProgress(value=0.0, description='Rounds', max=10.0, style=ProgressStyle(description_width=…"
            ]
          },
          "metadata": {
            "tags": []
          }
        },
        {
          "output_type": "stream",
          "text": [
            "\n",
            "Fed Bias 0.99 manager trained 10 rounds. (Test accuracy 77.15% and loss 0.9812.)\n",
            "Fed Bias 1.0 manager training with 10 worker(s) for 10 rounds.\n"
          ],
          "name": "stdout"
        },
        {
          "output_type": "display_data",
          "data": {
            "application/vnd.jupyter.widget-view+json": {
              "model_id": "0e00c80f03d54ef28f5318a62e7b26d4",
              "version_minor": 0,
              "version_major": 2
            },
            "text/plain": [
              "HBox(children=(FloatProgress(value=0.0, description='Rounds', max=10.0, style=ProgressStyle(description_width=…"
            ]
          },
          "metadata": {
            "tags": []
          }
        },
        {
          "output_type": "stream",
          "text": [
            "\n",
            "Fed Bias 1.0 manager trained 10 rounds. (Test accuracy 74.07% and loss 1.5999.)\n",
            "\n"
          ],
          "name": "stdout"
        },
        {
          "output_type": "display_data",
          "data": {
            "image/png": "[encoded data removed]",
            "text/plain": [
              "<Figure size 432x288 with 1 Axes>"
            ]
          },
          "metadata": {
            "tags": [],
            "needs_background": "light"
          }
        },
        {
          "output_type": "display_data",
          "data": {
            "image/png": "[encoded data removed]",
            "text/plain": [
              "<Figure size 432x288 with 1 Axes>"
            ]
          },
          "metadata": {
            "tags": [],
            "needs_background": "light"
          }
        },
        {
          "output_type": "display_data",
          "data": {
            "image/png": "[encoded data removed]",
            "text/plain": [
              "<Figure size 432x288 with 1 Axes>"
            ]
          },
          "metadata": {
            "tags": [],
            "needs_background": "light"
          }
        },
        {
          "output_type": "display_data",
          "data": {
            "image/png": "[encoded data removed]",
            "text/plain": [
              "<Figure size 432x288 with 1 Axes>"
            ]
          },
          "metadata": {
            "tags": [],
            "needs_background": "light"
          }
        },
        {
          "output_type": "display_data",
          "data": {
            "image/png": "[encoded data removed]",
            "text/plain": [
              "<Figure size 432x288 with 1 Axes>"
            ]
          },
          "metadata": {
            "tags": [],
            "needs_background": "light"
          }
        },
        {
          "output_type": "display_data",
          "data": {
            "image/png": "[encoded data removed]",
            "text/plain": [
              "<Figure size 432x288 with 1 Axes>"
            ]
          },
          "metadata": {
            "tags": [],
            "needs_background": "light"
          }
        },
        {
          "output_type": "display_data",
          "data": {
            "image/png": "[encoded data removed]",
            "text/plain": [
              "<Figure size 432x288 with 1 Axes>"
            ]
          },
          "metadata": {
            "tags": [],
            "needs_background": "light"
          }
        },
        {
          "output_type": "display_data",
          "data": {
            "image/png": "[encoded data removed]",
            "text/plain": [
              "<Figure size 432x288 with 1 Axes>"
            ]
          },
          "metadata": {
            "tags": [],
            "needs_background": "light"
          }
        },
        {
          "output_type": "display_data",
          "data": {
            "image/png": "[encoded data removed]",
            "text/plain": [
              "<Figure size 432x288 with 1 Axes>"
            ]
          },
          "metadata": {
            "tags": [],
            "needs_background": "light"
          }
        },
        {
          "output_type": "display_data",
          "data": {
            "image/png": "[encoded data removed]",
            "text/plain": [
              "<Figure size 432x288 with 1 Axes>"
            ]
          },
          "metadata": {
            "tags": [],
            "needs_background": "light"
          }
        },
        {
          "output_type": "display_data",
          "data": {
            "image/png": "[encoded data removed]",
            "text/plain": [
              "<Figure size 432x288 with 1 Axes>"
            ]
          },
          "metadata": {
            "tags": [],
            "needs_background": "light"
          }
        },
        {
          "output_type": "display_data",
          "data": {
            "image/png": "[encoded data removed]",
            "text/plain": [
              "<Figure size 432x288 with 1 Axes>"
            ]
          },
          "metadata": {
            "tags": [],
            "needs_background": "light"
          }
        },
        {
          "output_type": "display_data",
          "data": {
            "image/png": "[encoded data removed]",
            "text/plain": [
              "<Figure size 432x288 with 1 Axes>"
            ]
          },
          "metadata": {
            "tags": [],
            "needs_background": "light"
          }
        },
        {
          "output_type": "display_data",
          "data": {
            "image/png": "[encoded data removed]",
            "text/plain": [
              "<Figure size 432x288 with 1 Axes>"
            ]
          },
          "metadata": {
            "tags": [],
            "needs_background": "light"
          }
        },
        {
          "output_type": "display_data",
          "data": {
            "image/png": "[encoded data removed]",
            "text/plain": [
              "<Figure size 432x288 with 1 Axes>"
            ]
          },
          "metadata": {
            "tags": [],
            "needs_background": "light"
          }
        },
        {
          "output_type": "display_data",
          "data": {
            "image/png": "[encoded data removed]",
            "text/plain": [
              "<Figure size 432x288 with 1 Axes>"
            ]
          },
          "metadata": {
            "tags": [],
            "needs_background": "light"
          }
        }
      ]
    },
    {
      "cell_type": "code",
      "metadata": {
        "id": "DNalOu2oDMch",
        "colab_type": "code",
        "colab": {
          "base_uri": "https://localhost:8080/",
          "height": 541
        },
        "outputId": "c3d4abbd-6524-422a-9d14-7163c400d344"
      },
      "source": [
        "plot_managers(bias_comparison_managers)"
      ],
      "execution_count": null,
      "outputs": [
        {
          "output_type": "display_data",
          "data": {
            "image/png": "[encoded data removed]",
            "text/plain": [
              "<Figure size 432x288 with 1 Axes>"
            ]
          },
          "metadata": {
            "tags": [],
            "needs_background": "light"
          }
        },
        {
          "output_type": "display_data",
          "data": {
            "image/png": "[encoded data removed]",
            "text/plain": [
              "<Figure size 432x288 with 1 Axes>"
            ]
          },
          "metadata": {
            "tags": [],
            "needs_background": "light"
          }
        }
      ]
    },
    {
      "cell_type": "code",
      "metadata": {
        "id": "U6_iLK-1L6Pt",
        "colab_type": "code",
        "colab": {}
      },
      "source": [
        ""
      ],
      "execution_count": null,
      "outputs": []
    }
  ]
}
